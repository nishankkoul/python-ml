{
 "cells": [
  {
   "cell_type": "markdown",
   "id": "335f26f2",
   "metadata": {},
   "source": [
    "##### Classes and Objects\n",
    "\n",
    "Object-oriented Programming is a programming paradigm that uses \"objects\" to design applications and computer programs. OOP allows for modeling real-world scenarios using classes and objects. This lesson covers the basic of creating classes and objects, including instance variables and methods"
   ]
  },
  {
   "cell_type": "code",
   "execution_count": 2,
   "id": "05366c66",
   "metadata": {},
   "outputs": [],
   "source": [
    "## A class is a blueprint for creating objects, attributes, methods.\n",
    "\n",
    "class Car:\n",
    "    pass\n",
    "\n",
    "audi = Car()  # An object is an instance of a class. Here audi is an object. Using the blueprint (Car), you can create multiple actual cars (audi, bmw). Each object is independent of the other.\n",
    "\n",
    "bmw= Car()"
   ]
  },
  {
   "cell_type": "code",
   "execution_count": null,
   "id": "3d8c3f69",
   "metadata": {},
   "outputs": [],
   "source": [
    "print(audi)  # <__main__.Car object at 0x000002213F959DF0>"
   ]
  },
  {
   "cell_type": "code",
   "execution_count": null,
   "id": "c8f36db5",
   "metadata": {},
   "outputs": [],
   "source": [
    "## Instance Variable\n",
    "\n",
    "## Let's see how we define attributes within a class\n",
    "\n",
    "class Dog:\n",
    "    ## Constructor\n",
    "\n",
    "    def __init__(self,name,age):  ## Here name and age are the two required positional arguments when you create an object. This name and age are called instance variables when you define them inside the constructor (__init__) using self\n",
    "        self.name = name\n",
    "        self.age = age\n",
    "\n",
    "        ## name and age are like a few properties for Dog\n",
    "\n",
    "## Object Creation \n",
    "\n",
    "dog1 = Dog(\"Tommy\", 5)\n",
    "dog2 = Dog(\"Bruno\", 3)\n",
    "\n",
    "print(dog1.name)\n",
    "print(dog1.age)\n",
    "print(dog2.name)\n",
    "print(dog2.age)\n",
    "\n",
    "'''\n",
    "Tommy\n",
    "5\n",
    "Bruno\n",
    "3\n",
    "'''"
   ]
  },
  {
   "cell_type": "code",
   "execution_count": null,
   "id": "13a1217e",
   "metadata": {},
   "outputs": [],
   "source": [
    "## Define a class with instance methods\n",
    "\n",
    "class Dog:\n",
    "    def __init__(self, name, age):  # This constructor runs automatically when a new object is created.\n",
    "\n",
    "        self.name = name\n",
    "        self.age = age\n",
    "\n",
    "    def bark(self):  \n",
    "        print(f\"{self.name} says woof!\")\n",
    "\n",
    "    # An instance method is a function defined inside a class that operates on the object (instance). Here, bark() is an instance method. It always has self as its first parameter, so it knows which object’s data to use.\n",
    "\n",
    "dog1 = Dog(\"Leo\", 8)\n",
    "dog1.bark()  # Leo says woof!"
   ]
  },
  {
   "cell_type": "code",
   "execution_count": null,
   "id": "55f2aefd",
   "metadata": {},
   "outputs": [],
   "source": [
    "## Modeling a Bank Account\n",
    "\n",
    "## Define a class for bank account\n",
    "\n",
    "class BankAccount():\n",
    "    def __init__(self, owner, balance = 0):\n",
    "        self.owner = owner\n",
    "        self.balance = balance\n",
    "\n",
    "    def deposit(self, amount):\n",
    "        self.balance += amount\n",
    "        print(f\"{amount} credited. New balance is {self.balance}\")\n",
    "    \n",
    "    def withdraw(self, amount):\n",
    "        if(amount > self.balance):\n",
    "            print(f\"Insufficient Funds\")\n",
    "        else:\n",
    "            self.balance -= amount\n",
    "            print(f\"{amount} debited. New balance is {self.balance}\")\n",
    "\n",
    "    def get_balance(self):\n",
    "        print(f\"Your balance is  {self.balance}. Balance fetched successfully\")\n",
    "\n",
    "## Create an object\n",
    "\n",
    "account1 = BankAccount(\"John\")\n",
    "account1.get_balance()  # Your balance is  0. Balance fetched successfully\n",
    "account1.withdraw(2000)  # Insufficient Funds\n",
    "\n",
    "account2 = BankAccount(\"Nishank\", 99100)\n",
    "account2.deposit(3400)  # 3400 credited. New balance is 102500\n"
   ]
  }
 ],
 "metadata": {
  "kernelspec": {
   "display_name": "Python 3",
   "language": "python",
   "name": "python3"
  },
  "language_info": {
   "codemirror_mode": {
    "name": "ipython",
    "version": 3
   },
   "file_extension": ".py",
   "mimetype": "text/x-python",
   "name": "python",
   "nbconvert_exporter": "python",
   "pygments_lexer": "ipython3",
   "version": "3.12.0"
  }
 },
 "nbformat": 4,
 "nbformat_minor": 5
}
