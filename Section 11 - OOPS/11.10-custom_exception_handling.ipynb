{
 "cells": [
  {
   "cell_type": "markdown",
   "id": "2a224ca7",
   "metadata": {},
   "source": [
    "##### Custom Exception: Raise and Throw an Exception"
   ]
  },
  {
   "cell_type": "code",
   "execution_count": 1,
   "id": "94c06cc3",
   "metadata": {},
   "outputs": [],
   "source": [
    "class Error(Exception):\n",
    "    pass\n",
    "\n",
    "class dobException(Error):\n",
    "    pass"
   ]
  },
  {
   "cell_type": "code",
   "execution_count": null,
   "id": "4f5ae222",
   "metadata": {},
   "outputs": [],
   "source": [
    "year = int(input(\"Enter your birth year:\"))\n",
    "age = 2025 - year\n",
    "\n",
    "try:\n",
    "    if(age <= 30 and age >= 20):\n",
    "        print(\"Your age is under the eligibility criteria\")\n",
    "    else:\n",
    "        raise dobException\n",
    "except dobException:\n",
    "    print(\"Your age is not under the eligibility criteria\")"
   ]
  }
 ],
 "metadata": {
  "kernelspec": {
   "display_name": "Python 3",
   "language": "python",
   "name": "python3"
  },
  "language_info": {
   "codemirror_mode": {
    "name": "ipython",
    "version": 3
   },
   "file_extension": ".py",
   "mimetype": "text/x-python",
   "name": "python",
   "nbconvert_exporter": "python",
   "pygments_lexer": "ipython3",
   "version": "3.12.0"
  }
 },
 "nbformat": 4,
 "nbformat_minor": 5
}
