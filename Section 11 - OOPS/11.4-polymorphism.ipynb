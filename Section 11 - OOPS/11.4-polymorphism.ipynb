{
 "cells": [
  {
   "cell_type": "markdown",
   "id": "6ac430e2",
   "metadata": {},
   "source": [
    "##### Polymorphism\n",
    "\n",
    "Polymorphism is a core concept in OOP that allows objects of different classes to be treated as objects of a common superclass. It provides a way to perform a single action in different forms. Polymorphism is typically achieved through method overridding and interfaces. "
   ]
  },
  {
   "cell_type": "markdown",
   "id": "17363113",
   "metadata": {},
   "source": [
    "##### Method Overridding\n",
    "\n",
    "Method Overridding allows a child class to provide a specific implementation of a method that is already defined in its parent class"
   ]
  },
  {
   "cell_type": "code",
   "execution_count": null,
   "id": "86394e43",
   "metadata": {},
   "outputs": [],
   "source": [
    "## Base Class\n",
    "\n",
    "class Animal():\n",
    "    # Not writing any constructor because not defining any attributes\n",
    "    def speak(self):\n",
    "        print(f\"Sound of the animal\")\n",
    "\n",
    "## Dervied Class 1\n",
    "\n",
    "class Dog(Animal):\n",
    "    def speak(self):\n",
    "        print(\"Woof\")\n",
    "\n",
    "## Dervied Class 2\n",
    "\n",
    "class Cat(Animal):\n",
    "    def speak(self):\n",
    "        print(\"Meow\")\n",
    "\n",
    "## Function that demonstrates Polymorphism\n",
    "\n",
    "def animal_speak(animal):  \n",
    "    animal.speak()\n",
    "\n",
    "# The above function takes an animal object (could be a Dog, Cat, or any other subclass of Animal). It calls .speak() — but thanks to polymorphism, the correct version of speak() is chosen depending on the object passed.\n",
    "\n",
    "## Object creation\n",
    "\n",
    "dog = Dog()\n",
    "cat = Cat()\n",
    "dog.speak()  # Woof\n",
    "cat.speak()  # Meow\n",
    "animal_speak(dog)  # Woof\n"
   ]
  },
  {
   "cell_type": "code",
   "execution_count": null,
   "id": "94b625b9",
   "metadata": {},
   "outputs": [],
   "source": [
    "## Polymorphism with Functions and Methods\n",
    "\n",
    "## Base Class\n",
    "\n",
    "class Shape():\n",
    "    def area(self):\n",
    "        return \"The area of shape\"\n",
    "    \n",
    "## Dervied Class 1 \n",
    "\n",
    "class Rectangle(Shape):\n",
    "    def __init__(self, length, breadth):\n",
    "        self.length = length\n",
    "        self.breadth = breadth\n",
    "\n",
    "    def area(self):\n",
    "        return self.length*self.breadth\n",
    "    \n",
    "## Derived Class 2\n",
    "\n",
    "class Circle(Shape):\n",
    "    def __init__(self, radius):\n",
    "        self.radius = radius\n",
    "\n",
    "    def area(self):\n",
    "        return 3.14 * self.radius * self.radius\n",
    "    \n",
    "## Function that demonstrates polymorphism\n",
    "\n",
    "def print_area(shape):\n",
    "    print(f\"The area is {shape.area()}\")\n",
    "\n",
    "## Object Creation\n",
    "\n",
    "rectangle = Rectangle(4,5)\n",
    "circle = Circle(5)\n",
    "\n",
    "print_area(rectangle)  # The area is 20\n",
    "print_area(circle)  # The area is 78.5"
   ]
  }
 ],
 "metadata": {
  "kernelspec": {
   "display_name": "Python 3",
   "language": "python",
   "name": "python3"
  },
  "language_info": {
   "codemirror_mode": {
    "name": "ipython",
    "version": 3
   },
   "file_extension": ".py",
   "mimetype": "text/x-python",
   "name": "python",
   "nbconvert_exporter": "python",
   "pygments_lexer": "ipython3",
   "version": "3.12.0"
  }
 },
 "nbformat": 4,
 "nbformat_minor": 5
}
