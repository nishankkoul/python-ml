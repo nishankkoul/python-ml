{
 "cells": [
  {
   "cell_type": "markdown",
   "id": "33170025",
   "metadata": {},
   "source": [
    "##### Encapsulation\n",
    "\n",
    "Encapsulation is the concept of wrapping data (variables) and methods (functions) together as a single unit. It restricts direct access to some of the object's components, which is a means of preventing accidental interference and misuse of the data."
   ]
  },
  {
   "cell_type": "code",
   "execution_count": null,
   "id": "d5836731",
   "metadata": {},
   "outputs": [],
   "source": [
    "## Public, Protected and Private Variables or access modifiers\n",
    "\n",
    "class Person():\n",
    "    def __init__(self, name, age):\n",
    "        self.name = name  # public variable\n",
    "        self.age = age  # public variable\n",
    "\n",
    "person = Person(\"Nishank\", 22)\n",
    "print(person.name)\n",
    "print(person.age)  # You are able to access the attribute/property from outside the class."
   ]
  },
  {
   "cell_type": "code",
   "execution_count": null,
   "id": "17df627a",
   "metadata": {},
   "outputs": [],
   "source": [
    "## List of Methods associated with an object of a class\n",
    "\n",
    "dir(person)\n",
    "\n",
    "## All these variables are publicly available\n",
    "\n",
    "'''\n",
    "['__class__',\n",
    " '__delattr__',\n",
    " '__dict__',\n",
    " '__dir__',\n",
    " '__doc__',\n",
    " '__eq__',\n",
    " '__format__',\n",
    " '__ge__',\n",
    " '__getattribute__',\n",
    " '__getstate__',\n",
    " '__gt__',\n",
    " '__hash__',\n",
    " '__init__',\n",
    " '__init_subclass__',\n",
    " '__le__',\n",
    " '__lt__',\n",
    " '__module__',\n",
    " '__ne__',\n",
    " '__new__',\n",
    " '__reduce__',\n",
    " '__reduce_ex__',\n",
    " '__repr__',\n",
    " '__setattr__',\n",
    " '__sizeof__',\n",
    " '__str__',\n",
    " '__subclasshook__',\n",
    " '__weakref__',\n",
    " 'age',\n",
    " 'name']\n",
    "'''"
   ]
  },
  {
   "cell_type": "code",
   "execution_count": null,
   "id": "450e97c3",
   "metadata": {},
   "outputs": [],
   "source": [
    "class Person():\n",
    "    def __init__(self, name, age, city):\n",
    "        self.__name = name  # private variable (cannot be accessed outside the class)\n",
    "        self.__age = age  # private variable\n",
    "        self.city = city  # public variable\n"
   ]
  },
  {
   "cell_type": "code",
   "execution_count": null,
   "id": "8761a579",
   "metadata": {},
   "outputs": [],
   "source": [
    "person = Person(\"Nishank\", 22, \"Delhi\")\n",
    "dir(person)\n",
    "\n",
    "'''\n",
    "['_Person__age',  ## This is how private variables are written\n",
    " '_Person__name',\n",
    " '__class__',\n",
    " '__delattr__',\n",
    " '__dict__',\n",
    " '__dir__',\n",
    " '__doc__',\n",
    " '__eq__',\n",
    " '__format__',\n",
    " '__ge__',\n",
    " '__getattribute__',\n",
    " '__getstate__',\n",
    " '__gt__',\n",
    " '__hash__',\n",
    " '__init__',\n",
    " '__init_subclass__',\n",
    " '__le__',\n",
    " '__lt__',\n",
    " '__module__',\n",
    " '__ne__',\n",
    " '__new__',\n",
    " '__reduce__',\n",
    " '__reduce_ex__',\n",
    " '__repr__',\n",
    " '__setattr__',\n",
    " '__sizeof__',\n",
    " '__str__',\n",
    " '__subclasshook__',\n",
    " '__weakref__',\n",
    " 'city']\n",
    "'''"
   ]
  },
  {
   "cell_type": "code",
   "execution_count": null,
   "id": "14f3a5c3",
   "metadata": {},
   "outputs": [],
   "source": [
    "def get_name(person):\n",
    "    print(person.name)\n",
    "\n",
    "get_name(person)\n",
    "\n",
    "## Error: AttributeError: 'Person' object has no attribute 'name'"
   ]
  },
  {
   "cell_type": "code",
   "execution_count": null,
   "id": "7a834f3c",
   "metadata": {},
   "outputs": [],
   "source": [
    "class Person():\n",
    "    def __init__(self, name, age, gender):\n",
    "        self._name = name  # protected variable (can be accessed only by the derived class)\n",
    "        self._age = age  # protected variable\n",
    "        self.gender = gender  # public variable\n",
    "\n",
    "class Employee(Person):\n",
    "    def __init__(self, name, age, gender):\n",
    "        super().__init__(name, age, gender)\n",
    "\n",
    "emp = Employee(\"Nishank\", 22, \"Male\")\n",
    "print(emp._name)  # Nishank\n",
    "print(emp._age)  # 22"
   ]
  },
  {
   "cell_type": "code",
   "execution_count": null,
   "id": "937ced56",
   "metadata": {},
   "outputs": [],
   "source": []
  }
 ],
 "metadata": {
  "kernelspec": {
   "display_name": "Python 3",
   "language": "python",
   "name": "python3"
  },
  "language_info": {
   "codemirror_mode": {
    "name": "ipython",
    "version": 3
   },
   "file_extension": ".py",
   "mimetype": "text/x-python",
   "name": "python",
   "nbconvert_exporter": "python",
   "pygments_lexer": "ipython3",
   "version": "3.12.0"
  }
 },
 "nbformat": 4,
 "nbformat_minor": 5
}
