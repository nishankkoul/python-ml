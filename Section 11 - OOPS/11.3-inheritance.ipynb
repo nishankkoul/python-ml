{
 "cells": [
  {
   "cell_type": "markdown",
   "id": "aba146e9",
   "metadata": {},
   "source": [
    "##### Inheritance\n",
    "\n",
    "Inheritance is a fundamental concept in OOP that allows a class to inherit attributes and methods from another class. This lesson covers single and multiple inheritance, demonstrating how to create and use them in Python."
   ]
  },
  {
   "cell_type": "code",
   "execution_count": null,
   "id": "7989ea59",
   "metadata": {},
   "outputs": [],
   "source": [
    "## Single Inheritance\n",
    "\n",
    "## Parent Class\n",
    "\n",
    "class Car():\n",
    "    def __init__(self, windows, doors, engine_type):\n",
    "        self.windows = windows\n",
    "        self.doors = doors\n",
    "        self.engine_type = engine_type\n",
    "\n",
    "    def drive(self):\n",
    "        print(f\"The person will drive the {self.engine_type} car\")"
   ]
  },
  {
   "cell_type": "code",
   "execution_count": null,
   "id": "ace3deb2",
   "metadata": {},
   "outputs": [],
   "source": [
    "## Object Creation\n",
    "\n",
    "car1 = Car(4,5,\"petrol\")\n",
    "car1.drive()  # The person will drive the petrol car"
   ]
  },
  {
   "cell_type": "code",
   "execution_count": 10,
   "id": "4d58b4d9",
   "metadata": {},
   "outputs": [],
   "source": [
    "## Creating a child class Tesla from parent class Car\n",
    "\n",
    "class Tesla(Car):\n",
    "    def __init__(self, windows, doors, engine_type, is_selfdriving):\n",
    "\n",
    "        # Call parent class constructor\n",
    "        super().__init__(windows, doors, engine_type)  ## Instead of again writing all the attributes and associate with self, we use the super() keyword which calls the parent class constructor \n",
    "\n",
    "        # Add Tesla-specific attribute\n",
    "        self.is_selfdriving = is_selfdriving\n",
    "\n",
    "    def self_driving(self):\n",
    "        print(f\"Tesla supports self driving -> {self.is_selfdriving}\")"
   ]
  },
  {
   "cell_type": "code",
   "execution_count": null,
   "id": "c5829358",
   "metadata": {},
   "outputs": [],
   "source": [
    "## Creating objects of child class\n",
    "\n",
    "tesla1 = Tesla(4,2,\"ev\", True)\n",
    "\n",
    "tesla1.drive()  # The person will drive the ev car (This shows that the child class incorporated all the methods inside the parent class)\n",
    "\n",
    "tesla1.self_driving()  # Tesla supports self driving -> True"
   ]
  },
  {
   "cell_type": "code",
   "execution_count": null,
   "id": "b152be4d",
   "metadata": {},
   "outputs": [],
   "source": [
    "## Multiple Inheritance -> When a class inherits from more than one base class\n",
    "\n",
    "## Base Class 1\n",
    "\n",
    "class Animal():\n",
    "    def __init__(self, name):\n",
    "        self.name = name\n",
    "\n",
    "    def speak(self):\n",
    "        print(f\"Subclass must implement this method\")\n",
    "\n",
    "# Base Class 2\n",
    "\n",
    "class Pet():\n",
    "    def __init__(self, owner):\n",
    "        self.owner = owner\n",
    "\n",
    "## Class that will inherit Base Class 1 and 2\n",
    "\n",
    "class Dog(Animal, Pet):\n",
    "    def __init__(self, name, owner):\n",
    "        Animal.__init__(self, name)  ## This is another way instead of super().__init__\n",
    "        Pet.__init__(self, owner)\n",
    "\n",
    "    def speak(self):  # Make a note, there is also a speak() method in class Animal\n",
    "        print(f\"{self.name} says woof\")\n",
    "    \n",
    "dog1 = Dog(\"Lucy\", 3)\n",
    "dog1.speak()  # Lucy says woof (This shows that since we created another speak method inside the subclass, the 2nd speak method is considered because the object we created was of Dog class and not Animal specifically. Therefore, it overrides the speak method in Animal class)"
   ]
  }
 ],
 "metadata": {
  "kernelspec": {
   "display_name": "Python 3",
   "language": "python",
   "name": "python3"
  },
  "language_info": {
   "codemirror_mode": {
    "name": "ipython",
    "version": 3
   },
   "file_extension": ".py",
   "mimetype": "text/x-python",
   "name": "python",
   "nbconvert_exporter": "python",
   "pygments_lexer": "ipython3",
   "version": "3.12.0"
  }
 },
 "nbformat": 4,
 "nbformat_minor": 5
}
