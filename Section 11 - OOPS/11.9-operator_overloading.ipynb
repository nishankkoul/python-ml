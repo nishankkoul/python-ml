{
 "cells": [
  {
   "cell_type": "markdown",
   "id": "99136a89",
   "metadata": {},
   "source": [
    "##### Operator Overloading\n",
    "\n",
    "Operator overloading allows you to define the behaviour of operators (+, -, * etc.) for custom objects. You achieve this by overridding specific magic methods in your class.\n",
    "\n",
    "Common Operator Overloading Magic Methods:-\n",
    "\n",
    "- `__add__(self, other)` : Adds two objects using the '+' operator\n",
    "- `__sub__(self, other)` : Subtracts two objects using the '-' operator\n",
    "- `__mul__(self, other)` : Multiplies two objects using the '*' operator\n",
    "- `__truediv(self, other)` : Divided two objects using the '/' operator\n",
    "- `__eq__(self, other)` : Checks if two objects are equal using the '==' operator\n",
    "- `__lt__(self, other)` : Checks if one object is lesser than the other using the '<' op"
   ]
  },
  {
   "cell_type": "code",
   "execution_count": null,
   "id": "45671c1c",
   "metadata": {},
   "outputs": [],
   "source": [
    "## Mathematical Operation for Vectors\n",
    "\n",
    "class Vector():\n",
    "    def __init__(self, x, y):\n",
    "        self.x = x\n",
    "        self.y = y\n",
    "\n",
    "    def __add__(self, other):\n",
    "        return Vector(self.x+other.x, self.y+other.y)\n",
    "    \n",
    "    def __sub__(self, other):\n",
    "        return Vector(self.x-other.x, self.y-other.y)\n",
    "    \n",
    "    def __mul__(self, other):\n",
    "        return Vector(self.x*other.x, self.y*other.y)\n",
    "    \n",
    "    def __eq__(self, other):\n",
    "        return self.x == other.x and self.y == other.y\n",
    "    \n",
    "    def __repr__(self):\n",
    "        return f\"Vector({self.x}, {self.y})\"\n",
    "     \n",
    "vector1 = Vector(1,2)  # This will be considered as self.x and self.y\n",
    "vector2 = Vector(8, 20)  # This will be considered as other.x and other.y\n",
    "\n",
    "print(vector1 + vector2)  # Vector(9, 22)\n",
    "print(vector1 - vector2)  # Vector(-7, -18)\n",
    "print(vector1 * vector2)  # Vector(8, 40)\n",
    "print(vector1 == vector2)  # False\n",
    "\n",
    "'''\n",
    "LOGIC \n",
    "\n",
    "When you do vector1 + vector2, Python calls this __add__ method and adds their x and y separately. \n",
    "\n",
    "This code defines mathematical operations on custom objects (Vector) using operator overloading, making them behave like numbers.\n",
    "'''"
   ]
  }
 ],
 "metadata": {
  "kernelspec": {
   "display_name": "Python 3",
   "language": "python",
   "name": "python3"
  },
  "language_info": {
   "codemirror_mode": {
    "name": "ipython",
    "version": 3
   },
   "file_extension": ".py",
   "mimetype": "text/x-python",
   "name": "python",
   "nbconvert_exporter": "python",
   "pygments_lexer": "ipython3",
   "version": "3.12.0"
  }
 },
 "nbformat": 4,
 "nbformat_minor": 5
}
