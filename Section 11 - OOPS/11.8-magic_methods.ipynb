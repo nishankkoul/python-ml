{
 "cells": [
  {
   "cell_type": "markdown",
   "id": "ce560284",
   "metadata": {},
   "source": [
    "##### Magic Methods\n",
    "\n",
    "Magic methods in Python also known as dunder methods (double underscore methods), are special methods that start and end with double underscores. These methods enable you to define the behaviour of objects for built-in operations, such as arithmetic operations, comparisons and more.\n",
    "\n",
    "Magic Methods are predefined methods in Python that you can override to change the behaviour of your objects. Some common magic methods include:\n",
    "\n",
    "- `__init__` : initializes a new instance of a class\n",
    "- `__str__` : returns a string representation of an object\n",
    "- `__repr__` : returns an official string representation of an object\n",
    "- `__len__` : returns the length of an object\n",
    "- `__getitem__` : get an item from a container\n",
    "- `__setitem__` : set an item in a container"
   ]
  },
  {
   "cell_type": "code",
   "execution_count": null,
   "id": "51dbd8c8",
   "metadata": {},
   "outputs": [],
   "source": [
    "class Person():\n",
    "    pass\n",
    "\n",
    "person = Person()\n",
    "print(\"These are all the magic methods \\n\\n\")\n",
    "dir(person)\n",
    "\n",
    "'''\n",
    "These are all the magic methods\n",
    "\n",
    "['__class__',\n",
    " '__delattr__',\n",
    " '__dict__',\n",
    " '__dir__',\n",
    " '__doc__',\n",
    " '__eq__',\n",
    " '__format__',\n",
    " '__ge__',\n",
    " '__getattribute__',\n",
    " '__getstate__',\n",
    " '__gt__',\n",
    " '__hash__',\n",
    " '__init__',\n",
    " '__init_subclass__',\n",
    " '__le__',\n",
    " '__lt__',\n",
    " '__module__',\n",
    " '__ne__',\n",
    " '__new__',\n",
    " '__reduce__',\n",
    " '__reduce_ex__',\n",
    " '__repr__',\n",
    " '__setattr__',\n",
    " '__sizeof__',\n",
    " '__str__',\n",
    " '__subclasshook__',\n",
    " '__weakref__']\n",
    "'''"
   ]
  },
  {
   "cell_type": "code",
   "execution_count": null,
   "id": "c5d6613f",
   "metadata": {},
   "outputs": [],
   "source": [
    "## Basic Methods\n",
    "\n",
    "class Person():\n",
    "    def __init__(self, name, age):\n",
    "        self.name = name\n",
    "        self.age = age\n",
    "\n",
    "person = Person(\"Nishank\", 22)\n",
    "print(person)  # <__main__.Person object at 0x0000021DC3DD3890>\n",
    "\n",
    "## The above output came as a result of __str__ method. Let's modify this method"
   ]
  },
  {
   "cell_type": "code",
   "execution_count": null,
   "id": "85d1aaa4",
   "metadata": {},
   "outputs": [],
   "source": [
    "class Person():\n",
    "    def __init__(self, name, age):\n",
    "        self.name = name\n",
    "        self.age = age\n",
    "\n",
    "    def __str__(self):\n",
    "        return f\"This is a modified __str__ method\"\n",
    "\n",
    "person = Person(\"Nishank\", 22)\n",
    "print(person)  # This is a modified __str__ method"
   ]
  }
 ],
 "metadata": {
  "kernelspec": {
   "display_name": "Python 3",
   "language": "python",
   "name": "python3"
  },
  "language_info": {
   "codemirror_mode": {
    "name": "ipython",
    "version": 3
   },
   "file_extension": ".py",
   "mimetype": "text/x-python",
   "name": "python",
   "nbconvert_exporter": "python",
   "pygments_lexer": "ipython3",
   "version": "3.12.0"
  }
 },
 "nbformat": 4,
 "nbformat_minor": 5
}
