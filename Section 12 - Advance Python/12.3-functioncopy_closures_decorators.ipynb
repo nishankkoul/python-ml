{
 "cells": [
  {
   "cell_type": "markdown",
   "id": "637546d3",
   "metadata": {},
   "source": [
    "##### Decorators\n",
    "\n",
    "Decorators are a powerful and flexible feature in Python that allows you to modify the behaviour of a function or class method. They are commonly used to add functionality to functions or methods without modifying their actual code. This lesson covers the basic of decorators, including how to create and use them"
   ]
  },
  {
   "cell_type": "code",
   "execution_count": null,
   "id": "d891f80f",
   "metadata": {},
   "outputs": [],
   "source": [
    "## function copy\n",
    "\n",
    "def welcome():\n",
    "    return \"Welcome to the Advanced Python Course\"\n",
    "\n",
    "print(welcome())  # Welcome to the Advanced Python Course"
   ]
  },
  {
   "cell_type": "code",
   "execution_count": null,
   "id": "44729c23",
   "metadata": {},
   "outputs": [],
   "source": [
    "wel = welcome\n",
    "print(wel())  # Welcome to the Advanced Python Course\n",
    "\n",
    "## Deleting welcome method\n",
    "\n",
    "del welcome\n",
    "print(wel())  # Welcome to the Advanced Python Course\n",
    "\n",
    "## Even after deleting the actual function, the copied function is still working."
   ]
  },
  {
   "cell_type": "markdown",
   "id": "753879a8",
   "metadata": {},
   "source": [
    "##### Closures\n",
    "\n",
    "A closure is when a small function is inside another function and it remembers the values from the outer function even after the outer one is done running."
   ]
  },
  {
   "cell_type": "code",
   "execution_count": null,
   "id": "807fc9af",
   "metadata": {},
   "outputs": [],
   "source": [
    "def main_welcome(msg):\n",
    "    def sub_main_welcome():\n",
    "        print(\"Welcome to the advanced python course\")\n",
    "        print(msg)\n",
    "        print(\"Please learn these concepts thoroughly\")\n",
    "    return sub_main_welcome()\n",
    "\n",
    "main_welcome(\"Welcome Everyone\")\n",
    "\n",
    "'''\n",
    "Welcome to the advanced python course\n",
    "Welcome Everyone\n",
    "Please learn these concepts thoroughly\n",
    "'''"
   ]
  },
  {
   "cell_type": "code",
   "execution_count": null,
   "id": "bb48fcc5",
   "metadata": {},
   "outputs": [],
   "source": [
    "def main_welcome(func):\n",
    "    def sub_main_welcome():\n",
    "        print(\"Welcome to the advanced python course\")\n",
    "        func(\"Welcome to this tutorial\")\n",
    "        print(\"Please learn these concepts thoroughly\")\n",
    "    return sub_main_welcome()\n",
    "\n",
    "main_welcome(print)\n",
    "\n",
    "'''\n",
    "Welcome to the advanced python course\n",
    "Welcome to this tutorial\n",
    "Please learn these concepts thoroughly\n",
    "'''"
   ]
  },
  {
   "cell_type": "code",
   "execution_count": null,
   "id": "ae791aaa",
   "metadata": {},
   "outputs": [],
   "source": [
    "def main_welcome(func, lst):\n",
    "    def sub_main_welcome():\n",
    "        print(\"Welcome to the advanced python course\")\n",
    "        print(func(lst))\n",
    "        print(\"Please learn these concepts thoroughly\")\n",
    "    return sub_main_welcome()\n",
    "\n",
    "main_welcome(len, [1,2,3,4,5])\n",
    "\n",
    "'''\n",
    "Welcome to the advanced python course\n",
    "5\n",
    "Please learn these concepts thoroughly\n",
    "'''"
   ]
  },
  {
   "cell_type": "code",
   "execution_count": 18,
   "id": "30a77b57",
   "metadata": {},
   "outputs": [],
   "source": [
    "def main_welcome(func):\n",
    "    def sub_main_welcome():\n",
    "        print(\"Welcome to the advanced python course\")\n",
    "        func()\n",
    "        print(\"Please learn these concepts thoroughly\")\n",
    "    return sub_main_welcome()"
   ]
  },
  {
   "cell_type": "code",
   "execution_count": null,
   "id": "c96116e8",
   "metadata": {},
   "outputs": [],
   "source": [
    "## Decorator\n",
    "\n",
    "@main_welcome\n",
    "def course_intro():\n",
    "    print(\"This is Advanced Python Course\")\n",
    "\n",
    "'''\n",
    "Welcome to the advanced python course\n",
    "This is Advanced Python Course\n",
    "Please learn these concepts thoroughly\n",
    "'''\n",
    "\n",
    "'''\n",
    "LOGIC\n",
    "\n",
    "What is happening with @main_welcome\n",
    "\n",
    "Writing @main_welcome above a function is the same as writing: course_intro = main_welcome(course_intro)\n",
    "\n",
    "So, course_intro (the function) is passed into main_welcome.\n",
    "\n",
    "func → now refers to course_intro.\n",
    "'''"
   ]
  },
  {
   "cell_type": "code",
   "execution_count": 22,
   "id": "508a5d7d",
   "metadata": {},
   "outputs": [],
   "source": [
    "## Another Example\n",
    "\n",
    "def my_decorator(func):\n",
    "    def wrapper():\n",
    "        print(\"Something is happening before the function is called\")\n",
    "        func()\n",
    "        print(\"Something is happening after the function is called\")\n",
    "    return wrapper"
   ]
  },
  {
   "cell_type": "code",
   "execution_count": 23,
   "id": "8a4d996e",
   "metadata": {},
   "outputs": [],
   "source": [
    "@my_decorator\n",
    "def passing_func():\n",
    "    print(\"hello world\")"
   ]
  },
  {
   "cell_type": "code",
   "execution_count": null,
   "id": "a36ae538",
   "metadata": {},
   "outputs": [],
   "source": [
    "passing_func()\n",
    "\n",
    "'''\n",
    "Something is happening before the function is called\n",
    "hello world\n",
    "Something is happening after the function is called\n",
    "'''"
   ]
  }
 ],
 "metadata": {
  "kernelspec": {
   "display_name": "Python 3",
   "language": "python",
   "name": "python3"
  },
  "language_info": {
   "codemirror_mode": {
    "name": "ipython",
    "version": 3
   },
   "file_extension": ".py",
   "mimetype": "text/x-python",
   "name": "python",
   "nbconvert_exporter": "python",
   "pygments_lexer": "ipython3",
   "version": "3.12.0"
  }
 },
 "nbformat": 4,
 "nbformat_minor": 5
}
