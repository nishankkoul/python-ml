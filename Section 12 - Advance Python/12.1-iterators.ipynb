{
 "cells": [
  {
   "cell_type": "markdown",
   "id": "2c1b9303",
   "metadata": {},
   "source": [
    "##### Iterators\n",
    "\n",
    "Iterators is an advanced Python concept that allows for efficient looping and memory management. Iterators provide a way to access elements of a collection sequentially without exposing the underlying structure."
   ]
  },
  {
   "cell_type": "code",
   "execution_count": null,
   "id": "9562c045",
   "metadata": {},
   "outputs": [],
   "source": [
    "my_list = [1,2,3,4,5,6,7]\n",
    "for i in my_list:\n",
    "    print(i)\n",
    "\n",
    "print(type(my_list))\n",
    "print(my_list)\n",
    "\n",
    "'''\n",
    "1\n",
    "2\n",
    "3\n",
    "4\n",
    "5\n",
    "6\n",
    "<class 'list'>\n",
    "[1, 2, 3, 4, 5, 6]\n",
    "'''"
   ]
  },
  {
   "cell_type": "code",
   "execution_count": null,
   "id": "c3ffad7a",
   "metadata": {},
   "outputs": [],
   "source": [
    "## Iterator\n",
    "\n",
    "iterator = iter(my_list)  # iter is a keyword\n",
    "print(type(iterator))  # <class 'list_iterator'>"
   ]
  },
  {
   "cell_type": "code",
   "execution_count": null,
   "id": "aa10b9f7",
   "metadata": {},
   "outputs": [],
   "source": [
    "## Iterate through all the elements\n",
    "\n",
    "next(iterator)  ## As you keep pressing play, it will lazy load all the elements one by one. After the elements are finished, you'll get a StopIteration error."
   ]
  },
  {
   "cell_type": "code",
   "execution_count": null,
   "id": "4215cf03",
   "metadata": {},
   "outputs": [],
   "source": [
    "try:\n",
    "    print(next(iterator))\n",
    "except StopIteration:\n",
    "    print(\"There are no more elements inside the list\")"
   ]
  },
  {
   "cell_type": "code",
   "execution_count": 50,
   "id": "1d2b2572",
   "metadata": {},
   "outputs": [],
   "source": [
    "## String Iterator\n",
    "\n",
    "str = \"Hello\"\n",
    "iterator = iter(str)"
   ]
  },
  {
   "cell_type": "code",
   "execution_count": null,
   "id": "5a901e47",
   "metadata": {},
   "outputs": [],
   "source": [
    "try:\n",
    "    print(next(iterator))\n",
    "except StopIteration:\n",
    "    print(\"The string is over\")"
   ]
  }
 ],
 "metadata": {
  "kernelspec": {
   "display_name": "Python 3",
   "language": "python",
   "name": "python3"
  },
  "language_info": {
   "codemirror_mode": {
    "name": "ipython",
    "version": 3
   },
   "file_extension": ".py",
   "mimetype": "text/x-python",
   "name": "python",
   "nbconvert_exporter": "python",
   "pygments_lexer": "ipython3",
   "version": "3.12.0"
  }
 },
 "nbformat": 4,
 "nbformat_minor": 5
}
