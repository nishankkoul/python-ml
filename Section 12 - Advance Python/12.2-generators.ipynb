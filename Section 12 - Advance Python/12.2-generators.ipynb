{
 "cells": [
  {
   "cell_type": "markdown",
   "id": "9b71af7c",
   "metadata": {},
   "source": [
    "##### Generators\n",
    "\n",
    "Generators are a simple way to create iterators. They use the yield keyword to produce a series of values lazily, which means they generate value on the fly and do not store them in the memory."
   ]
  },
  {
   "cell_type": "markdown",
   "id": "08ac0234",
   "metadata": {},
   "source": [
    "##### How Generators Work\n",
    "\n",
    "- A normal function uses return to send back a value and terminates.\n",
    "\n",
    "- A generator function uses yield, which:\n",
    "\n",
    "    - Returns a value without ending the function.  \n",
    "    - Saves the function’s state, so execution resumes from the same point the next time it’s called."
   ]
  },
  {
   "cell_type": "code",
   "execution_count": null,
   "id": "695b0ecf",
   "metadata": {},
   "outputs": [],
   "source": [
    "def square(n):\n",
    "    for i in range(n):\n",
    "        yield i**2\n",
    "\n",
    "square(3)  # <generator object square at 0x00000248055C29B0>\n",
    "\n",
    "## Python sees yield inside the function → it knows this is a generator function.\n",
    "## Instead of running immediately, it returns a generator object\n",
    "\n",
    "## How to get values out?\n",
    "\n",
    "for i in square(3): \n",
    "    print(i)\n",
    "\n",
    "'''\n",
    "0\n",
    "1\n",
    "4\n",
    "'''"
   ]
  },
  {
   "cell_type": "code",
   "execution_count": null,
   "id": "cbf338f5",
   "metadata": {},
   "outputs": [],
   "source": [
    "'''\n",
    "LOGIC\n",
    "\n",
    "🔹 Step 1: Defining the function\n",
    "\n",
    "When Python sees def square(n): ... yield ..., it marks square as a generator function.\n",
    "That means:\n",
    "\n",
    "-> Calling square(3) will not run the body immediately.\n",
    "-> Instead, it returns a generator object, which is an iterator you can loop through.\n",
    "\n",
    "🔹 Step 2: Entering the for loop\n",
    "\n",
    "for i in square(3):\n",
    "\n",
    "Here square(3) creates a generator object.\n",
    "The for loop calls next() on that generator behind the scenes until its exhausted.\n",
    "\n",
    "🔹 Step 3: First iteration\n",
    "\n",
    "The function square(3) starts executing.\n",
    "\n",
    "i = 0 → it reaches yield i**2 → yield 0.\n",
    "\n",
    "Execution pauses here, and 0 is returned to the loop.\n",
    "\n",
    "Loop prints 0.\n",
    "\n",
    "🔹 Step 4: Second iteration\n",
    "\n",
    "Execution resumes right after the last yield.\n",
    "\n",
    "i = 1 → yield 1**2 → yield 1.\n",
    "\n",
    "Execution pauses again, loop prints 1.\n",
    "\n",
    "🔹 Step 5: Third iteration\n",
    "\n",
    "Resume again.\n",
    "\n",
    "i = 2 → yield 2**2 → yield 4.\n",
    "\n",
    "Loop prints 4.\n",
    "\n",
    "🔹 Step 6: End of generator\n",
    "\n",
    "Loop tries again: i = 3, but range(3) is over.\n",
    "\n",
    "Function exits → raises StopIteration internally.\n",
    "\n",
    "for loop catches that and stops.\n",
    "'''"
   ]
  },
  {
   "cell_type": "code",
   "execution_count": null,
   "id": "51c4d2c9",
   "metadata": {},
   "outputs": [],
   "source": [
    "## Another way of iterating\n",
    "\n",
    "gen = square(3)\n",
    "print(next(gen))\n",
    "print(next(gen))\n",
    "print(next(gen))\n",
    "\n",
    "'''\n",
    "0\n",
    "1\n",
    "4\n",
    "'''"
   ]
  },
  {
   "cell_type": "code",
   "execution_count": null,
   "id": "17b29abf",
   "metadata": {},
   "outputs": [],
   "source": [
    "def my_generator():\n",
    "    yield 1\n",
    "    yield 2\n",
    "    yield 3\n",
    "\n",
    "gen = my_generator()\n",
    "print(next(gen))\n",
    "print(next(gen))\n",
    "print(next(gen))\n",
    "\n",
    "'''\n",
    "1\n",
    "2\n",
    "3\n",
    "'''"
   ]
  },
  {
   "cell_type": "code",
   "execution_count": null,
   "id": "55582efd",
   "metadata": {},
   "outputs": [],
   "source": [
    "for val in gen:\n",
    "    print(val)\n",
    "\n",
    "'''\n",
    "1\n",
    "2\n",
    "3\n",
    "'''"
   ]
  },
  {
   "cell_type": "markdown",
   "id": "9af551d9",
   "metadata": {},
   "source": [
    "##### Practical Example : Reading Large Files\n",
    "\n",
    "Generators are particularly useful for reading large files because they allow you to process one line at a time without loading the entire file into the memory"
   ]
  },
  {
   "cell_type": "code",
   "execution_count": 16,
   "id": "ea80d9b3",
   "metadata": {},
   "outputs": [],
   "source": [
    "def read_large_file(file_path):\n",
    "    with open(file_path, 'r') as file:\n",
    "        for line in file:\n",
    "            yield line"
   ]
  },
  {
   "cell_type": "code",
   "execution_count": null,
   "id": "51d5a1aa",
   "metadata": {},
   "outputs": [],
   "source": [
    "file_path = \"large_file.txt\"\n",
    "\n",
    "for line in read_large_file(file_path):\n",
    "    print(line.strip())"
   ]
  }
 ],
 "metadata": {
  "kernelspec": {
   "display_name": "Python 3",
   "language": "python",
   "name": "python3"
  },
  "language_info": {
   "codemirror_mode": {
    "name": "ipython",
    "version": 3
   },
   "file_extension": ".py",
   "mimetype": "text/x-python",
   "name": "python",
   "nbconvert_exporter": "python",
   "pygments_lexer": "ipython3",
   "version": "3.12.0"
  }
 },
 "nbformat": 4,
 "nbformat_minor": 5
}
