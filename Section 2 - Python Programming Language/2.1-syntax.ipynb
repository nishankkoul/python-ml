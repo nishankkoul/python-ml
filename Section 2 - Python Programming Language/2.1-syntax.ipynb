{
 "cells": [
  {
   "cell_type": "markdown",
   "id": "00743db2",
   "metadata": {},
   "source": [
    "Python is a case-sensitive language."
   ]
  },
  {
   "cell_type": "code",
   "execution_count": 6,
   "id": "753e38ba",
   "metadata": {},
   "outputs": [
    {
     "name": "stdout",
     "output_type": "stream",
     "text": [
      "Nishank\n",
      "Koul\n"
     ]
    }
   ],
   "source": [
    "name = \"Nishank\"\n",
    "Name = \"Koul\"\n",
    "\n",
    "print(name)\n",
    "print(Name)"
   ]
  },
  {
   "cell_type": "markdown",
   "id": "233d733c",
   "metadata": {},
   "source": [
    "##### Indentation\n",
    "Python uses indentation to define blocks of code. Consistent use of spaces (commonly 4) or a tab is required. Unlike many other programming langugages that use {} to delimit blocks of code, Python uses indentation to define grouping of statements. "
   ]
  },
  {
   "cell_type": "code",
   "execution_count": 7,
   "id": "3f765ef0",
   "metadata": {},
   "outputs": [
    {
     "name": "stdout",
     "output_type": "stream",
     "text": [
      "You're an adult\n"
     ]
    }
   ],
   "source": [
    "age = 21\n",
    "if(age > 18):\n",
    "    print(\"You're an adult\")\n",
    "else:\n",
    "    print(\"You're not an adult\")"
   ]
  },
  {
   "cell_type": "markdown",
   "id": "59cfb6b8",
   "metadata": {},
   "source": [
    "Comments are lines of code that are not executed by the compiler."
   ]
  },
  {
   "cell_type": "code",
   "execution_count": 8,
   "id": "0c969446",
   "metadata": {},
   "outputs": [
    {
     "name": "stdout",
     "output_type": "stream",
     "text": [
      "Hello World\n"
     ]
    }
   ],
   "source": [
    "## This is a single line comment.\n",
    "print(\"Hello World\")"
   ]
  },
  {
   "cell_type": "markdown",
   "id": "62438e93",
   "metadata": {},
   "source": [
    "Line continuation using Backslash"
   ]
  },
  {
   "cell_type": "code",
   "execution_count": 9,
   "id": "6efb5854",
   "metadata": {},
   "outputs": [
    {
     "name": "stdout",
     "output_type": "stream",
     "text": [
      "36\n"
     ]
    }
   ],
   "source": [
    "## Line Continuation\n",
    "\n",
    "total = 1+2+3+4+5+\\\n",
    "6+7+8\n",
    "\n",
    "print(total)"
   ]
  },
  {
   "cell_type": "markdown",
   "id": "cbcfd3e3",
   "metadata": {},
   "source": [
    "Multiple Statements on a Single Line using Semi-colon as separator"
   ]
  },
  {
   "cell_type": "code",
   "execution_count": 10,
   "id": "80dde0f2",
   "metadata": {},
   "outputs": [
    {
     "name": "stdout",
     "output_type": "stream",
     "text": [
      "15\n"
     ]
    }
   ],
   "source": [
    "x = 5; y = 10; z = x+y\n",
    "\n",
    "print(z)"
   ]
  },
  {
   "cell_type": "markdown",
   "id": "7ed10d63",
   "metadata": {},
   "source": [
    "We don't need to declare the data type of the variable while declaring the variable. Python kernel automatically detects the type of variable at runtime"
   ]
  },
  {
   "cell_type": "code",
   "execution_count": 14,
   "id": "4bd681f8",
   "metadata": {},
   "outputs": [
    {
     "name": "stdout",
     "output_type": "stream",
     "text": [
      "<class 'int'>\n",
      "<class 'str'>\n"
     ]
    }
   ],
   "source": [
    "age = 60\n",
    "\n",
    "lastName = \"Koul\"\n",
    "\n",
    "print(type(age))  ## class 'int'\n",
    "print(type(lastName))   ## class 'str'"
   ]
  },
  {
   "cell_type": "code",
   "execution_count": 15,
   "id": "434c5c5b",
   "metadata": {},
   "outputs": [
    {
     "name": "stdout",
     "output_type": "stream",
     "text": [
      "<class 'str'>\n",
      "<class 'int'>\n"
     ]
    }
   ],
   "source": [
    "## Type Inferencing\n",
    "firstName = \"Nishank\"\n",
    "print(type(firstName))  ## class 'str'\n",
    "firstName = 90\n",
    "print(type(firstName))  ## class 'int'"
   ]
  },
  {
   "cell_type": "code",
   "execution_count": null,
   "id": "28d06084",
   "metadata": {},
   "outputs": [],
   "source": [
    "# Name Error\n",
    "a = b  ## This will give name 'b' is not defined. a here is just being considered as an identifier"
   ]
  }
 ],
 "metadata": {
  "kernelspec": {
   "display_name": "Python 3",
   "language": "python",
   "name": "python3"
  },
  "language_info": {
   "codemirror_mode": {
    "name": "ipython",
    "version": 3
   },
   "file_extension": ".py",
   "mimetype": "text/x-python",
   "name": "python",
   "nbconvert_exporter": "python",
   "pygments_lexer": "ipython3",
   "version": "3.12.0"
  }
 },
 "nbformat": 4,
 "nbformat_minor": 5
}
