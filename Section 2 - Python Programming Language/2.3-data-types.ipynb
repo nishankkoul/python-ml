{
 "cells": [
  {
   "cell_type": "markdown",
   "id": "836063ff",
   "metadata": {},
   "source": [
    "##### Data Types\n",
    "\n",
    "Data Types are a classification of data which tells the compiler or interpreter how the programmer intends to use the data. They determine the type of operation that can be performed on the data, the values that the data can take, and the amount of memory needed to store the data."
   ]
  },
  {
   "cell_type": "code",
   "execution_count": null,
   "id": "4cb352e5",
   "metadata": {},
   "outputs": [],
   "source": [
    "## Integer Example\n",
    "\n",
    "age = 25\n",
    "type(age)"
   ]
  },
  {
   "cell_type": "code",
   "execution_count": null,
   "id": "e850e68f",
   "metadata": {},
   "outputs": [],
   "source": [
    "## Floating Point Example\n",
    "\n",
    "height = 5.11\n",
    "type(height)"
   ]
  },
  {
   "cell_type": "code",
   "execution_count": null,
   "id": "6795add2",
   "metadata": {},
   "outputs": [],
   "source": [
    "## String Example\n",
    "\n",
    "name = \"Nishank Koul\"\n",
    "type(name)"
   ]
  },
  {
   "cell_type": "code",
   "execution_count": null,
   "id": "bc7c7498",
   "metadata": {},
   "outputs": [],
   "source": [
    "## Boolean Example\n",
    "\n",
    "is_Adult = False\n",
    "type(is_Adult)  ## bool\n",
    "\n",
    "## Another example\n",
    "\n",
    "a = 10\n",
    "b = 20\n",
    "\n",
    "print(type(a==b))  ## <class 'bool'>, first it will check a == b which will return True (boolean value), then it will print the type of it which is bool "
   ]
  },
  {
   "cell_type": "code",
   "execution_count": null,
   "id": "77cd9b34",
   "metadata": {},
   "outputs": [
    {
     "name": "stdout",
     "output_type": "stream",
     "text": [
      "Hello5\n"
     ]
    }
   ],
   "source": [
    "## Common Errors\n",
    "\n",
    "## res = \"Hello\" + 5  ## This will result in an error (can only concatenate str (not \"int\") to str)\n",
    "\n",
    "## To resolve this, we need to do type casting\n",
    "\n",
    "resNew = \"Hello\" + str(5)\n",
    "print(resNew)  ## Hello5"
   ]
  }
 ],
 "metadata": {
  "kernelspec": {
   "display_name": "Python 3",
   "language": "python",
   "name": "python3"
  },
  "language_info": {
   "codemirror_mode": {
    "name": "ipython",
    "version": 3
   },
   "file_extension": ".py",
   "mimetype": "text/x-python",
   "name": "python",
   "nbconvert_exporter": "python",
   "pygments_lexer": "ipython3",
   "version": "3.12.0"
  }
 },
 "nbformat": 4,
 "nbformat_minor": 5
}
