{
 "cells": [
  {
   "cell_type": "markdown",
   "id": "d49ac06f",
   "metadata": {},
   "source": [
    "##### Variables\n",
    "Variables are fundamental elements in programming used to store data that can be referenced and manipulated in a program. In Python, variables are created when you assign a value to them, and they do not need explicit declaration to reserve memory space."
   ]
  },
  {
   "cell_type": "code",
   "execution_count": null,
   "id": "82943543",
   "metadata": {},
   "outputs": [],
   "source": [
    "a = 100"
   ]
  },
  {
   "cell_type": "code",
   "execution_count": null,
   "id": "3973c7ac",
   "metadata": {},
   "outputs": [],
   "source": [
    "myAge = 22\n",
    "myHeight = 5.11\n",
    "myName = \"Nishank\"\n",
    "is_Student = True\n",
    "\n",
    "print(\"Age : \", myAge)\n",
    "print(\"Height : \", myHeight)\n",
    "print(\"Name : \", myName)\n",
    "print(\"Is a student? : \", is_Student)"
   ]
  },
  {
   "cell_type": "markdown",
   "id": "9b929721",
   "metadata": {},
   "source": [
    "Variable names should be descriptive. They must start with a letter or an underscore and can contain letters, underscore or numbers."
   ]
  },
  {
   "cell_type": "code",
   "execution_count": 23,
   "id": "551fb4ea",
   "metadata": {},
   "outputs": [],
   "source": [
    "age = 22\n",
    "height = 5.11\n",
    "name = \"Nishank Koul\"\n",
    "is_Student = True"
   ]
  },
  {
   "cell_type": "markdown",
   "id": "bc2f7bfe",
   "metadata": {},
   "source": [
    "Python is a dynamically typed language which means the data type is determined at runtime"
   ]
  },
  {
   "cell_type": "code",
   "execution_count": null,
   "id": "6a9f97de",
   "metadata": {},
   "outputs": [],
   "source": [
    "## Type Checking\n",
    "\n",
    "print(type(height))  ## <class 'float'>\n",
    "print(type(age))  ## <class 'int'>\n",
    "\n",
    "# Type Conversion\n",
    "\n",
    "age_str = str(age)\n",
    "print(age_str)  ## 22\n",
    "print(type(age_str))  ## <class 'str'>"
   ]
  },
  {
   "cell_type": "code",
   "execution_count": null,
   "id": "01be2c01",
   "metadata": {},
   "outputs": [],
   "source": [
    "## Invalid Type Conversion\n",
    "print(name)  ## Nishank Koul\n",
    "print(type(name))  ## <class 'str'>\n",
    "\n",
    "print(type(int(name)))  ## This will give: ValueError: invalid literal for int() with base 10: 'Nishank Koul'"
   ]
  },
  {
   "cell_type": "code",
   "execution_count": null,
   "id": "3ddf8fc1",
   "metadata": {},
   "outputs": [],
   "source": [
    "print(height)  ## 5.11\n",
    "print(type(height))  ## <class 'float'>\n",
    "\n",
    "print(int(height))  ## 5 (the literals after the decimal are removed from float -> int conversion)\n",
    "\n",
    "print(float(int(height)))  ## 5.0 (This first converts 5.11 -> 5 and then 5 -> 5.0)"
   ]
  },
  {
   "cell_type": "code",
   "execution_count": null,
   "id": "fd0454c2",
   "metadata": {},
   "outputs": [],
   "source": [
    "## Python allows dynamic typing\n",
    "\n",
    "variable = 10\n",
    "print(variable, type(variable))  ## 10 <class 'int'>\n",
    "\n",
    "variable = \"It's me\"\n",
    "print(variable, type(variable))  ## It's me <class 'str'>\n",
    "\n",
    "variable = 3.14\n",
    "print(variable, type(variable))  ## 3.14 <class 'float'>"
   ]
  },
  {
   "cell_type": "markdown",
   "id": "d881fa23",
   "metadata": {},
   "source": [
    "Let's see how to take input from the user inside a variable"
   ]
  },
  {
   "cell_type": "code",
   "execution_count": null,
   "id": "68b6f25d",
   "metadata": {},
   "outputs": [],
   "source": [
    "## User Input\n",
    "\n",
    "weight = input(\"Hey user, please enter your weight!\")\n",
    "print(\"Your weight is:\", weight)\n",
    "print(type(weight))  ## <class 'str'>\n",
    "\n",
    "## The output is of string data type because whatever the user enters as input is by default considered a string.\n",
    "\n",
    "## To overcome this we need to typecast while taking the input itself\n",
    "weight_float = int(input(\"Enter your weight in float\"))\n",
    "print(weight_float)\n",
    "print(type(weight_float))  ## <class 'int'>"
   ]
  },
  {
   "cell_type": "markdown",
   "id": "a7bc4163",
   "metadata": {},
   "source": [
    "Let's design a simple calculator"
   ]
  },
  {
   "cell_type": "code",
   "execution_count": null,
   "id": "3d4153ef",
   "metadata": {},
   "outputs": [],
   "source": [
    "num1 = float(input(\"Enter the first number\"))\n",
    "num2 = float(input(\"Enter the second number\"))\n",
    "\n",
    "sum = num1 + num2\n",
    "difference = num1 - num2\n",
    "multiplication = num1 * num2\n",
    "division = num1/num2\n",
    "\n",
    "print(\"The sum is: \", sum)\n",
    "print(\"The difference is: \", difference)\n",
    "print(\"The multiplication is: \", multiplication)\n",
    "print(\"The division is: \", division)"
   ]
  }
 ],
 "metadata": {
  "kernelspec": {
   "display_name": "Python 3",
   "language": "python",
   "name": "python3"
  },
  "language_info": {
   "codemirror_mode": {
    "name": "ipython",
    "version": 3
   },
   "file_extension": ".py",
   "mimetype": "text/x-python",
   "name": "python",
   "nbconvert_exporter": "python",
   "pygments_lexer": "ipython3",
   "version": "3.12.0"
  }
 },
 "nbformat": 4,
 "nbformat_minor": 5
}
