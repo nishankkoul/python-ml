{
 "cells": [
  {
   "cell_type": "markdown",
   "metadata": {},
   "source": [
    "# Module 2: Control Flow Assignments\n",
    "## Lesson 2.1: Conditional Statements\n",
    "### Assignment 1: Simple if Statement\n",
    "\n",
    "Write a program that asks the user to input a number and prints whether the number is positive.\n",
    "\n",
    "### Assignment 2: if-else Statement\n",
    "\n",
    "Write a program that asks the user to input a number and prints whether the number is positive or negative.\n",
    "\n",
    "### Assignment 3: if-elif-else Statement\n",
    "\n",
    "Write a program that asks the user to input a number and prints whether the number is positive, negative, or zero.\n",
    "\n",
    "### Assignment 4: Nested if Statement\n",
    "\n",
    "Write a program that asks the user to input a number and prints whether the number is positive and even, positive and odd, or negative.\n",
    "\n",
    "## Lesson 2.2: Loops\n",
    "### Assignment 5: for Loop\n",
    "\n",
    "Write a program that prints all the numbers from 1 to 10 using a for loop.\n",
    "\n",
    "### Assignment 6: while Loop\n",
    "\n",
    "Write a program that prints all the numbers from 1 to 10 using a while loop.\n",
    "\n",
    "### Assignment 7: Nested Loops\n",
    "\n",
    "Write a program that prints a 5x5 grid of asterisks (*) using nested loops.\n",
    "\n",
    "### Assignment 8: break Statement\n",
    "\n",
    "Write a program that asks the user to input numbers until they input 0. The program should print the sum of all the input numbers.\n",
    "\n",
    "### Assignment 9: continue Statement\n",
    "\n",
    "Write a program that prints all the numbers from 1 to 10 except 5 using a for loop and continue statement.\n",
    "\n",
    "### Assignment 10: pass Statement\n",
    "\n",
    "Write a program that defines an empty function using the pass statement.\n",
    "\n",
    "### Assignment 11: Combining Loops and Conditionals\n",
    "\n",
    "Write a program that asks the user to input a number and prints all the even numbers from 1 to that number using a for loop.\n",
    "\n",
    "### Assignment 12: Factorial Calculation\n",
    "\n",
    "Write a program that calculates the factorial of a number input by the user using a while loop.\n",
    "\n",
    "### Assignment 13: Sum of Digits\n",
    "\n",
    "Write a program that calculates the sum of the digits of a number input by the user using a while loop.\n",
    "\n",
    "### Assignment 14: Prime Number Check\n",
    "\n",
    "Write a program that checks if a number input by the user is a prime number using a for loop.\n",
    "\n",
    "### Assignment 15: Fibonacci Sequence\n",
    "\n",
    "Write a program that prints the first n Fibonacci numbers, where n is input by the user."
   ]
  },
  {
   "cell_type": "code",
   "execution_count": null,
   "id": "d323ec53",
   "metadata": {},
   "outputs": [],
   "source": [
    "### Assignment 1: Simple if Statement\n",
    "\n",
    "## Write a program that asks the user to input a number and prints whether the number is positive.\n",
    "\n",
    "num = int(input(\"Enter a number\"))\n",
    "if(num > 0):\n",
    "    print(\"Its a positive number\")"
   ]
  },
  {
   "cell_type": "code",
   "execution_count": null,
   "id": "924b4756",
   "metadata": {},
   "outputs": [],
   "source": [
    "### Assignment 2: if-else Statement\n",
    "\n",
    "## Write a program that asks the user to input a number and prints whether the number is positive or negative.\n",
    "\n",
    "num = int(input(\"Enter a number\"))\n",
    "if(num > 0):\n",
    "    print(\"Its a positive number\")\n",
    "else:\n",
    "    print(\"Its a negative number\")"
   ]
  },
  {
   "cell_type": "code",
   "execution_count": null,
   "id": "62825cbc",
   "metadata": {},
   "outputs": [],
   "source": [
    "### Assignment 3: if-elif-else Statement\n",
    "\n",
    "## Write a program that asks the user to input a number and prints whether the number is positive, negative, or zero.\n",
    "\n",
    "num = int(input(\"Enter a number\"))\n",
    "if(num > 0):\n",
    "    print(\"Its a positive number\")\n",
    "elif(num < 0):\n",
    "    print(\"Its a negative number\")\n",
    "else:\n",
    "    print(\"Its zero\")"
   ]
  },
  {
   "cell_type": "code",
   "execution_count": null,
   "id": "09e1ee12",
   "metadata": {},
   "outputs": [],
   "source": [
    "### Assignment 4: Nested if Statement\n",
    "\n",
    "## Write a program that asks the user to input a number and prints whether the number is positive and even, positive and odd, or negative.\n",
    "\n",
    "number = int(input(\"Enter a number\"))\n",
    "\n",
    "if(number > 0):\n",
    "    if(number % 2 == 0):\n",
    "        print(\"Positive and Even\")\n",
    "    else:\n",
    "        print(\"Positive and Odd\")\n",
    "else:\n",
    "    print(\"Negative\")"
   ]
  },
  {
   "cell_type": "code",
   "execution_count": null,
   "id": "dc071a93",
   "metadata": {},
   "outputs": [],
   "source": [
    "### Assignment 5: for Loop\n",
    "\n",
    "## Write a program that prints all the numbers from 1 to 10 using a for loop.\n",
    "\n",
    "for i in range(1,11):\n",
    "    print(i)"
   ]
  },
  {
   "cell_type": "code",
   "execution_count": null,
   "id": "735d06a4",
   "metadata": {},
   "outputs": [],
   "source": [
    "### Assignment 6: while Loop\n",
    "\n",
    "## Write a program that prints all the numbers from 1 to 10 using a while loop.\n",
    "\n",
    "i = 1\n",
    "while(i < 11):\n",
    "    print(i)\n",
    "    i = i + 1"
   ]
  },
  {
   "cell_type": "code",
   "execution_count": null,
   "id": "68f7a773",
   "metadata": {},
   "outputs": [],
   "source": [
    "### Assignment 7: Nested Loops\n",
    "\n",
    "## Write a program that prints a 5x5 grid of asterisks (*) using nested loops.\n",
    "\n",
    "for i in range(1,6):\n",
    "    for j in range(1,6):\n",
    "        print(\"*\", end = \" \")\n",
    "    print()"
   ]
  },
  {
   "cell_type": "code",
   "execution_count": null,
   "id": "e29d2455",
   "metadata": {},
   "outputs": [],
   "source": [
    "### Assignment 8: break Statement\n",
    "\n",
    "## Write a program that asks the user to input numbers until they input 0. The program should print the sum of all the input numbers.\n",
    "\n",
    "sum = 0\n",
    "\n",
    "while(True):\n",
    "    num = int(input(\"Enter a number\"))\n",
    "    if(num == 0):\n",
    "        break\n",
    "    sum += i\n",
    "print(f\"The sum is: {sum}\")"
   ]
  },
  {
   "cell_type": "code",
   "execution_count": null,
   "id": "bd9b9a1f",
   "metadata": {},
   "outputs": [],
   "source": [
    "### Assignment 9: continue Statement\n",
    "\n",
    "## Write a program that prints all the numbers from 1 to 10 except 5 using a for loop and continue statement.\n",
    "\n",
    "for i in range(1,11):\n",
    "    if(i == 5):\n",
    "        continue\n",
    "    print(i)"
   ]
  },
  {
   "cell_type": "code",
   "execution_count": null,
   "id": "ea099d4b",
   "metadata": {},
   "outputs": [],
   "source": [
    "### Assignment 10: pass Statement\n",
    "\n",
    "def empty_function():\n",
    "    pass"
   ]
  },
  {
   "cell_type": "code",
   "execution_count": null,
   "id": "13704187",
   "metadata": {},
   "outputs": [],
   "source": [
    "### Assignment 11: Combining Loops and Conditionals\n",
    "\n",
    "## Write a program that asks the user to input a number and prints all the even numbers from 1 to that number using a for loop.\n",
    "\n",
    "num = int(input(\"Enter a number\"))\n",
    "\n",
    "for i in range(1,num+1):\n",
    "    if(i % 2 == 0):\n",
    "        print(i)"
   ]
  },
  {
   "cell_type": "code",
   "execution_count": null,
   "id": "e2fe2a53",
   "metadata": {},
   "outputs": [],
   "source": [
    "### Assignment 12: Factorial Calculation\n",
    "\n",
    "## Write a program that calculates the factorial of a number input by the user using a while loop.\n",
    "\n",
    "num = int(input(\"Enter a number\"))\n",
    "\n",
    "fact = 1\n",
    "\n",
    "for i in range(1,num+1):\n",
    "    fact *= i\n",
    "print(f\"The factorial is: {fact}\")"
   ]
  },
  {
   "cell_type": "code",
   "execution_count": null,
   "id": "a738d089",
   "metadata": {},
   "outputs": [],
   "source": [
    "### Assignment 13: Sum of Digits\n",
    "\n",
    "## Write a program that calculates the sum of the digits of a number input by the user using a while loop.\n",
    "\n",
    "num = int(input(\"Enter a number\"))\n",
    "sum = 0\n",
    "\n",
    "while(num != 0):\n",
    "    lastDigit = int(num % 10)\n",
    "    sum += lastDigit\n",
    "    num /= 10\n",
    "print(f\"The sum is: {sum}\")"
   ]
  },
  {
   "cell_type": "code",
   "execution_count": null,
   "id": "80285e43",
   "metadata": {},
   "outputs": [],
   "source": [
    "### Assignment 14: Prime Number Check\n",
    "\n",
    "## Write a program that checks if a number input by the user is a prime number using a for loop.\n",
    "\n",
    "num = int(input(\"Enter a number\"))\n",
    "is_Prime = True\n",
    "\n",
    "for i in range(2,num):\n",
    "    if(num % i == 0):\n",
    "        is_Prime = False\n",
    "        break\n",
    "if(is_Prime):\n",
    "    print(f\"It's a prime number\")\n",
    "else:\n",
    "    print(\"It's not a prime number\")"
   ]
  },
  {
   "cell_type": "code",
   "execution_count": null,
   "id": "b1d5696e",
   "metadata": {},
   "outputs": [],
   "source": [
    "n = int(input(\"Enter the number of Fibonacci numbers to print\"))\n",
    "\n",
    "a, b = 0, 1\n",
    "for i in range(n):\n",
    "    print(a)\n",
    "    a, b = b, a + b"
   ]
  }
 ],
 "metadata": {
  "kernelspec": {
   "display_name": "Python 3",
   "language": "python",
   "name": "python3"
  },
  "language_info": {
   "codemirror_mode": {
    "name": "ipython",
    "version": 3
   },
   "file_extension": ".py",
   "mimetype": "text/x-python",
   "name": "python",
   "nbconvert_exporter": "python",
   "pygments_lexer": "ipython3",
   "version": "3.12.0"
  }
 },
 "nbformat": 4,
 "nbformat_minor": 5
}
