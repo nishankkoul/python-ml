{
 "cells": [
  {
   "cell_type": "markdown",
   "id": "fba2c93c",
   "metadata": {},
   "source": [
    "If statement evaluates the condition and executes the block of code if the condition is true."
   ]
  },
  {
   "cell_type": "code",
   "execution_count": null,
   "id": "e0c3b832",
   "metadata": {},
   "outputs": [],
   "source": [
    "## if statement\n",
    "\n",
    "age = 19\n",
    "\n",
    "if(age >= 18):\n",
    "    print(\"You are allowed to vote in the elections\")"
   ]
  },
  {
   "cell_type": "markdown",
   "id": "4bb1e619",
   "metadata": {},
   "source": [
    "Else statement executes a block of code if the condition inside the if statement is false"
   ]
  },
  {
   "cell_type": "code",
   "execution_count": null,
   "id": "35ede754",
   "metadata": {},
   "outputs": [],
   "source": [
    "## else statement\n",
    "\n",
    "age = 14\n",
    "\n",
    "if(age >= 18):\n",
    "    print(\"You are allowed to vote in the elections\")\n",
    "else:\n",
    "    print(\"You are a minor\")"
   ]
  },
  {
   "cell_type": "markdown",
   "id": "fef86642",
   "metadata": {},
   "source": [
    "Elif statement allows you to check for multiple if statements. It stands for else if."
   ]
  },
  {
   "cell_type": "code",
   "execution_count": null,
   "id": "6e77b22b",
   "metadata": {},
   "outputs": [],
   "source": [
    "## elif statement\n",
    "\n",
    "num = -100\n",
    "\n",
    "if(num > 0):\n",
    "    print(\"Positive\")\n",
    "elif(num < 0):\n",
    "    print(\"Negative\")\n",
    "else:\n",
    "    print(\"Zero\")"
   ]
  },
  {
   "cell_type": "code",
   "execution_count": null,
   "id": "6056d389",
   "metadata": {},
   "outputs": [],
   "source": [
    "## Nested Conditional Statements\n",
    "\n",
    "## Given a number, check for whether it is positive or negative, if positive check whether it is even or odd\n",
    "\n",
    "number = 77\n",
    "\n",
    "if(number > 0):\n",
    "    if(number % 2 == 0):\n",
    "        print(\"Positive and Even\")\n",
    "    else:\n",
    "        print(\"Positive and Odd\")\n",
    "else:\n",
    "    print(\"Negative\")"
   ]
  },
  {
   "cell_type": "code",
   "execution_count": null,
   "id": "faa661a6",
   "metadata": {},
   "outputs": [],
   "source": [
    "## Write a simple calculator program using if, elif, and else statements.\n",
    "\n",
    "num1 = int(input(\"Enter the number 1\"))\n",
    "num2 = int(input(\"Enter the number 2\"))\n",
    "op = input(\"Enter the operation to be performed (+, -, *, /, %, **)\")\n",
    "\n",
    "if(op == '+'):\n",
    "    result = num1 + num2\n",
    "elif(op == '-'):\n",
    "    result = num1 - num2\n",
    "elif(op == '*'):\n",
    "    result = num1 * num2\n",
    "elif(op == '/'):\n",
    "    result = num1 / num2\n",
    "elif(op == '**'):\n",
    "    result = num1 ** num2\n",
    "else:\n",
    "    print(\"Invalid Operator entered\")\n",
    "\n",
    "print(\"The result of the operation is: \", result)"
   ]
  }
 ],
 "metadata": {
  "kernelspec": {
   "display_name": "Python 3",
   "language": "python",
   "name": "python3"
  },
  "language_info": {
   "codemirror_mode": {
    "name": "ipython",
    "version": 3
   },
   "file_extension": ".py",
   "mimetype": "text/x-python",
   "name": "python",
   "nbconvert_exporter": "python",
   "pygments_lexer": "ipython3",
   "version": "3.12.0"
  }
 },
 "nbformat": 4,
 "nbformat_minor": 5
}
