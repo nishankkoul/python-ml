{
 "cells": [
  {
   "cell_type": "code",
   "execution_count": null,
   "id": "7d83411d",
   "metadata": {},
   "outputs": [],
   "source": [
    "## for loop\n",
    "\n",
    "for i in range(0,6):  # This will include numbers: 0,1,2,3,4,5\n",
    "    print(i)\n",
    "\n",
    "## If the range starts from 0, you don't need to include that\n",
    "for i in range(6):\n",
    "    print(i)  # This will print numbers from 0 to 5"
   ]
  },
  {
   "cell_type": "code",
   "execution_count": null,
   "id": "1fe51fbc",
   "metadata": {},
   "outputs": [],
   "source": [
    "## To print numbers from 1 to 10\n",
    "for i in range(1,11):\n",
    "    print(i)"
   ]
  },
  {
   "cell_type": "code",
   "execution_count": null,
   "id": "2683ed3a",
   "metadata": {},
   "outputs": [],
   "source": [
    "## We can also define the step parameter inside the range\n",
    "\n",
    "for i in range(1,11,2):\n",
    "    print(i)  # 1,3,5,7,9\n",
    "\n",
    "for i in range(1,11,1):  # By default the step parameter is 1\n",
    "    print(i)  # 1,2,3,4,5,6,7,8,9,10"
   ]
  },
  {
   "cell_type": "code",
   "execution_count": null,
   "id": "f8e3d260",
   "metadata": {},
   "outputs": [],
   "source": [
    "## We can also traverse in the reverse fashion\n",
    "\n",
    "for i in range(10,0,-1):\n",
    "    print(i)  # Will display numbers from 10 to 1"
   ]
  },
  {
   "cell_type": "code",
   "execution_count": null,
   "id": "fa6bb7db",
   "metadata": {},
   "outputs": [],
   "source": [
    "## We can also traverse a string in a similar manner\n",
    "\n",
    "str = \"Nishank Koul\"\n",
    "\n",
    "for i in str:\n",
    "    print(i)  # This will print the individual character of str along with space as well"
   ]
  },
  {
   "cell_type": "code",
   "execution_count": null,
   "id": "c752be0a",
   "metadata": {},
   "outputs": [],
   "source": [
    "## while loop\n",
    "\n",
    "## while loop continues to execute as long as the condition is true\n",
    "\n",
    "## Let's print numbers from 0 to 5\n",
    "\n",
    "count = 0\n",
    "\n",
    "while(count < 6):\n",
    "    print(count)\n",
    "    count = count + 1"
   ]
  },
  {
   "cell_type": "code",
   "execution_count": null,
   "id": "af70320c",
   "metadata": {},
   "outputs": [],
   "source": [
    "## break statement\n",
    "\n",
    "## The break statement exits the loop prematurely\n",
    "\n",
    "## Traverse from 1 to 20 and when it hits 15, break\n",
    "\n",
    "for i in range(1,21):\n",
    "    if(i == 15):\n",
    "        break\n",
    "    print(i)\n",
    "\n",
    "\n",
    "# The above code will print numbers from 1 to 14 and then will exit because of the break statement."
   ]
  },
  {
   "cell_type": "code",
   "execution_count": null,
   "id": "9786c9be",
   "metadata": {},
   "outputs": [],
   "source": [
    "## continue statement\n",
    "\n",
    "## The continue statement skips the current iteration and continues with the next\n",
    "\n",
    "## Traverse from 1 to 20 and skip all the even numbers\n",
    "\n",
    "for i in range(1,21):\n",
    "    if(i % 2 == 0):\n",
    "        continue\n",
    "    print(i)  ## This will print all the odd numbers between 1 and 20"
   ]
  },
  {
   "cell_type": "code",
   "execution_count": null,
   "id": "ad5e6450",
   "metadata": {},
   "outputs": [],
   "source": [
    "## pass statement\n",
    "\n",
    "## The pass statement is a null operation; it does nothing.\n",
    "\n",
    "for i in range(5):\n",
    "    if(i == 3):\n",
    "        pass\n",
    "    print(i)  # This will print numbers normally from 0 to 4"
   ]
  },
  {
   "cell_type": "code",
   "execution_count": null,
   "id": "8f56a90e",
   "metadata": {},
   "outputs": [],
   "source": [
    "## Nested Loops\n",
    "\n",
    "for i in range(3):\n",
    "    for j in range(2):\n",
    "        print(f\"i:{i} and j:{j}\")\n",
    "\n",
    "## Output\n",
    "\n",
    "'''\n",
    "i:0 and j:0\n",
    "i:0 and j:1\n",
    "i:1 and j:0\n",
    "i:1 and j:1\n",
    "i:2 and j:0\n",
    "i:2 and j:1\n",
    "'''"
   ]
  },
  {
   "cell_type": "code",
   "execution_count": null,
   "id": "ef383437",
   "metadata": {},
   "outputs": [],
   "source": [
    "## Calculate the sum of first N natural numbers using a while loop\n",
    "\n",
    "num = 10\n",
    "sum = 0\n",
    "\n",
    "i = 1\n",
    "\n",
    "while(i <= num):\n",
    "    sum += i\n",
    "    i = i+1\n",
    "print(f\"The sum is: {sum}\")"
   ]
  },
  {
   "cell_type": "code",
   "execution_count": null,
   "id": "895499c2",
   "metadata": {},
   "outputs": [],
   "source": [
    "## Calculate the sum of first N natural numbers using a for loop\n",
    "\n",
    "num = 10\n",
    "sum = 0\n",
    "\n",
    "for i in range(1, num+1):\n",
    "    sum += i\n",
    "print(f\"The sum is: {sum}\")"
   ]
  },
  {
   "cell_type": "code",
   "execution_count": null,
   "id": "d8406260",
   "metadata": {},
   "outputs": [],
   "source": [
    "## Print the prime numbers between 1 and 100\n",
    "\n",
    "for num in range(1, 101):\n",
    "    is_prime = True\n",
    "    for i in range(2, int(num ** 0.5) + 1):\n",
    "        if num % i == 0:\n",
    "            is_prime = False\n",
    "            break\n",
    "    if is_prime:\n",
    "        print(num)"
   ]
  }
 ],
 "metadata": {
  "kernelspec": {
   "display_name": "Python 3",
   "language": "python",
   "name": "python3"
  },
  "language_info": {
   "codemirror_mode": {
    "name": "ipython",
    "version": 3
   },
   "file_extension": ".py",
   "mimetype": "text/x-python",
   "name": "python",
   "nbconvert_exporter": "python",
   "pygments_lexer": "ipython3",
   "version": "3.12.0"
  }
 },
 "nbformat": 4,
 "nbformat_minor": 5
}
