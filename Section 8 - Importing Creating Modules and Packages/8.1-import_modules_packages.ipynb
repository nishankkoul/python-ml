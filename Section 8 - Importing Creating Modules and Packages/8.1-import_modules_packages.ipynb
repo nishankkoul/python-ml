{
 "cells": [
  {
   "cell_type": "markdown",
   "id": "905b0ece",
   "metadata": {},
   "source": [
    "##### Importing Modules in Python: Modules and Packages\n",
    "\n",
    "In Python, modules and packages help organize and reuse code. Here's a comprehensive guide on how to import them:"
   ]
  },
  {
   "cell_type": "code",
   "execution_count": null,
   "id": "a6d05a50",
   "metadata": {},
   "outputs": [],
   "source": [
    "## Importing math package\n",
    "\n",
    "import math\n",
    "\n",
    "print(math.sqrt(16))  # 4.0"
   ]
  },
  {
   "cell_type": "code",
   "execution_count": null,
   "id": "d163154a",
   "metadata": {},
   "outputs": [],
   "source": [
    "## You can import function from packages\n",
    "\n",
    "from math import sqrt,pi\n",
    "\n",
    "print(sqrt(16))  # 4.0 (Here, we don't need to use math.sqrt())\n",
    "print(sqrt(25))  # 5.0\n",
    "print(pi)  # 3.141592653589793"
   ]
  },
  {
   "cell_type": "code",
   "execution_count": null,
   "id": "4e14ffd3",
   "metadata": {},
   "outputs": [],
   "source": [
    "import numpy as np  # Here, np is an alias for numpy\n",
    "\n",
    "np.array([1,2,3,4])  # array([1, 2, 3, 4])"
   ]
  },
  {
   "cell_type": "code",
   "execution_count": null,
   "id": "5ef7a424",
   "metadata": {},
   "outputs": [],
   "source": [
    "## If you want to import every module from a package, use '*'\n",
    "\n",
    "from math import *\n",
    "\n",
    "print(sqrt(25))  # 5.0\n",
    "print(pi)  # 3.141592653589793"
   ]
  },
  {
   "cell_type": "markdown",
   "id": "78898d7b",
   "metadata": {},
   "source": [
    "##### Importing Custom Packages\n",
    "\n",
    "To import custom packages, first create a folder named 'packages' inside the same directory and inside that create a file named `__init__.py`\n",
    "\n",
    "We will be referring the function from maths.py inside the packages folder"
   ]
  },
  {
   "cell_type": "code",
   "execution_count": null,
   "id": "11fef28f",
   "metadata": {},
   "outputs": [],
   "source": [
    "from packages.maths import addition\n",
    "\n",
    "print(addition(2,3))  # 5\n",
    "\n",
    "## OR\n",
    "\n",
    "from packages import maths\n",
    "\n",
    "print(maths.addition(3,4))  # 7"
   ]
  },
  {
   "cell_type": "markdown",
   "id": "9a8a8d84",
   "metadata": {},
   "source": [
    "We can also create subpackages inside the packages folder. \n",
    "\n",
    "Note: Make sure the subpackages folder also containes `__init__.py`"
   ]
  },
  {
   "cell_type": "code",
   "execution_count": null,
   "id": "578fd4cd",
   "metadata": {},
   "outputs": [],
   "source": [
    "from packages.subpackages.mult import multiply\n",
    "\n",
    "print(multiply(3,4))  # 12"
   ]
  }
 ],
 "metadata": {
  "kernelspec": {
   "display_name": "Python 3",
   "language": "python",
   "name": "python3"
  },
  "language_info": {
   "codemirror_mode": {
    "name": "ipython",
    "version": 3
   },
   "file_extension": ".py",
   "mimetype": "text/x-python",
   "name": "python",
   "nbconvert_exporter": "python",
   "pygments_lexer": "ipython3",
   "version": "3.12.0"
  }
 },
 "nbformat": 4,
 "nbformat_minor": 5
}
