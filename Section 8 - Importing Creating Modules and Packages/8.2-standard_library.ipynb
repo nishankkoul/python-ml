{
 "cells": [
  {
   "cell_type": "markdown",
   "id": "df1278b8",
   "metadata": {},
   "source": [
    "##### Standard Library Overview\n",
    "\n",
    "Python's standard library is a vast collection of modules and packages that come bundled with Python, providing a wide range of functionalities outside the box. Here's an overview of some of the most commonly used modules and packages in Python Standard Library"
   ]
  },
  {
   "cell_type": "code",
   "execution_count": null,
   "id": "8373e27c",
   "metadata": {},
   "outputs": [],
   "source": [
    "import array  \n",
    "\n",
    "'''Python has a built-in module called array. It provides an array data structure that is more memory-efficient than lists if you are storing large amounts of data of the same type.'''\n",
    "\n",
    "arr = array.array('i', [1,2,3,4])  \n",
    "\n",
    "'''array.array(typecode, initializer) creates an array. 'i' is the type code that means signed integer (usually 4 bytes). Other type codes exist too (e.g., 'f' for float, 'd' for double). [1,2,3,4] is the initializer list that fills the array with those values.'''\n",
    "\n",
    "print(arr)  # array('i', [1, 2, 3, 4])"
   ]
  },
  {
   "cell_type": "code",
   "execution_count": null,
   "id": "ad6fccef",
   "metadata": {},
   "outputs": [],
   "source": [
    "import math\n",
    "\n",
    "print(math.sqrt(34))  # 5.830951894845301"
   ]
  },
  {
   "cell_type": "code",
   "execution_count": null,
   "id": "5db65137",
   "metadata": {},
   "outputs": [],
   "source": [
    "import random  # Python has a built-in random module. It provides functions to generate random numbers and pick random items.\n",
    "\n",
    "print(random.randint(1,20))  # 17 (randint(a, b) returns a random integer between a and b (inclusive).)\n",
    "\n",
    "print(random.choice(['apple', 'banana', 'mango']))  # banana (choice(sequence) picks one random element from a sequence (like a list, tuple, or string).)"
   ]
  },
  {
   "cell_type": "code",
   "execution_count": null,
   "id": "d16e311c",
   "metadata": {},
   "outputs": [],
   "source": [
    "## File and Directory Access\n",
    "\n",
    "import os\n",
    "\n",
    "print(os.getcwd())  # d:\\Machine Learning\\Section 8 - Importing Creating Modules and Packages\n",
    "\n",
    "## os.getcwd() prints the current working directory\n",
    "\n",
    "## To create a directory\n",
    "\n",
    "os.mkdir('test_dir_os_module')  # This creates a 'test_dir_os_module' folder inside the current working directory"
   ]
  },
  {
   "cell_type": "code",
   "execution_count": null,
   "id": "b3dc58ae",
   "metadata": {},
   "outputs": [],
   "source": [
    "## High Level Operations on Files and collection of Files\n",
    "\n",
    "import shutil\n",
    "\n",
    "shutil.copyfile('source.txt', 'destination.txt')\n",
    "\n",
    "## This copies the contents of source.txt and creates or updates a new file called destination.txt appending all the content from source.txt to destination.txt"
   ]
  },
  {
   "cell_type": "code",
   "execution_count": null,
   "id": "5663e09c",
   "metadata": {},
   "outputs": [],
   "source": [
    "## Data Serialization\n",
    "\n",
    "## Data serialization is the process of converting complex data structures (objects, dictionaries, lists, etc.) into a format that can be stored or transmitted and later reconstructed.\n",
    "\n",
    "import json\n",
    "\n",
    "# Simulated API response (string from server)\n",
    "api_response = '''\n",
    "{\n",
    "    \"id\": 1,\n",
    "    \"name\": \"Leanne Graham\",\n",
    "    \"username\": \"Bret\",\n",
    "    \"email\": \"Sincere@april.biz\"\n",
    "}\n",
    "'''\n",
    "\n",
    "# Deserialize: Convert JSON string -> Python dict\n",
    "data = json.loads(api_response)\n",
    "print(\"Python dict:\", data)  # Python dict: {'id': 1, 'name': 'Leanne Graham', 'username': 'Bret', 'email': 'Sincere@april.biz'}\n",
    "\n",
    "print(type(data))  # <class 'dict'>\n",
    "print(\"User name:\", data[\"name\"])  # User name: Leanne Graham\n",
    "\n",
    "# Modify the data (like updating before sending back to API)\n",
    "data[\"email\"] = \"new_email@example.com\"\n",
    "\n",
    "# Serialize: Convert Python dict -> JSON string\n",
    "json_to_send = json.dumps(data)\n",
    "\n",
    "print(\"\\nJSON to send back to API:\")\n",
    "\n",
    "print(json_to_send)  # {\"id\": 1, \"name\": \"Leanne Graham\", \"username\": \"Bret\", \"email\": \"new_email@example.com\"}"
   ]
  },
  {
   "cell_type": "code",
   "execution_count": null,
   "id": "7e2d46cb",
   "metadata": {},
   "outputs": [],
   "source": [
    "## Example Weather App \n",
    "\n",
    "## You call a weather API (e.g., OpenWeatherMap). API sends response:\n",
    "\n",
    "import json\n",
    "\n",
    "api_response = '{\"city\": \"Bangalore\", \"temperature\": 29, \"condition\": \"Sunny\"}'\n",
    "\n",
    "data = json.loads(api_response)\n",
    "print(data)  # {'city': 'Bangalore', 'temperature': 29, 'condition': 'Sunny'}\n",
    "\n",
    "print(data[\"temperature\"])  # 29 (You can now display “Temperature in Bangalore: 29°C” in your app.)"
   ]
  },
  {
   "cell_type": "code",
   "execution_count": null,
   "id": "e0b0ac1e",
   "metadata": {},
   "outputs": [],
   "source": [
    "## csv module\n",
    "\n",
    "import csv\n",
    "\n",
    "# Writing to CSV\n",
    "with open('example.csv', mode='w', newline='') as file:  # opens a file for writing. newline='' avoids extra blank lines on Windows.\n",
    "\n",
    "    writer = csv.writer(file)  # creates a writer object.\n",
    "    writer.writerow(['name', 'age'])  # writes a single row to the CSV.\n",
    "    writer.writerow(['Nishank', 22])\n",
    "\n",
    "# Reading from CSV\n",
    "with open('example.csv', mode='r') as file:\n",
    "    reader = csv.reader(file)  # read rows from a CSV file.\n",
    "    for row in reader:\n",
    "        print(row)\n",
    "\n",
    "'''\n",
    "['name', 'age']\n",
    "['Nishank', '22']\n",
    "'''"
   ]
  },
  {
   "cell_type": "code",
   "execution_count": null,
   "id": "328b5c28",
   "metadata": {},
   "outputs": [],
   "source": [
    "## datetime\n",
    "\n",
    "from datetime import datetime, timedelta\n",
    "\n",
    "now = datetime.now()\n",
    "print(now)  # 2025-09-03 13:04:09.296101\n",
    "\n",
    "yest = now - timedelta(days=1)\n",
    "print(yest)  # 2025-09-02 13:04:09.296101"
   ]
  },
  {
   "cell_type": "code",
   "execution_count": null,
   "id": "b1e74219",
   "metadata": {},
   "outputs": [],
   "source": [
    "## time\n",
    "\n",
    "import time\n",
    "\n",
    "print(time.time())\n",
    "time.sleep(3)\n",
    "print(time.time())  # This will print the time after 3 seconds"
   ]
  },
  {
   "cell_type": "code",
   "execution_count": null,
   "id": "39a4e330",
   "metadata": {},
   "outputs": [],
   "source": [
    "## Regular Expression (Helps to match a certain expression)\n",
    "\n",
    "import re\n",
    "\n",
    "pattern = r'\\d+'    # \\d+ means “match one or more consecutive digits\n",
    "\n",
    "text = \"Hello this is 123 testing\"\n",
    "\n",
    "match = re.search(pattern, text)  # re.search(pattern, text) looks for the first occurrence of the pattern in the text. Returns a match object if found, otherwise None.\n",
    "\n",
    "print(match.group())  # 123 (match.group() retrieves the actual substring that matched the pattern.)"
   ]
  }
 ],
 "metadata": {
  "kernelspec": {
   "display_name": "Python 3",
   "language": "python",
   "name": "python3"
  },
  "language_info": {
   "codemirror_mode": {
    "name": "ipython",
    "version": 3
   },
   "file_extension": ".py",
   "mimetype": "text/x-python",
   "name": "python",
   "nbconvert_exporter": "python",
   "pygments_lexer": "ipython3",
   "version": "3.12.0"
  }
 },
 "nbformat": 4,
 "nbformat_minor": 5
}
