{
 "cells": [
  {
   "cell_type": "markdown",
   "id": "df1278b8",
   "metadata": {},
   "source": [
    "##### Standard Library Overview\n",
    "\n",
    "Python's standard library is a vast collection of modules and packages that come bundled with Python, providing a wide range of functionalities outside the box. Here's an overview of some of the most commonly used modules and packages in Python Standard Library"
   ]
  },
  {
   "cell_type": "code",
   "execution_count": null,
   "id": "8373e27c",
   "metadata": {},
   "outputs": [],
   "source": []
  }
 ],
 "metadata": {
  "kernelspec": {
   "display_name": "Python 3",
   "language": "python",
   "name": "python3"
  },
  "language_info": {
   "name": "python",
   "version": "3.12.0"
  }
 },
 "nbformat": 4,
 "nbformat_minor": 5
}
