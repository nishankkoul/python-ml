{
 "cells": [
  {
   "cell_type": "markdown",
   "metadata": {},
   "source": [
    "# Module 5: Modules and Packages Assignments\n",
    "## Lesson 5.1: Importing Modules\n",
    "### Assignment 1: Importing and Using Modules\n",
    "\n",
    "Import the `math` module and use it to calculate the square root of 25 and the sine of 90 degrees.\n",
    "\n",
    "### Assignment 2: Aliasing Modules\n",
    "\n",
    "Import the `datetime` module with an alias and use it to print the current date and time.\n",
    "\n",
    "### Assignment 3: Importing Specific Functions\n",
    "\n",
    "Import the `randint` function from the `random` module and use it to generate a random integer between 1 and 100.\n",
    "\n",
    "### Assignment 4: Importing Multiple Functions\n",
    "\n",
    "Import the `sqrt` and `pow` functions from the `math` module and use them to calculate the square root of 16 and 2 raised to the power of 3.\n",
    "\n",
    "### Assignment 5: Handling Import Errors\n",
    "\n",
    "Write code that attempts to import a non-existent module and gracefully handles the import error by printing an error message.\n",
    "\n",
    "## Lesson 5.2: Standard Library Overview\n",
    "### Assignment 6: Working with the `os` Module\n",
    "\n",
    "Use the `os` module to create a new directory, list the contents of the current directory, and remove the newly created directory.\n",
    "\n",
    "### Assignment 7: Working with the `sys` Module\n",
    "\n",
    "Use the `sys` module to print the Python version currently in use and the command-line arguments passed to the script.\n",
    "\n",
    "### Assignment 8: Working with the `math` Module\n",
    "\n",
    "Use the `math` module to calculate the greatest common divisor (GCD) of two numbers and the factorial of a number.\n",
    "\n",
    "### Assignment 9: Working with the `datetime` Module\n",
    "\n",
    "Use the `datetime` module to print the current date, calculate the date 100 days from today, and determine the day of the week for a given date.\n",
    "\n",
    "### Assignment 10: Working with the `random` Module\n",
    "\n",
    "Use the `random` module to generate a list of 5 random numbers between 1 and 50 and shuffle the elements of a list.\n",
    "\n",
    "## Lesson 5.3: Creating and Using Packages\n",
    "### Assignment 11: Creating a Simple Package\n",
    "\n",
    "Create a package named `mypackage` with two modules: `module1` and `module2`. `module1` should contain a function that adds two numbers, and `module2` should contain a function that multiplies two numbers. Write code to use these functions.\n",
    "\n",
    "### Assignment 12: Using `__init__.py`\n",
    "\n",
    "Modify the `mypackage` package to include an `__init__.py` file that imports the functions from `module1` and `module2`. Write code to use these functions.\n",
    "\n",
    "### Assignment 13: Importing from a Package\n",
    "\n",
    "Write code to import and use the functions from `mypackage` without explicitly importing `module1` and `module2`.\n",
    "\n",
    "### Assignment 14: Relative Imports\n",
    "\n",
    "Create a subpackage named `subpackage` within `mypackage` and move `module2` into `subpackage`. Modify the import statements in `__init__.py` to use relative imports. Write code to use the functions from both modules.\n",
    "\n",
    "### Assignment 15: Handling Package Import Errors\n",
    "\n",
    "Write code that attempts to import a non-existent function from `mypackage` and gracefully handles the import error by printing an error message."
   ]
  },
  {
   "cell_type": "code",
   "execution_count": null,
   "metadata": {},
   "outputs": [],
   "source": [
    "### Assignment 1: Importing and Using Modules\n",
    "\n",
    "## Import the `math` module and use it to calculate the square root of 25 and the sine of 90 degrees.\n",
    "\n",
    "import math\n",
    "\n",
    "print(math.sqrt(25))  # 5.0\n",
    "\n",
    "# Convert 90 degrees to radians\n",
    "radians = math.radians(90)\n",
    "\n",
    "print(math.sin(radians))  # 1.0"
   ]
  },
  {
   "cell_type": "code",
   "execution_count": null,
   "id": "aa2c1afa",
   "metadata": {},
   "outputs": [],
   "source": [
    "### Assignment 2: Aliasing Modules\n",
    "\n",
    "## Import the `datetime` module with an alias and use it to print the current date and time.\n",
    "\n",
    "import datetime as dt\n",
    "\n",
    "print(dt.datetime.now())  # 2025-09-03 14:16:25.429616\n"
   ]
  },
  {
   "cell_type": "code",
   "execution_count": null,
   "id": "ea4288d9",
   "metadata": {},
   "outputs": [],
   "source": [
    "### Assignment 3: Importing Specific Functions\n",
    "\n",
    "## Import the `randint` function from the `random` module and use it to generate a random integer between 1 and 100.\n",
    "\n",
    "from random import randint\n",
    "\n",
    "print(randint(1,100))  # 58"
   ]
  },
  {
   "cell_type": "code",
   "execution_count": null,
   "id": "9add71bb",
   "metadata": {},
   "outputs": [],
   "source": [
    "### Assignment 4: Importing Multiple Functions\n",
    "\n",
    "## Import the `sqrt` and `pow` functions from the `math` module and use them to calculate the square root of 16 and 2 raised to the power of 3.\n",
    "\n",
    "from math import sqrt, pow\n",
    "\n",
    "print(sqrt(16))  # 4.0\n",
    "print(pow(2,3))  # 8.0"
   ]
  },
  {
   "cell_type": "code",
   "execution_count": null,
   "id": "7d7df62a",
   "metadata": {},
   "outputs": [],
   "source": [
    "### Assignment 5: Handling Import Errors\n",
    "\n",
    "## Write code that attempts to import a non-existent module and gracefully handles the import error by printing an error message.\n",
    "\n",
    "try:\n",
    "    import nishank  # This module does not exist\n",
    "except ImportError:\n",
    "    print(\"Error: The module 'nishank' could not be found.\")\n",
    "\n",
    "'''\n",
    "Error: The module 'nishank' could not be found.\n",
    "'''\n"
   ]
  },
  {
   "cell_type": "code",
   "execution_count": null,
   "id": "1564dddb",
   "metadata": {},
   "outputs": [],
   "source": [
    "### Assignment 6: Working with the `os` Module\n",
    "\n",
    "## Use the `os` module to create a new directory, list the contents of the current directory, and remove the newly created directory.\n",
    "\n",
    "import os\n",
    "\n",
    "# Create a new directory\n",
    "os.mkdir('os_direc')\n",
    "\n",
    "# Print the current working directory\n",
    "print(\"Current Directory:\", os.getcwd())\n",
    "\n",
    "# List contents of the current directory\n",
    "print(\"Contents:\", os.listdir())\n",
    "\n",
    "# Remove the newly created directory\n",
    "os.rmdir('os_direc')\n",
    "\n",
    "# Verify removal\n",
    "print(\"Contents after removal:\", os.listdir())"
   ]
  },
  {
   "cell_type": "code",
   "execution_count": null,
   "id": "84b53d4f",
   "metadata": {},
   "outputs": [],
   "source": [
    "### Assignment 7: Working with the `sys` Module\n",
    "\n",
    "## Use the `sys` module to print the Python version currently in use and the command-line arguments passed to the script.\n",
    "\n",
    "import sys\n",
    "\n",
    "# Print the Python version currently in use\n",
    "print(\"Python version:\", sys.version)  \n",
    "\n",
    "# Print the command-line arguments passed to the script\n",
    "print(\"Command-line arguments:\", sys.argv)  "
   ]
  },
  {
   "cell_type": "code",
   "execution_count": null,
   "id": "d8ebf943",
   "metadata": {},
   "outputs": [],
   "source": [
    "### Assignment 8: Working with the `math` Module\n",
    "\n",
    "## Use the `math` module to calculate the greatest common divisor (GCD) of two numbers and the factorial of a number.\n",
    "\n",
    "from math import factorial,gcd\n",
    "\n",
    "print(factorial(5))  # 120\n",
    "print(gcd(12,90))  # 6"
   ]
  },
  {
   "cell_type": "code",
   "execution_count": null,
   "id": "4d3a8d9c",
   "metadata": {},
   "outputs": [],
   "source": [
    "### Assignment 9: Working with the `datetime` Module\n",
    "\n",
    "## Use the `datetime` module to print the current date, calculate the date 100 days from today, and determine the day of the week for a given date.\n",
    "\n",
    "from datetime import datetime, timedelta\n",
    "\n",
    "# Current date and time\n",
    "now = datetime.now()\n",
    "print(\"Current datetime:\", now)  # Current datetime: 2025-09-03 14:28:03.251014\n",
    "\n",
    "# Date 100 days from today\n",
    "ahead = now + timedelta(days=100)\n",
    "print(\"100 days from today:\", ahead)  # 100 days from today: 2025-12-12 14:28:03.251014\n",
    "\n",
    "# Day of the week for a specific date (0=Monday, 6=Sunday)\n",
    "print(\"Day of the week (number):\", now.weekday())  # Day of the week (number): 2\n",
    "\n",
    "# Day of the week (name)\n",
    "print(\"Day of the week (name):\", now.strftime(\"%A\"))  # Day of the week (name): Wednesday\n"
   ]
  },
  {
   "cell_type": "code",
   "execution_count": null,
   "id": "96cd82a6",
   "metadata": {},
   "outputs": [],
   "source": [
    "### Assignment 10: Working with the `random` Module\n",
    "\n",
    "## Use the `random` module to generate a list of 5 random numbers between 1 and 50 and shuffle the elements of a list.\n",
    "\n",
    "import random\n",
    "\n",
    "# Generate 5 unique random numbers between 1 and 50\n",
    "lst_5 = random.sample(range(1, 51), 5)\n",
    "print(\"Random 5 numbers:\", lst_5)  # Random 5 numbers: [38, 4, 22, 36, 26]\n",
    "\n",
    "# Shuffle the list\n",
    "random.shuffle(lst_5)\n",
    "print(\"Shuffled list:\", lst_5)  # Shuffled list: [38, 26, 4, 36, 22]"
   ]
  },
  {
   "cell_type": "code",
   "execution_count": null,
   "id": "277eef6a",
   "metadata": {},
   "outputs": [],
   "source": [
    "### Assignment 11: Creating a Simple Package\n",
    "\n",
    "## Create a package named `mypackage` with two modules: `module1` and `module2`. `module1` should contain a function that adds two numbers, and `module2` should contain a function that multiplies two numbers. Write code to use these functions.\n",
    "\n",
    "from mypackage.module1 import add\n",
    "from mypackage.module2 import mult\n",
    "\n",
    "print(add(1,2))  # 3\n",
    "print(mult(2,3))  # 6"
   ]
  },
  {
   "cell_type": "code",
   "execution_count": null,
   "id": "db1c3578",
   "metadata": {},
   "outputs": [],
   "source": [
    "### Assignment 12: Using `__init__.py`\n",
    "\n",
    "## Modify the `mypackage` package to include an `__init__.py` file that imports the functions from `module1` and `module2`. Write code to use these functions."
   ]
  },
  {
   "cell_type": "code",
   "execution_count": null,
   "id": "ee14c245",
   "metadata": {},
   "outputs": [],
   "source": [
    "### Assignment 13: Importing from a Package\n",
    "\n",
    "## Write code to import and use the functions from `mypackage` without explicitly importing `module1` and `module2`.\n",
    "\n",
    "from mypackage import add, mult\n",
    "\n",
    "print(add(1,2))  # 3\n",
    "print(mult(2,3))  # 6"
   ]
  }
 ],
 "metadata": {
  "kernelspec": {
   "display_name": "Python 3",
   "language": "python",
   "name": "python3"
  },
  "language_info": {
   "codemirror_mode": {
    "name": "ipython",
    "version": 3
   },
   "file_extension": ".py",
   "mimetype": "text/x-python",
   "name": "python",
   "nbconvert_exporter": "python",
   "pygments_lexer": "ipython3",
   "version": "3.12.0"
  }
 },
 "nbformat": 4,
 "nbformat_minor": 5
}
