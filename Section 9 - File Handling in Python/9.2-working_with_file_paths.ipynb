{
 "cells": [
  {
   "cell_type": "code",
   "execution_count": null,
   "id": "6b87c71f",
   "metadata": {},
   "outputs": [],
   "source": [
    "## Let's create a new directory\n",
    "\n",
    "import os\n",
    "\n",
    "new_directory = \"package\"\n",
    "os.mkdir(new_directory)\n",
    "print(f\"New Directory {new_directory} created\")"
   ]
  },
  {
   "cell_type": "code",
   "execution_count": null,
   "id": "b1bcff1a",
   "metadata": {},
   "outputs": [],
   "source": [
    "## Listing Files and Directories\n",
    "\n",
    "items = os.listdir('.')  # '.' specifies current working directory\n",
    "\n",
    "print(items)  # ['9.1-file_operation.ipynb', '9.2-working_with_file_paths.ipynb', 'destination.txt', 'example.bin', 'example.txt', 'package', 'source.txt']"
   ]
  },
  {
   "cell_type": "code",
   "execution_count": null,
   "id": "ecd3a15e",
   "metadata": {},
   "outputs": [],
   "source": [
    "## Joining Paths\n",
    "\n",
    "dir = \"folder\"\n",
    "file = \"file.txt\"\n",
    "full_path = os.path.join(dir, file)\n",
    "print(full_path)  # folder\\file.txt"
   ]
  },
  {
   "cell_type": "code",
   "execution_count": null,
   "id": "81537b63",
   "metadata": {},
   "outputs": [],
   "source": [
    "## You can also retrieve the absolute path\n",
    "dir = \"folder\"\n",
    "file = \"file.txt\"\n",
    "full_path = os.path.join(os.getcwd(), dir, file)\n",
    "print(full_path)  # d:\\Machine Learning\\Section 9 - File Handling in Python\\folder\\file.txt"
   ]
  },
  {
   "cell_type": "code",
   "execution_count": null,
   "id": "c8cd7e27",
   "metadata": {},
   "outputs": [],
   "source": [
    "## Checking if path exists\n",
    "\n",
    "path = \"my-example.txt\"\n",
    "if(os.path.exists(path)):\n",
    "    print(f\"Path {path} exists\")\n",
    "else:\n",
    "    print(f\"Path {path} doesn't exist\")  # Path my-example.txt doesn't exist"
   ]
  },
  {
   "cell_type": "code",
   "execution_count": null,
   "id": "220cc1a4",
   "metadata": {},
   "outputs": [],
   "source": [
    "## Checking if a path is a file or a directory\n",
    "\n",
    "path = \"package\"\n",
    "if(os.path.isfile(path)):\n",
    "    print(f\"Path {path} is a file\")  \n",
    "elif(os.path.isdir(path)):\n",
    "    print(f\"Path {path} is a directory\")\n",
    "else:\n",
    "    print(f\"Path {path} is neither a file nor a directory\")\n",
    "\n",
    "# Path package is a directory"
   ]
  },
  {
   "cell_type": "code",
   "execution_count": null,
   "id": "909788d2",
   "metadata": {},
   "outputs": [],
   "source": [
    "## Getting the absolute path\n",
    "\n",
    "path = \"9.1-file_operation.ipynb\"\n",
    "abs_path = os.path.abspath(path)\n",
    "print(abs_path)  # d:\\Machine Learning\\Section 9 - File Handling in Python\\9.1-file_operation.ipynb"
   ]
  }
 ],
 "metadata": {
  "kernelspec": {
   "display_name": "Python 3",
   "language": "python",
   "name": "python3"
  },
  "language_info": {
   "codemirror_mode": {
    "name": "ipython",
    "version": 3
   },
   "file_extension": ".py",
   "mimetype": "text/x-python",
   "name": "python",
   "nbconvert_exporter": "python",
   "pygments_lexer": "ipython3",
   "version": "3.12.0"
  }
 },
 "nbformat": 4,
 "nbformat_minor": 5
}
