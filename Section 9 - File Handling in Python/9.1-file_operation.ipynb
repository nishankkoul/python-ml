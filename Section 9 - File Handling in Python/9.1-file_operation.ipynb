{
 "cells": [
  {
   "cell_type": "markdown",
   "id": "bdd33610",
   "metadata": {},
   "source": [
    "##### File Operation - Read and Write Files\n",
    "\n",
    "File handling is a crucial part of any programming language. Python provides built in functions and methods to read from and write to files, both text and binary. This demo will cover the basics of file handling, including reading and writing text files and binaries."
   ]
  },
  {
   "cell_type": "code",
   "execution_count": null,
   "id": "e82fc6a0",
   "metadata": {},
   "outputs": [],
   "source": [
    "## Read a file\n",
    "\n",
    "with open('example.txt', 'r') as file:  # Opens the file 'example.txt' in read mode.\n",
    "    content = file.read()  # read() -> reads the entire content of the file as a single string.\n",
    "\n",
    "    print(content)\n",
    "\n",
    "'''\n",
    "Hello there!\n",
    "My name is Nishank\n",
    "nice to meet you\n",
    "'''"
   ]
  },
  {
   "cell_type": "code",
   "execution_count": null,
   "id": "7a6b9314",
   "metadata": {},
   "outputs": [],
   "source": [
    "## Read a file line by line\n",
    "\n",
    "with open('example.txt', 'r') as file:\n",
    "    for line in file:\n",
    "        print(line)\n",
    "\n",
    "'''\n",
    "Hello there!\n",
    "\n",
    "My name is Nishank\n",
    "\n",
    "nice to meet you\n",
    "'''\n",
    "\n",
    "## This is also printing the newline characters as a separate line altogether, if we want to avoid that...\n",
    "\n",
    "with open('example.txt', 'r') as file:\n",
    "    for line in file:\n",
    "        print(line.strip())\n",
    "\n",
    "'''\n",
    "Hello there!\n",
    "My name is Nishank\n",
    "nice to meet you\n",
    "'''"
   ]
  },
  {
   "cell_type": "code",
   "execution_count": 6,
   "id": "dd815acb",
   "metadata": {},
   "outputs": [
    {
     "data": {
      "text/plain": [
       "'\\nHello World\\nHow are you\\n'"
      ]
     },
     "execution_count": 6,
     "metadata": {},
     "output_type": "execute_result"
    }
   ],
   "source": [
    "## Writing a file (overwriting)\n",
    "\n",
    "with open('example.txt', 'w') as file:\n",
    "    file.write(\"Hello World\\n\")\n",
    "    file.write(\"How are you\\n\")\n",
    "\n",
    "## Let's see the file \n",
    "\n",
    "'''\n",
    "Hello World\n",
    "How are you\n",
    "'''\n",
    "\n",
    "## Previous content of the file is gone and we have new text that is overwritten."
   ]
  },
  {
   "cell_type": "code",
   "execution_count": null,
   "id": "81fd2d63",
   "metadata": {},
   "outputs": [],
   "source": [
    "## Writing a file (without overwriting)\n",
    "\n",
    "with open('example.txt', 'a') as file:\n",
    "    file.write(\"This is a new Hello World\\n\")\n",
    "    file.write(\"This is once again Nishank writing\\n\")\n",
    "\n",
    "## Let's see the contents of the file:\n",
    "\n",
    "'''\n",
    "Hello World\n",
    "How are you\n",
    "This is a new Hello World\n",
    "This is once again Nishank writing\n",
    "'''\n",
    "\n",
    "## This shows that the 'a' -> append mode doesn't overwrite but appends the text."
   ]
  },
  {
   "cell_type": "code",
   "execution_count": null,
   "id": "a907576a",
   "metadata": {},
   "outputs": [],
   "source": [
    "## Writing a list of lines to a file\n",
    "\n",
    "lines = ['First Line\\n', 'Second Line\\n', 'Third Line\\n', 'Fourth Line\\n']\n",
    "\n",
    "with open('example.txt', 'a') as file:\n",
    "    file.writelines(lines)  # Writes all the strings from the lines list into the file one after another.\n",
    "\n",
    "'''\n",
    "Hello World\n",
    "How are you\n",
    "This is a new Hello World\n",
    "This is once again Nishank writing\n",
    "First Line\n",
    "Second Line\n",
    "Third Line\n",
    "Fourth Line\n",
    "'''"
   ]
  },
  {
   "cell_type": "code",
   "execution_count": null,
   "id": "2637e744",
   "metadata": {},
   "outputs": [],
   "source": [
    "## Binary Files\n",
    "\n",
    "## Writing to a Binary File\n",
    "\n",
    "data = b'\\x00\\x01\\x02\\x03'\n",
    "with open('example.bin', 'wb') as file:\n",
    "    file.write(data)\n",
    "\n",
    "'''\n",
    "data = b'\\x00\\x01\\x02\\x03'\n",
    "\n",
    "The b'' means it’s a bytes object, not a normal string.\n",
    "\n",
    "\\x00, \\x01, \\x02, \\x03 are hexadecimal escape sequences representing raw byte values:\n",
    "\n",
    "\\x00 = 0\n",
    "\\x01 = 1\n",
    "\\x02 = 2\n",
    "\\x03 = 3\n",
    "\n",
    "So data is essentially 4 raw bytes: 00 01 02 03.\n",
    "\n",
    "'wb' means write in binary mode:\n",
    "\n",
    "-> w = write (creates/overwrites the file).\n",
    "-> b = binary mode (used for non-text data like images, executables, raw bytes).\n",
    "'''"
   ]
  },
  {
   "cell_type": "code",
   "execution_count": null,
   "id": "ab7c5f60",
   "metadata": {},
   "outputs": [],
   "source": [
    "## Reading a binary file\n",
    "\n",
    "with open('example.bin', 'rb') as file:\n",
    "    content = file.read()\n",
    "    print(content)  # b'\\x00\\x01\\x02\\x03'"
   ]
  },
  {
   "cell_type": "code",
   "execution_count": null,
   "id": "d4aa246f",
   "metadata": {},
   "outputs": [],
   "source": [
    "## Read Content from a source.txt and write it to destination.txt\n",
    "\n",
    "## Read source.txt\n",
    "\n",
    "with open('source.txt', 'r') as file:\n",
    "    content = file.read()\n",
    "\n",
    "with open('destination.txt', 'w') as file:\n",
    "    file.write(content)\n",
    "\n",
    "## This creates destination.txt and copies all the content from source.txt to it."
   ]
  },
  {
   "cell_type": "code",
   "execution_count": null,
   "id": "9e60d7c1",
   "metadata": {},
   "outputs": [],
   "source": [
    "## Read a text file (example.txt) and count the number of words, lines and characters\n",
    "\n",
    "# Open the file in read mode\n",
    "with open(\"example.txt\", \"r\") as file:\n",
    "    content = file.read()\n",
    "\n",
    "# Count characters\n",
    "num_chars = len(content)\n",
    "\n",
    "# Count words (split by whitespace)\n",
    "num_words = len(content.split())\n",
    "\n",
    "# Count lines\n",
    "with open(\"example.txt\", \"r\") as file:\n",
    "    num_lines = len(file.readlines())\n",
    "\n",
    "print(\"Number of characters:\", num_chars)  # Number of characters: 131\n",
    "print(\"Number of words:\", num_words)  # Number of words: 25\n",
    "print(\"Number of lines:\", num_lines)  # Number of lines: 8"
   ]
  },
  {
   "cell_type": "markdown",
   "id": "089fd148",
   "metadata": {},
   "source": [
    "The 'w+' mode in Python is used to open a file for both reading and writing. If the file doesn't exist, it will be created. If the file exists, its truncated (the file is overwritten)"
   ]
  },
  {
   "cell_type": "code",
   "execution_count": null,
   "id": "4408bb69",
   "metadata": {},
   "outputs": [],
   "source": [
    "## Writing and then Reading a file\n",
    "\n",
    "with open('example.txt', 'w+') as file:\n",
    "    # Writing\n",
    "\n",
    "    file.write(\"Hello this is a new line\\n\")\n",
    "    file.write(\"Hello this is again a new line\\n\")\n",
    "\n",
    "    ## Move the cursor to the beginning\n",
    "\n",
    "    file.seek(0)\n",
    "\n",
    "    ## Read the file\n",
    "\n",
    "    content = file.read()\n",
    "    print(content)\n",
    "\n",
    "'''\n",
    "Hello this is a new line\n",
    "Hello this is again a new line\n",
    "'''"
   ]
  }
 ],
 "metadata": {
  "kernelspec": {
   "display_name": "Python 3",
   "language": "python",
   "name": "python3"
  },
  "language_info": {
   "codemirror_mode": {
    "name": "ipython",
    "version": 3
   },
   "file_extension": ".py",
   "mimetype": "text/x-python",
   "name": "python",
   "nbconvert_exporter": "python",
   "pygments_lexer": "ipython3",
   "version": "3.12.0"
  }
 },
 "nbformat": 4,
 "nbformat_minor": 5
}
