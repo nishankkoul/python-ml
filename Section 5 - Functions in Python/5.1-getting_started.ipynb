{
 "cells": [
  {
   "cell_type": "markdown",
   "id": "66d52304",
   "metadata": {},
   "source": [
    "##### Definition\n",
    "\n",
    "A Function is a block of code that performs a specific task. Functions help in organizing code, reusing code, and improving readability."
   ]
  },
  {
   "cell_type": "code",
   "execution_count": 4,
   "id": "2f567c71",
   "metadata": {},
   "outputs": [],
   "source": [
    "## Syntax\n",
    "\n",
    "def function_name(parameters):\n",
    "    \"\"\"Docstring\"\"\"\n",
    "    # Function Body\n",
    "    return(\"\"\"expression\"\"\")"
   ]
  },
  {
   "cell_type": "code",
   "execution_count": null,
   "id": "c528ffaf",
   "metadata": {},
   "outputs": [],
   "source": [
    "## Write a function to print if a number is even or odd\n",
    "\n",
    "def even_or_odd(num):\n",
    "    \"\"\"This function checks if a number is even or odd\"\"\"\n",
    "    if (num % 2 == 0):\n",
    "        print(\"Even number\")\n",
    "    else:\n",
    "        print(\"Odd number\")\n",
    "\n",
    "## Caling the function\n",
    "even_or_odd(24)\n",
    "\n",
    "'''\n",
    "Output: Even number\n",
    "'''"
   ]
  },
  {
   "cell_type": "code",
   "execution_count": null,
   "id": "7de776c5",
   "metadata": {},
   "outputs": [],
   "source": [
    "## Function with multiple parameters\n",
    "\n",
    "def add(num1, num2):\n",
    "    \"\"\"This functions is responsible for adding two numbers\"\"\"\n",
    "    return num1+num2\n",
    "\n",
    "ans = add(19,10)\n",
    "print(f\"The sum is {ans}\")\n",
    "\n",
    "'''\n",
    "The sum is 29\n",
    "'''\n"
   ]
  },
  {
   "cell_type": "code",
   "execution_count": null,
   "id": "e0a012a1",
   "metadata": {},
   "outputs": [],
   "source": [
    "## Greeting Function\n",
    "\n",
    "def greet(name):\n",
    "    print(f\"Hello {name}, Happy Learning ML!\")\n",
    "\n",
    "greet(\"Nishank\")\n",
    "\n",
    "'''\n",
    "Hello Nishank, Happy Learning ML!\n",
    "'''"
   ]
  },
  {
   "cell_type": "code",
   "execution_count": null,
   "id": "49d76308",
   "metadata": {},
   "outputs": [],
   "source": [
    "## Functions with default parameters\n",
    "def greet(name=\"Guest\"):\n",
    "    print(f\"Hello {name}, Happy Learning ML!\")\n",
    "\n",
    "greet()  # If you give the name here even after passing the default parameters, it will consider the argument you are passing over default parameter.\n",
    "\n",
    "'''\n",
    "Hello Guest, Happy Learning ML!\n",
    "'''"
   ]
  },
  {
   "cell_type": "code",
   "execution_count": null,
   "id": "8785b721",
   "metadata": {},
   "outputs": [],
   "source": [
    "## Variable Arguments (Positional and Keyword)\n",
    "\n",
    "## Positional Arguments\n",
    "\n",
    "def print_numbers(*args):\n",
    "    for x in args:\n",
    "        print(x)\n",
    "\n",
    "print_numbers(1,2,3,4,5,6,7,\"NK\")\n",
    "\n",
    "'''\n",
    "1\n",
    "2\n",
    "3\n",
    "4\n",
    "5\n",
    "6\n",
    "7\n",
    "NK\n",
    "'''"
   ]
  },
  {
   "cell_type": "code",
   "execution_count": null,
   "id": "70943e82",
   "metadata": {},
   "outputs": [],
   "source": [
    "## Keyword Arguments\n",
    "\n",
    "## Keyword Arguments take data in the form of key-value pairs and can be considered a dictionary\n",
    "\n",
    "def print_details(**kwargs):\n",
    "    for key,val in kwargs.items():\n",
    "        print(f\"{key}:{val}\")\n",
    "\n",
    "print_details(name=\"Nishank Koul\",age=\"22\",country=\"India\")\n",
    "\n",
    "'''\n",
    "name:Nishank Koul\n",
    "age:22\n",
    "country:India\n",
    "'''"
   ]
  },
  {
   "cell_type": "code",
   "execution_count": null,
   "id": "20cf75a2",
   "metadata": {},
   "outputs": [],
   "source": [
    "## Return statement\n",
    "\n",
    "## In python, we can return multiple values\n",
    "\n",
    "def multiply(a,b):\n",
    "    return a*b, a, b\n",
    "\n",
    "multiply(8,9)  # (72, 8, 9)"
   ]
  }
 ],
 "metadata": {
  "kernelspec": {
   "display_name": "Python 3",
   "language": "python",
   "name": "python3"
  },
  "language_info": {
   "codemirror_mode": {
    "name": "ipython",
    "version": 3
   },
   "file_extension": ".py",
   "mimetype": "text/x-python",
   "name": "python",
   "nbconvert_exporter": "python",
   "pygments_lexer": "ipython3",
   "version": "3.12.0"
  }
 },
 "nbformat": 4,
 "nbformat_minor": 5
}
