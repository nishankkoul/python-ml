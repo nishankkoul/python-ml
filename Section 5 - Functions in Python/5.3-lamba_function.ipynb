{
 "cells": [
  {
   "cell_type": "markdown",
   "id": "6b40e884",
   "metadata": {},
   "source": [
    "##### Lambda Functions in Python\n",
    "\n",
    "Lambda functions are small anonymous functions defined using the lambda keyword. They can have any number of arguments but only one expression. They are only used for short operations or as arguments to higher order functions. "
   ]
  },
  {
   "cell_type": "code",
   "execution_count": null,
   "id": "f7034122",
   "metadata": {},
   "outputs": [],
   "source": [
    "## Syntax\n",
    "\n",
    "lambda arguments : expression"
   ]
  },
  {
   "cell_type": "code",
   "execution_count": null,
   "id": "c11e2dee",
   "metadata": {},
   "outputs": [],
   "source": [
    "## Lambda Function for addition\n",
    "\n",
    "addition = lambda a,b : a+b\n",
    "print(type(addition))  # <class 'function'>\n",
    "print(addition(3,4))  # 7"
   ]
  },
  {
   "cell_type": "code",
   "execution_count": null,
   "id": "67777ac6",
   "metadata": {},
   "outputs": [],
   "source": [
    "## Lambda Function to check if a number is even\n",
    "\n",
    "even_num = lambda num : num%2==0\n",
    "print(even_num(341))  # False"
   ]
  },
  {
   "cell_type": "code",
   "execution_count": null,
   "id": "f830ac5f",
   "metadata": {},
   "outputs": [],
   "source": [
    "## Lambda Function with multiple parameters\n",
    "\n",
    "new_addition = lambda x,y,z:x+y+z\n",
    "print(new_addition(1,2,3))  # 6"
   ]
  },
  {
   "cell_type": "code",
   "execution_count": null,
   "id": "162a6c2f",
   "metadata": {},
   "outputs": [],
   "source": [
    "## map() - applies a function to all the items in a list\n",
    "\n",
    "## The syntax of map is map(function, *iterables)\n",
    "\n",
    "lst = [1,2,3,4,5]\n",
    "def sqaures(num):\n",
    "    return num ** 2\n",
    "\n",
    "map(sqaures, lst)  # <map at 0x1a215d20b50> -> This creates a map object in some empty memory location\n",
    "\n",
    "list(map(sqaures, lst) )  # [1, 4, 9, 16, 25]"
   ]
  },
  {
   "cell_type": "code",
   "execution_count": null,
   "id": "ecbda41d",
   "metadata": {},
   "outputs": [],
   "source": [
    "## map() with lambda function\n",
    "\n",
    "lst = [1,2,3,4,5]\n",
    "list(map(lambda x: x**2, lst))  # [1, 4, 9, 16, 25]"
   ]
  }
 ],
 "metadata": {
  "kernelspec": {
   "display_name": "Python 3",
   "language": "python",
   "name": "python3"
  },
  "language_info": {
   "codemirror_mode": {
    "name": "ipython",
    "version": 3
   },
   "file_extension": ".py",
   "mimetype": "text/x-python",
   "name": "python",
   "nbconvert_exporter": "python",
   "pygments_lexer": "ipython3",
   "version": "3.12.0"
  }
 },
 "nbformat": 4,
 "nbformat_minor": 5
}
