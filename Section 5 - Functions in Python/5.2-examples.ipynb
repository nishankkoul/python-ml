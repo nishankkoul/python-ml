{
 "cells": [
  {
   "cell_type": "code",
   "execution_count": null,
   "id": "b4839a18",
   "metadata": {},
   "outputs": [],
   "source": [
    "## Example 1 - Temperature Conversion\n",
    "\n",
    "def cels_to_fahr(cels):\n",
    "    fahr = (9/5)*cels + 32\n",
    "    return fahr\n",
    "\n",
    "fahr = cels_to_fahr(37.6)\n",
    "print(f\"The temperature in fahrenheit is: {fahr}\")  # The temperature in fahrenheit is: 99.68"
   ]
  },
  {
   "cell_type": "code",
   "execution_count": null,
   "id": "1c613681",
   "metadata": {},
   "outputs": [],
   "source": [
    "## Example 2 - Password Strength Checker\n",
    "\n",
    "def is_strong_password(password):\n",
    "    if (len(password) < 8):\n",
    "        return False\n",
    "    if not any(char.isdigit() for char in password):  # any(...) goes through each character and checks if at least one is a digit (0–9). If none are digits → password is weak.\n",
    "        return False\n",
    "    if not any(char.islower() for char in password):  # Makes sure there is at least one lowercase letter.\n",
    "        return False\n",
    "    if not any(char.isupper() for char in password):  # Makes sure there is at least one uppercase letter.\n",
    "        return False\n",
    "    if not any(char in '!@#$%^&*()' for char in password):  # Requires at least one special character from the list !@#$%^&*().\n",
    "        return False\n",
    "    return True\n",
    "\n",
    "## Calling the function\n",
    "print(is_strong_password(\"WeakPwd\"))  # False\n",
    "print(is_strong_password(\"Strong@Passwd123\"))  # True"
   ]
  },
  {
   "cell_type": "code",
   "execution_count": null,
   "id": "3a105b1c",
   "metadata": {},
   "outputs": [],
   "source": [
    "## Example 3 - Calculate the cost of items in a cart\n",
    "\n",
    "def cart_cost(cart):\n",
    "    total_cost = 0\n",
    "    for item in cart:\n",
    "        total_cost += item[\"quantity\"] * item[\"price\"]  # Each item is a dictionary and we can directly access using item[\"key_name\"]\n",
    "    return total_cost\n",
    "\n",
    "my_cart = [\n",
    "    {\"name\": \"Apple\", \"quantity\": 7, \"price\": 15},\n",
    "    {\"name\": \"Mango\", \"quantity\": 5, \"price\": 25},\n",
    "    {\"name\": \"Banana\", \"quantity\": 6, \"price\": 5}\n",
    "]\n",
    "\n",
    "cost = cart_cost(my_cart)\n",
    "print(f\"The cart cost is {cost}\")  # The cart cost is 260"
   ]
  },
  {
   "cell_type": "code",
   "execution_count": null,
   "id": "2b4030c3",
   "metadata": {},
   "outputs": [],
   "source": [
    "## Example 4 - Check if a String is Palindrome\n",
    "\n",
    "def check_palindrome(str):\n",
    "    chars = list(str)\n",
    "    rev_chars = chars[::-1]\n",
    "    if(chars == rev_chars):\n",
    "        return True\n",
    "    return False\n",
    "\n",
    "print(check_palindrome(\"naman\"))  # True"
   ]
  },
  {
   "cell_type": "code",
   "execution_count": null,
   "id": "d3158ec3",
   "metadata": {},
   "outputs": [],
   "source": [
    "## Example 5 - Calculate the Factorial of a number\n",
    "\n",
    "def factorial(num):\n",
    "    fact = 1\n",
    "    for x in range(1,num+1):\n",
    "        fact *= x\n",
    "    return fact\n",
    "\n",
    "ans = factorial(5)\n",
    "print(f\"The factorial of the number is: {ans}\")  # The factorial of the number is: 120"
   ]
  },
  {
   "cell_type": "code",
   "execution_count": null,
   "id": "53d2c8bb",
   "metadata": {},
   "outputs": [],
   "source": [
    "## Example 6 - A function to read a file and count the frequency of each word\n",
    "\n",
    "def word_count_frequency(file_path):\n",
    "\n",
    "    word_count = {}  # Creates an empty dictionary, keys will be words and values will be the frequency\n",
    "\n",
    "    with open(file_path, 'r') as file:  # 'r' opens the file in read mode, the with statement makes sure the file is automatically closed after use. file becomes the file object you can read line by line.\n",
    "\n",
    "        for line in file:  # Iterates through each line of the file one by one.\n",
    "\n",
    "            words = line.split()  # Splits the line into a list of words (default split = spaces). Example: \"Hello world\" → [\"Hello\", \"world\"].\n",
    "\n",
    "            for word in words:  # Iterates through each word from that line.\n",
    "\n",
    "                word = word.lower().strip('.,/?;:')  # word.lower() → converts the word to lowercase so that Hello and hello are treated the same. .strip('.,/?;:') → removes punctuation from the start and end of the word. Example: \"World,\" → \"world\"\n",
    "\n",
    "                word_count[word] = word_count.get(word, 0) + 1  # Updates the dictionary with the word’s count. word_count.get(word, 0) → returns the current count of the word, or 0 if it doesn’t exist yet. Then adds 1 to it. Example: if \"apple\" is already counted 2 times → now becomes 3.\n",
    "\n",
    "    return word_count\n",
    "\n",
    "dict = word_count_frequency(\"5.2-sample.txt\").copy()\n",
    "print(dict)\n",
    "\n",
    "'''\n",
    "{'hey': 1, 'there': 1, 'how': 1, 'are': 1, 'you': 1, 'doing': 2, 'i': 1, 'am': 1, 'good': 2, 'better': 1, 'best': 1}\n",
    "'''"
   ]
  },
  {
   "cell_type": "code",
   "execution_count": null,
   "id": "95efe415",
   "metadata": {},
   "outputs": [],
   "source": [
    "## Example 7 - A function to validate email address\n",
    "\n",
    "import re\n",
    "\n",
    "def is_valid_email(email):\n",
    "    \"\"\"Returns True if the email is valid, False otherwise.\"\"\"\n",
    "\n",
    "    # Regular expression pattern for a basic email validation\n",
    "    pattern = r'^[a-zA-Z0-9._%+-]+@[a-zA-Z0-9.-]+\\.[a-zA-Z]{2,}$'\n",
    "    \n",
    "    if re.match(pattern, email):\n",
    "        return True\n",
    "    else:\n",
    "        return False\n",
    "    \n",
    "# Example usage\n",
    "print(is_valid_email(\"example@gmail.com\"))  # True\n",
    "print(is_valid_email(\"invalid-email.com\"))  # False \n",
    "print(is_valid_email(\"user@domain.co.in\"))  # True"
   ]
  }
 ],
 "metadata": {
  "kernelspec": {
   "display_name": "Python 3",
   "language": "python",
   "name": "python3"
  },
  "language_info": {
   "codemirror_mode": {
    "name": "ipython",
    "version": 3
   },
   "file_extension": ".py",
   "mimetype": "text/x-python",
   "name": "python",
   "nbconvert_exporter": "python",
   "pygments_lexer": "ipython3",
   "version": "3.12.0"
  }
 },
 "nbformat": 4,
 "nbformat_minor": 5
}
