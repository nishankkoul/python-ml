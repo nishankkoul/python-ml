{
 "cells": [
  {
   "cell_type": "markdown",
   "id": "30eaf3c9",
   "metadata": {},
   "source": [
    "##### Map Function in Python\n",
    "\n",
    "The map() functions applies a given function to all items in an input list (or any other iterable) and returns a map object (an iterator). This is particularly useful for transforming data in a list comprehensively"
   ]
  },
  {
   "cell_type": "code",
   "execution_count": null,
   "id": "4d0d4795",
   "metadata": {},
   "outputs": [],
   "source": [
    "lst = [1,2,3,4,5,6,7]\n",
    "\n",
    "def squares(x):\n",
    "    return x*x\n",
    "\n",
    "print(squares(3))  # 9"
   ]
  },
  {
   "cell_type": "code",
   "execution_count": null,
   "id": "c2d3a4c7",
   "metadata": {},
   "outputs": [],
   "source": [
    "## map() function\n",
    "\n",
    "list(map(squares, lst))  # [1, 4, 9, 16, 25, 36, 49]"
   ]
  },
  {
   "cell_type": "code",
   "execution_count": null,
   "id": "c7a00baa",
   "metadata": {},
   "outputs": [],
   "source": [
    "## Lambda Function with map\n",
    "\n",
    "list(map(lambda x: x*x, lst))  # [1, 4, 9, 16, 25, 36, 49]"
   ]
  },
  {
   "cell_type": "code",
   "execution_count": null,
   "id": "dc170cf9",
   "metadata": {},
   "outputs": [],
   "source": [
    "## Map multiple iterables\n",
    "\n",
    "nums1 = [1,2,3]\n",
    "nums2 = [4,5,6]\n",
    "\n",
    "add_lists = list(map(lambda x,y : x+y, nums1, nums2))\n",
    "print(add_lists)  # [5, 7, 9]"
   ]
  },
  {
   "cell_type": "code",
   "execution_count": null,
   "id": "749ee78a",
   "metadata": {},
   "outputs": [],
   "source": [
    "## map() to convert a list of string numbers to integers\n",
    "\n",
    "str_nos = ['1','2','3','4','5']\n",
    "int_nos = list(map(int, str_nos))  # We perform type casting as a function by specifying int\n",
    "print(int_nos)  # [1, 2, 3, 4, 5]"
   ]
  },
  {
   "cell_type": "code",
   "execution_count": null,
   "id": "e87ee967",
   "metadata": {},
   "outputs": [],
   "source": [
    "## Using in-built functions inside map\n",
    "\n",
    "words = ['apple', 'banana', 'mango']\n",
    "upper_words = list(map(str.upper, words))\n",
    "print(upper_words)  # ['APPLE', 'BANANA', 'MANGO']"
   ]
  },
  {
   "cell_type": "code",
   "execution_count": null,
   "id": "2ea0b59d",
   "metadata": {},
   "outputs": [],
   "source": [
    "## Applying map() to a list of dictionary items\n",
    "\n",
    "def get_name(people):\n",
    "    return people['name']\n",
    "\n",
    "people = [\n",
    "    {'name': 'Nishank', 'age': 22},\n",
    "    {'name': 'John', 'age': 32},\n",
    "]\n",
    "\n",
    "names_list = list(map(get_name, people))\n",
    "print(names_list)  # ['Nishank', 'John']"
   ]
  }
 ],
 "metadata": {
  "kernelspec": {
   "display_name": "Python 3",
   "language": "python",
   "name": "python3"
  },
  "language_info": {
   "codemirror_mode": {
    "name": "ipython",
    "version": 3
   },
   "file_extension": ".py",
   "mimetype": "text/x-python",
   "name": "python",
   "nbconvert_exporter": "python",
   "pygments_lexer": "ipython3",
   "version": "3.12.0"
  }
 },
 "nbformat": 4,
 "nbformat_minor": 5
}
