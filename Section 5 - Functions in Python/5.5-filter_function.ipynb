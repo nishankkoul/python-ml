{
 "cells": [
  {
   "cell_type": "markdown",
   "id": "9ab0fab5",
   "metadata": {},
   "source": [
    "##### Filter Function in Python\n",
    "\n",
    "The filter() function in python constructs an iterator from elements of a iterable for which a function returns true. It is used to filter out items from a list (or any other iterable) based on a condition"
   ]
  },
  {
   "cell_type": "code",
   "execution_count": null,
   "id": "b6eb22a5",
   "metadata": {},
   "outputs": [],
   "source": [
    "## filter() function for obtaining even numbers only from a list\n",
    "\n",
    "def even_no(num):\n",
    "    if num%2 == 0:\n",
    "        return True\n",
    "\n",
    "print(even_nos(4))\n",
    "\n",
    "nums = [1,2,3,4,5,6,7,8]\n",
    "\n",
    "list(filter(even_no, nums))  # [2, 4, 6, 8]"
   ]
  },
  {
   "cell_type": "code",
   "execution_count": null,
   "id": "27b1ec48",
   "metadata": {},
   "outputs": [],
   "source": [
    "## filter() with lambda function\n",
    "\n",
    "nums = [1,2,3,4,5,6,7,8,9]\n",
    "\n",
    "## We need numbers greater than 5 only\n",
    "\n",
    "greater_nos = list(filter(lambda x : x > 5, nums))\n",
    "print(greater_nos)  # [6, 7, 8, 9]"
   ]
  },
  {
   "cell_type": "code",
   "execution_count": null,
   "id": "c9cab3a6",
   "metadata": {},
   "outputs": [],
   "source": [
    "## filter() with a lambda function and multiple conditions\n",
    "\n",
    "even_and_greater_than_five = list(filter(lambda x : x%2 == 0 and x > 5, nums))\n",
    "print(even_and_greater_than_five)  # [6, 8]"
   ]
  },
  {
   "cell_type": "code",
   "execution_count": null,
   "id": "d9fae782",
   "metadata": {},
   "outputs": [],
   "source": [
    "## filter() to check if the age is greater than 25 in dictionary\n",
    "\n",
    "people = [\n",
    "    {'name': 'Nishank', 'age': 22},\n",
    "    {'name': 'John', 'age': 32},\n",
    "    {'name': 'Jacob', 'age': 45},\n",
    "]\n",
    "\n",
    "def age_greater_than_25(person):\n",
    "    return person['age']>25\n",
    "\n",
    "list(filter(age_greater_than_25, people))  # [{'name': 'John', 'age': 32}, {'name': 'Jacob', 'age': 45}]"
   ]
  }
 ],
 "metadata": {
  "kernelspec": {
   "display_name": "Python 3",
   "language": "python",
   "name": "python3"
  },
  "language_info": {
   "codemirror_mode": {
    "name": "ipython",
    "version": 3
   },
   "file_extension": ".py",
   "mimetype": "text/x-python",
   "name": "python",
   "nbconvert_exporter": "python",
   "pygments_lexer": "ipython3",
   "version": "3.12.0"
  }
 },
 "nbformat": 4,
 "nbformat_minor": 5
}
