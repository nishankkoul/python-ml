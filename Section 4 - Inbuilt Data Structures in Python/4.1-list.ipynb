{
 "cells": [
  {
   "cell_type": "markdown",
   "id": "335622b2",
   "metadata": {},
   "source": [
    "Lists are ordered, mutable collection of items.\n",
    "They can contain items of different data types."
   ]
  },
  {
   "cell_type": "code",
   "execution_count": null,
   "id": "a1bb75be",
   "metadata": {},
   "outputs": [],
   "source": [
    "lst = []\n",
    "print(type(lst))  ## <class 'list'>"
   ]
  },
  {
   "cell_type": "code",
   "execution_count": null,
   "id": "cf3d683e",
   "metadata": {},
   "outputs": [],
   "source": [
    "## You can also create an empty list like this\n",
    "\n",
    "empty_list = list()\n",
    "print(empty_list)  # []"
   ]
  },
  {
   "cell_type": "code",
   "execution_count": null,
   "id": "4abcf88d",
   "metadata": {},
   "outputs": [],
   "source": [
    "names = [\"Nishank\", \"Jack\", \"Dorsey\", \"John\"]\n",
    "print(names)  # ['Nishank', 'Jack', 'Dorsey', 'John']"
   ]
  },
  {
   "cell_type": "code",
   "execution_count": null,
   "id": "4aa75126",
   "metadata": {},
   "outputs": [],
   "source": [
    "mixed_list = [\"Hello\", 1.24, True, 99]\n",
    "print(mixed_list)  # mixed_list = [\"Hello\", 1.24, True, 99]"
   ]
  },
  {
   "cell_type": "code",
   "execution_count": null,
   "id": "f5dc4249",
   "metadata": {},
   "outputs": [],
   "source": [
    "## Accessing List Elements\n",
    "\n",
    "fruits = [\"apple\", \"mango\", \"banana\", \"orange\", \"kiwi\", \"guava\"]\n",
    "print(fruits[0])\n",
    "print(fruits[1])\n",
    "print(fruits[2])\n",
    "print(fruits[3])\n",
    "print(fruits[4])\n",
    "print(fruits[5])"
   ]
  },
  {
   "cell_type": "code",
   "execution_count": null,
   "id": "daec5111",
   "metadata": {},
   "outputs": [],
   "source": [
    "## We can also print the last element of the fruits list in this manner\n",
    "print(fruits[5])\n",
    "print(fruits[-1])\n",
    "\n",
    "## Both the above print statements will print guava"
   ]
  },
  {
   "cell_type": "code",
   "execution_count": null,
   "id": "3e696726",
   "metadata": {},
   "outputs": [],
   "source": [
    "## We can also traverse the list in reverse manner like this\n",
    "\n",
    "print(fruits[-1])\n",
    "print(fruits[-2])\n",
    "print(fruits[-3])\n",
    "print(fruits[-4])\n",
    "print(fruits[-5])\n",
    "print(fruits[-6])"
   ]
  },
  {
   "cell_type": "code",
   "execution_count": null,
   "id": "f23d5e99",
   "metadata": {},
   "outputs": [],
   "source": [
    "## Accessing a set of elements\n",
    "\n",
    "print(fruits[1:])  # This will print everything starting from the first index  {['mango', 'banana', 'orange', 'kiwi', 'guava']}\n",
    "print(fruits[1:3])  # This will print the 1st and the 2nd index element  {['mango', 'banana']}"
   ]
  },
  {
   "cell_type": "code",
   "execution_count": null,
   "id": "33ddfa76",
   "metadata": {},
   "outputs": [],
   "source": [
    "## Modifying List Elements\n",
    "\n",
    "## Let's replace banana with something else\n",
    "\n",
    "fruits[1] = \"watermelon\"\n",
    "print(fruits)  # ['apple', 'watermelon', 'banana', 'orange', 'kiwi', 'guava']\n",
    "\n",
    "## We can see that 'mango' is replaced by watermelon"
   ]
  },
  {
   "cell_type": "code",
   "execution_count": null,
   "id": "45d98cda",
   "metadata": {},
   "outputs": [],
   "source": [
    "## List Methods\n",
    "\n",
    "fruits = [\"apple\", \"mango\", \"banana\", \"orange\", \"kiwi\", \"guava\"]\n",
    "\n",
    "## To add an item to the end, we use append()\n",
    "\n",
    "fruits.append(\"cherry\")\n",
    "print(fruits)  # ['apple', 'mango', 'banana', 'orange', 'kiwi', 'guava', 'cherry']"
   ]
  },
  {
   "cell_type": "code",
   "execution_count": null,
   "id": "3ab3d557",
   "metadata": {},
   "outputs": [],
   "source": [
    "## Adding an element at a specific index, we use the insert() method\n",
    "\n",
    "fruits.insert(1,\"watermelon\")\n",
    "print(fruits)  # ['apple', 'watermelon', 'mango', 'banana', 'orange', 'kiwi', 'guava', 'cherry']"
   ]
  },
  {
   "cell_type": "code",
   "execution_count": null,
   "id": "60eaada6",
   "metadata": {},
   "outputs": [],
   "source": [
    "## Removing any element, we use the remove() method\n",
    "\n",
    "fruits.remove(\"mango\")  # This removes the first occurrence of the element specified.\n",
    "print(fruits)  # ['apple', 'watermelon', 'banana', 'orange', 'kiwi', 'guava', 'cherry']"
   ]
  },
  {
   "cell_type": "code",
   "execution_count": null,
   "id": "2de06695",
   "metadata": {},
   "outputs": [],
   "source": [
    "## Remove and return the last element, we use the pop() method\n",
    "\n",
    "popped_fruit = fruits.pop()\n",
    "print(popped_fruit)  # cherry\n",
    "print(fruits)  # ['apple', 'watermelon', 'banana', 'orange', 'kiwi', 'guava']"
   ]
  },
  {
   "cell_type": "code",
   "execution_count": null,
   "id": "1ec00bbf",
   "metadata": {},
   "outputs": [],
   "source": [
    "## Retrieve the index of any element\n",
    "index = fruits.index(\"banana\")\n",
    "print(index)  # 2"
   ]
  },
  {
   "cell_type": "code",
   "execution_count": null,
   "id": "e104d5f4",
   "metadata": {},
   "outputs": [],
   "source": [
    "## To count the number of occurrences of a specific element, we use the count() method\n",
    "\n",
    "print(fruits)  # ['apple', 'watermelon', 'banana', 'orange', 'kiwi', 'guava']\n",
    "\n",
    "# Let's add banana to the 2nd index which will make it 2 bananas inside a single list\n",
    "\n",
    "fruits.insert(2, \"banana\")\n",
    "print(fruits.count(\"banana\"))  # 2\n",
    "\n",
    "print(fruits)  # ['apple', 'watermelon', 'banana', 'banana', 'orange', 'kiwi', 'guava']"
   ]
  },
  {
   "cell_type": "code",
   "execution_count": null,
   "id": "e8ca32cf",
   "metadata": {},
   "outputs": [],
   "source": [
    "## We can also sort the list using the sort() method\n",
    "\n",
    "fruits.sort()\n",
    "print(fruits)  # ['apple', 'banana', 'banana', 'guava', 'kiwi', 'orange', 'watermelon']\n",
    "\n",
    "## This will sort the list alphabetically"
   ]
  },
  {
   "cell_type": "code",
   "execution_count": null,
   "id": "b3bcd96e",
   "metadata": {},
   "outputs": [],
   "source": [
    "## Reverse the List\n",
    "\n",
    "fruits.reverse()\n",
    "print(fruits)  # ['watermelon', 'orange', 'kiwi', 'guava', 'banana', 'banana', 'apple']"
   ]
  },
  {
   "cell_type": "code",
   "execution_count": null,
   "id": "1be0d859",
   "metadata": {},
   "outputs": [],
   "source": [
    "## Remove all the elements inside the list, we use the clear() method\n",
    "\n",
    "fruits.clear()\n",
    "print(fruits)  # []"
   ]
  },
  {
   "cell_type": "code",
   "execution_count": null,
   "id": "2c793b55",
   "metadata": {},
   "outputs": [],
   "source": [
    "## Slicing in List\n",
    "\n",
    "numbers = [1,2,3,4,5,6,7,8,9,10]\n",
    "print(numbers[2:5])  # [3, 4, 5]\n",
    "print(numbers[:5])  # [1, 2, 3, 4, 5]\n",
    "print(numbers[5:])  # [6, 7, 8, 9, 10]\n",
    "print(numbers[::2])  # [1, 3, 5, 7, 9]\n",
    "print(numbers[::3])  # [1, 4, 7, 10]\n",
    "print(numbers[::-1])  # [10, 9, 8, 7, 6, 5, 4, 3, 2, 1]\n",
    "print(numbers[::-2])  # [10, 8, 6, 4, 2]"
   ]
  },
  {
   "cell_type": "code",
   "execution_count": null,
   "id": "65b7a8bb",
   "metadata": {},
   "outputs": [],
   "source": [
    "## Iterating over lists\n",
    "\n",
    "print(numbers)  # [1, 2, 3, 4, 5, 6, 7, 8, 9, 10]\n",
    "\n",
    "for num in numbers:\n",
    "    print(num)  # This will print all the numbers"
   ]
  },
  {
   "cell_type": "code",
   "execution_count": null,
   "id": "86a1c817",
   "metadata": {},
   "outputs": [],
   "source": [
    "## Iterating with index\n",
    "for index,number in enumerate(numbers):\n",
    "    print(index, number)\n",
    "\n",
    "'''\n",
    "0 1\n",
    "1 2\n",
    "2 3\n",
    "3 4\n",
    "4 5\n",
    "5 6\n",
    "6 7\n",
    "7 8\n",
    "8 9\n",
    "9 10\n",
    "'''\n",
    "\n",
    "# This code is showing how to iterate over a list while also keeping track of the index using Python’s built-in enumerate() function.\n",
    "\n",
    "# Essentially, enumerate() is handy when you need both the index and the value of a list while looping."
   ]
  },
  {
   "cell_type": "code",
   "execution_count": null,
   "id": "79cf4d3f",
   "metadata": {},
   "outputs": [],
   "source": [
    "## Adding squares from 0 to 9 to a list\n",
    "lst = []\n",
    "for x in range(10):\n",
    "    lst.append(x**2)\n",
    "print(lst)  # [0, 1, 4, 9, 16, 25, 36, 49, 64, 81]"
   ]
  },
  {
   "cell_type": "code",
   "execution_count": null,
   "id": "fd6dbb1c",
   "metadata": {},
   "outputs": [],
   "source": [
    "## List Comprehension for the above example\n",
    "\n",
    "[x**2 for x in range(10)]  # [0, 1, 4, 9, 16, 25, 36, 49, 64, 81]\n",
    "\n",
    "'''\n",
    "This is just a compressed one-liner version of the above.\n",
    "\n",
    "Syntax: [ expression for item in iterable ]\n",
    "\n",
    "expression → x**2 (what you want to store in the list)\n",
    "item → x (variable name for each element in the iterable)\n",
    "iterable → range(10) (where the values come from)\n",
    "\n",
    "So it goes through numbers 0 → 9, squares each one, and directly builds a list.\n",
    "'''"
   ]
  },
  {
   "cell_type": "markdown",
   "id": "918e9a6c",
   "metadata": {},
   "source": [
    "##### List Comprehension with Conditional\n",
    "\n",
    "List comprehensions are a powerful and concise way to create lists in python. They are syntactically compact and can replace more verbose looping constructs. Understanding the syntax of list comprehensions will help you write cleaner and more efficient python code.\n",
    "\n",
    "Basic Syntax: [ expression for item in iterable ]\n",
    "\n",
    "Conditional Syntax: [ expression for item in iterable if condition ]\n",
    "\n",
    "Nested Syntax: [ expression for item1 in iterable1 for item2 in iterable 2]"
   ]
  },
  {
   "cell_type": "code",
   "execution_count": null,
   "id": "fc0e018a",
   "metadata": {},
   "outputs": [],
   "source": [
    "## Example (Conditional)\n",
    "\n",
    "## Let's suppose I have to input squares of a number inside the list, but, only the even numbers\n",
    "\n",
    "'''\n",
    "Normally the code would look like this\n",
    "\n",
    "lst = []\n",
    "for x in range(10):\n",
    "    if(x%2==0):\n",
    "        lst.append(x**2)\n",
    "print(lst)\n",
    "'''\n",
    "\n",
    "sqrts_cond = [x**2 for x in range(10) if x%2==0]\n",
    "print(sqrts_cond)  # [0, 4, 16, 36, 64]"
   ]
  },
  {
   "cell_type": "code",
   "execution_count": null,
   "id": "a19015a3",
   "metadata": {},
   "outputs": [],
   "source": [
    "## Example (Nested List Comprehension)\n",
    "\n",
    "lst1 = [1,2,3,4]\n",
    "lst2 = ['a', 'b', 'c', 'd']\n",
    "\n",
    "pair = [[x,y] for x in lst1 for y in lst2]\n",
    "print(pair)\n",
    "\n",
    "'''\n",
    "[[1, 'a'], [1, 'b'], [1, 'c'], [1, 'd'], [2, 'a'], [2, 'b'], [2, 'c'], [2, 'd'], [3, 'a'], [3, 'b'], [3, 'c'], [3, 'd'], [4, 'a'], [4, 'b'], [4, 'c'], [4, 'd']]\n",
    "'''"
   ]
  },
  {
   "cell_type": "code",
   "execution_count": null,
   "id": "5c59ab3e",
   "metadata": {},
   "outputs": [],
   "source": [
    "## List Comprehension with Function Calls\n",
    "\n",
    "words = [\"hello\", \"nishank\", \"welcome\", \"to\", \"python\", \"list\", \"comprehension\"]\n",
    "word_len = [len(word) for word in words]\n",
    "print(word_len)  # [5, 7, 7, 2, 6, 4, 13]"
   ]
  }
 ],
 "metadata": {
  "kernelspec": {
   "display_name": "Python 3",
   "language": "python",
   "name": "python3"
  },
  "language_info": {
   "codemirror_mode": {
    "name": "ipython",
    "version": 3
   },
   "file_extension": ".py",
   "mimetype": "text/x-python",
   "name": "python",
   "nbconvert_exporter": "python",
   "pygments_lexer": "ipython3",
   "version": "3.12.0"
  }
 },
 "nbformat": 4,
 "nbformat_minor": 5
}
