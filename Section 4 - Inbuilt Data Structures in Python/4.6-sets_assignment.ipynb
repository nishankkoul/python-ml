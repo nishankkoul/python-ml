{
 "cells": [
  {
   "cell_type": "markdown",
   "metadata": {},
   "source": [
    "# Module 3: Data Structures Assignments\n",
    "## Lesson 3.3: Sets\n",
    "### Assignment 1: Creating and Accessing Sets\n",
    "\n",
    "Create a set with the first 10 positive integers. Print the set.\n",
    "\n",
    "### Assignment 2: Adding and Removing Elements\n",
    "\n",
    "Add the number 11 to the set created in Assignment 1. Then remove the number 1 from the set. Print the modified set.\n",
    "\n",
    "### Assignment 3: Set Operations\n",
    "\n",
    "Create two sets: one with the first 5 positive integers and another with the first 5 even integers. Perform and print the results of union, intersection, difference, and symmetric difference operations on these sets.\n",
    "\n",
    "### Assignment 4: Set Comprehensions\n",
    "\n",
    "Create a new set containing the squares of the first 10 positive integers using a set comprehension. Print the new set.\n",
    "\n",
    "### Assignment 5: Filtering Sets\n",
    "\n",
    "Create a new set containing only the even numbers from the set created in Assignment 1 using a set comprehension. Print the new set.\n",
    "\n",
    "### Assignment 6: Set Methods\n",
    "\n",
    "Create a set with duplicate elements and remove the duplicates using set methods. Print the modified set.\n",
    "\n",
    "### Assignment 7: Subsets and Supersets\n",
    "\n",
    "Create two sets: one with the first 5 positive integers and another with the first 3 positive integers. Check if the second set is a subset of the first set and if the first set is a superset of the second set. Print the results.\n",
    "\n",
    "### Assignment 8: Frozenset\n",
    "\n",
    "Create a frozenset with the first 5 positive integers. Print the frozenset.\n",
    "\n",
    "### Assignment 9: Set and List Conversion\n",
    "\n",
    "Create a set with the first 5 positive integers. Convert it to a list, append the number 6, and convert it back to a set. Print the resulting set.\n",
    "\n",
    "### Assignment 10: Set and Dictionary\n",
    "\n",
    "Create a dictionary with set keys and integer values. Print the dictionary.\n",
    "\n",
    "### Assignment 11: Iterating Over Sets\n",
    "\n",
    "Create a set and iterate over the elements, printing each element.\n",
    "\n",
    "### Assignment 12: Removing Elements from Sets\n",
    "\n",
    "Create a set and remove elements from it until it is empty. Print the set after each removal.\n",
    "\n",
    "### Assignment 13: Set Symmetric Difference Update\n",
    "\n",
    "Create two sets and update the first set with the symmetric difference of the two sets. Print the modified first set.\n",
    "\n",
    "### Assignment 14: Set Membership Testing\n",
    "\n",
    "Create a set and test if certain elements are present in the set. Print the results.\n",
    "\n",
    "### Assignment 15: Set of Tuples\n",
    "\n",
    "Create a set containing tuples, where each tuple contains two elements. Print the set."
   ]
  },
  {
   "cell_type": "code",
   "execution_count": null,
   "metadata": {},
   "outputs": [],
   "source": [
    "### Assignment 1: Creating and Accessing Sets\n",
    "\n",
    "## Create a set with the first 10 positive integers. Print the set.\n",
    "\n",
    "set_10 = {1,2,3,4,5,6,7,8,9,10}\n",
    "print(set_10)"
   ]
  },
  {
   "cell_type": "code",
   "execution_count": null,
   "id": "3785671a",
   "metadata": {},
   "outputs": [],
   "source": [
    "### Assignment 2: Adding and Removing Elements\n",
    "\n",
    "## Add the number 11 to the set created in Assignment 1. Then remove the number 1 from the set. Print the modified set.\n",
    "\n",
    "set_10.add(11)\n",
    "set_10.pop() \n",
    "print(set_10)  # {2, 3, 4, 5, 6, 7, 8, 9, 10, 11}"
   ]
  },
  {
   "cell_type": "code",
   "execution_count": null,
   "id": "d61b5e66",
   "metadata": {},
   "outputs": [],
   "source": [
    "### Assignment 3: Set Operations\n",
    "\n",
    "## Create two sets: one with the first 5 positive integers and another with the first 5 even integers. Perform and print the results of union, intersection, difference, and symmetric difference operations on these sets.\n",
    "\n",
    "set1 = {1,2,3,4,5}\n",
    "set2 = {2,4,6,8,10}\n",
    "\n",
    "union_set = set1.union(set2)\n",
    "print(union_set)  # {1, 2, 3, 4, 5, 6, 8, 10}\n",
    "\n",
    "intersection_set = set1.intersection(set2)\n",
    "print(intersection_set)  # {2, 4}\n",
    "\n",
    "difference_set = set1.difference(set2)\n",
    "print(difference_set)  # {1, 3, 5}\n",
    "\n",
    "symm_diff_set = set1.symmetric_difference(set2)\n",
    "print(symm_diff_set)  # {1, 3, 5, 6, 8, 10}"
   ]
  },
  {
   "cell_type": "code",
   "execution_count": null,
   "id": "45f621f4",
   "metadata": {},
   "outputs": [],
   "source": [
    "### Assignment 4: Set Comprehensions\n",
    "\n",
    "## Create a new set containing the squares of the first 10 positive integers using a set comprehension. Print the new set.\n",
    "\n",
    "sqrs_set = {x**2 for x in range(1,11)}\n",
    "print(sqrs_set)  # {64, 1, 4, 36, 100, 9, 16, 49, 81, 25}"
   ]
  },
  {
   "cell_type": "code",
   "execution_count": null,
   "id": "886f76a9",
   "metadata": {},
   "outputs": [],
   "source": [
    "### Assignment 5: Filtering Sets\n",
    "\n",
    "## Create a new set containing only the even numbers from the set created in Assignment 1 using a set comprehension. Print the new set.\n",
    "\n",
    "even_sqrs_set = {x for x in sqrs_set if x%2 == 0}\n",
    "print(even_sqrs_set)  # {64, 100, 4, 36, 16}"
   ]
  },
  {
   "cell_type": "code",
   "execution_count": null,
   "id": "05ecb4e2",
   "metadata": {},
   "outputs": [],
   "source": [
    "### Assignment 6: Set Methods\n",
    "\n",
    "## Create a set with duplicate elements and remove the duplicates using set methods. Print the modified set.\n",
    "\n",
    "my_set = {1,2,2,3,3,3,4,5,5}\n",
    "print(my_set)  # {1, 2, 3, 4, 5}"
   ]
  },
  {
   "cell_type": "code",
   "execution_count": null,
   "id": "5e544e46",
   "metadata": {},
   "outputs": [],
   "source": [
    "### Assignment 7: Subsets and Supersets\n",
    "\n",
    "## Create two sets: one with the first 5 positive integers and another with the first 3 positive integers. Check if the second set is a subset of the first set and if the first set is a superset of the second set. Print the results.\n",
    "\n",
    "set1 = {1,2,3,4,5}\n",
    "set2 = {1,2,3}\n",
    "\n",
    "print(set2.issubset(set1))  # True\n",
    "print(set1.issuperset(set2))  # True"
   ]
  },
  {
   "cell_type": "code",
   "execution_count": null,
   "id": "adce65ec",
   "metadata": {},
   "outputs": [],
   "source": [
    "### Assignment 8: Frozenset\n",
    "\n",
    "## Create a frozenset with the first 5 positive integers. Print the frozenset.\n",
    "\n",
    "fs = frozenset(set1)\n",
    "print(fs)  # frozenset({1, 2, 3, 4, 5})"
   ]
  },
  {
   "cell_type": "code",
   "execution_count": null,
   "id": "a5f29594",
   "metadata": {},
   "outputs": [],
   "source": [
    "### Assignment 9: Set and List Conversion\n",
    "\n",
    "## Create a set with the first 5 positive integers. Convert it to a list, append the number 6, and convert it back to a set. Print the resulting set.\n",
    "\n",
    "my_set = {1,2,3,4,5}\n",
    "my_lst = list(my_set)\n",
    "my_lst.append(6)\n",
    "my_set = set(my_lst)\n",
    "print(my_set)  # {1, 2, 3, 4, 5, 6}"
   ]
  },
  {
   "cell_type": "code",
   "execution_count": null,
   "id": "48bca5be",
   "metadata": {},
   "outputs": [],
   "source": [
    "### Assignment 10: Set and Dictionary\n",
    "\n",
    "## Create a dictionary with set keys and integer values. Print the dictionary.\n",
    "\n",
    "my_dict = {\n",
    "    frozenset({1,2}): 'a',\n",
    "    frozenset({3,4}): 'b',\n",
    "    frozenset({5,6}): 'c'\n",
    "}\n",
    "\n",
    "print(my_dict)  # {frozenset({1, 2}): 'a', frozenset({3, 4}): 'b', frozenset({5, 6}): 'c'}\n",
    "\n",
    "## We need a frozenset here because set is in Python dictionary keys must be hashable (immutable), but set is mutable and therefore unhashable."
   ]
  },
  {
   "cell_type": "code",
   "execution_count": null,
   "id": "3d6d8ca6",
   "metadata": {},
   "outputs": [],
   "source": [
    "### Assignment 11: Iterating Over Sets\n",
    "\n",
    "## Create a set and iterate over the elements, printing each element.\n",
    "\n",
    "my_new_set = {1,2,3,4,5}\n",
    "for x in my_new_set:\n",
    "    print(x)"
   ]
  },
  {
   "cell_type": "code",
   "execution_count": null,
   "id": "a2c726ad",
   "metadata": {},
   "outputs": [],
   "source": [
    "### Assignment 12: Removing Elements from Sets\n",
    "\n",
    "## Create a set and remove elements from it until it is empty. Print the set after each removal.\n",
    "\n",
    "set_12 = {1,2,3,4,5,6,7,8,9,10,11,12}\n",
    "\n",
    "while set_12:\n",
    "    set_12.pop()\n",
    "    print(set_12)"
   ]
  },
  {
   "cell_type": "code",
   "execution_count": null,
   "id": "7ea5c4db",
   "metadata": {},
   "outputs": [],
   "source": [
    "### Assignment 13: Set Symmetric Difference Update\n",
    "\n",
    "## Create two sets and update the first set with the symmetric difference of the two sets. Print the modified first set.\n",
    "\n",
    "set_a = {1,2,3,4,5}\n",
    "set_b = {3,4,5,6,7}\n",
    "set_a.symmetric_difference_update(set_b)\n",
    "print(set_a)  # {1, 2, 6, 7}"
   ]
  },
  {
   "cell_type": "code",
   "execution_count": null,
   "id": "5aae8320",
   "metadata": {},
   "outputs": [],
   "source": [
    "### Assignment 14: Set Membership Testing\n",
    "\n",
    "## Create a set and test if certain elements are present in the set. Print the results.\n",
    "\n",
    "alph_set = {'a', 'c', 'e', 'i', 'o', 'z'}\n",
    "print('a' in alph_set)  # True\n",
    "print('z' in alph_set)  # True\n",
    "print('d' in alph_set)  # False"
   ]
  },
  {
   "cell_type": "code",
   "execution_count": null,
   "id": "9f6a8b6d",
   "metadata": {},
   "outputs": [],
   "source": [
    "### Assignment 15: Set of Tuples\n",
    "\n",
    "## Create a set containing tuples, where each tuple contains two elements. Print the set.\n",
    "\n",
    "tup_set = {\n",
    "    (1,2),\n",
    "    (4,5),\n",
    "    (7,8)\n",
    "}\n",
    "\n",
    "print(tup_set)  # {(4, 5), (1, 2), (7, 8)}"
   ]
  }
 ],
 "metadata": {
  "kernelspec": {
   "display_name": "Python 3",
   "language": "python",
   "name": "python3"
  },
  "language_info": {
   "codemirror_mode": {
    "name": "ipython",
    "version": 3
   },
   "file_extension": ".py",
   "mimetype": "text/x-python",
   "name": "python",
   "nbconvert_exporter": "python",
   "pygments_lexer": "ipython3",
   "version": "3.12.0"
  }
 },
 "nbformat": 4,
 "nbformat_minor": 5
}
