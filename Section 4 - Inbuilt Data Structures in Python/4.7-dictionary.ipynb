{
 "cells": [
  {
   "cell_type": "markdown",
   "id": "13642289",
   "metadata": {},
   "source": [
    "##### Dictionaries\n",
    "\n",
    "Dictionaries are unordered collection of items. They store data in key-value pairs. Keys must be unique and immutable (eg: strings, numbers or tuples), while values can be of any data type."
   ]
  },
  {
   "cell_type": "code",
   "execution_count": null,
   "id": "8b4cb319",
   "metadata": {},
   "outputs": [],
   "source": [
    "## Creating a Dictionary\n",
    "\n",
    "empty_dict = {}\n",
    "print(type(empty_dict))  # <class 'dict'>\n",
    "\n",
    "empty_dict = dict()\n",
    "print(type(empty_dict))  # <class 'dict'>"
   ]
  },
  {
   "cell_type": "code",
   "execution_count": null,
   "id": "1f0cf427",
   "metadata": {},
   "outputs": [],
   "source": [
    "student = {\"name\": \"Nishank\", \"age\": 22, \"grade\": 'A'}\n",
    "print(student)  # {'name': 'Nishank', 'age': 22, 'grade': 'A'}"
   ]
  },
  {
   "cell_type": "code",
   "execution_count": null,
   "id": "41e90ff5",
   "metadata": {},
   "outputs": [],
   "source": [
    "## Single key is always used\n",
    "\n",
    "student = {\"name\": \"Nishank\", \"age\": 22, \"name\": 'AB'}  # Here, we have 2 same keys\n",
    "print(student)  # {'name': 'AB', 'age': 22} (The duplicate key which was latest updated is printed)"
   ]
  },
  {
   "cell_type": "code",
   "execution_count": null,
   "id": "4d47d67a",
   "metadata": {},
   "outputs": [],
   "source": [
    "## Accessing Dictionary Elements\n",
    "\n",
    "student = {\"name\": \"Nishank\", \"age\": 22, \"grade\": 'A'}\n",
    "print(student['age'])  # 22\n",
    "print(student['grade'])  # A\n",
    "\n",
    "## Accessing using get() method\n",
    "\n",
    "print(student.get('name'))  # Nishank\n",
    "print(student.get('section'))  # None\n",
    "\n",
    "## We can also provide a default value in case some key is not present inside the dict\n",
    "\n",
    "print(student.get('last_name', 'Not Available'))  # Not Available"
   ]
  },
  {
   "cell_type": "code",
   "execution_count": null,
   "id": "7d4ee71d",
   "metadata": {},
   "outputs": [],
   "source": [
    "## Modifying Dictionary Element\n",
    "\n",
    "## Dictionaries are mutable, you can add, update or delete elements\n",
    "\n",
    "print(student)  # {'name': 'Nishank', 'age': 22, 'grade': 'A'}\n",
    "\n",
    "## Modifying an element\n",
    "\n",
    "student[\"grade\"] = 'A+'\n",
    "print(student)  # {'name': 'Nishank', 'age': 22, 'grade': 'A+'}\n",
    "\n",
    "## Adding an element\n",
    "\n",
    "student[\"address\"] = \"New Delhi\"\n",
    "print(student)  # {'name': 'Nishank', 'age': 22, 'grade': 'A+', 'address': 'New Delhi'}\n",
    "\n",
    "## Deleting an element\n",
    "\n",
    "del student[\"age\"]  # This will delete the key and value pair\n",
    "print(student)  # {'name': 'Nishank', 'grade': 'A+', 'address': 'New Delhi'}"
   ]
  },
  {
   "cell_type": "code",
   "execution_count": null,
   "id": "708ac589",
   "metadata": {},
   "outputs": [],
   "source": [
    "## Dictionary Methods\n",
    "\n",
    "## Retrieve all the keys\n",
    "\n",
    "keys = student.keys() \n",
    "print(keys)  # dict_keys(['name', 'grade', 'address']) -> Returns a list of keys\n",
    "\n",
    "## Retrieve all the values\n",
    "vals = student.values()\n",
    "print(vals)  # dict_values(['Nishank', 'A+', 'New Delhi']) -> Returns a list of values\n",
    "\n",
    "## Retrieve all the key value pairs\n",
    "items = student.items()\n",
    "print(items)  # dict_items([('name', 'Nishank'), ('grade', 'A+'), ('address', 'New Delhi')]) -> Returns a list of tuple pairs"
   ]
  },
  {
   "cell_type": "code",
   "execution_count": null,
   "id": "6db6bc47",
   "metadata": {},
   "outputs": [],
   "source": [
    "## Normal Copy\n",
    "\n",
    "student_copy = student\n",
    "print(student)  # {'name': 'Nishank', 'grade': 'A+', 'address': 'New Delhi'}\n",
    "print(student_copy)  # {'name': 'Nishank', 'grade': 'A+', 'address': 'New Delhi'}\n",
    "\n",
    "student[\"name\"] = \"Nishank Koul\"\n",
    "print(student)  # {'name': 'Nishank Koul', 'grade': 'A+', 'address': 'New Delhi'}\n",
    "print(student_copy)  # {'name': 'Nishank Koul', 'grade': 'A+', 'address': 'New Delhi'}\n",
    "\n",
    "## As we can see here that the value changed in 'student' dictionary is reflected in the 'student_copy' dictionary as well.\n",
    "\n",
    "## Shallow Copy -> Shallow copy creates a dictionary in entirely different memory location\n",
    "\n",
    "student_copy_new = student.copy()\n",
    "print(student)  # {'name': 'Nishank Koul', 'grade': 'A+', 'address': 'New Delhi'}\n",
    "print(student_copy_new)  # {'name': 'Nishank Koul', 'grade': 'A+', 'address': 'New Delhi'}\n",
    "\n",
    "student[\"address\"] = \"India\"\n",
    "print(student)  # {'name': 'Nishank Koul', 'grade': 'A+', 'address': 'India'}\n",
    "print(student_copy_new)  # {'name': 'Nishank Koul', 'grade': 'A+', 'address': 'New Delhi'}\n",
    "\n",
    "## As we can see here, the shallow copy has the same old value for the address key even after updating the student dictionary\n"
   ]
  },
  {
   "cell_type": "code",
   "execution_count": null,
   "id": "e4fff381",
   "metadata": {},
   "outputs": [],
   "source": [
    "## Iterating over Dictionaries\n",
    "\n",
    "## Iterating over keys\n",
    "\n",
    "for keys in student.keys():\n",
    "    print(keys)\n",
    "\n",
    "'''\n",
    "name\n",
    "grade\n",
    "address\n",
    "'''\n",
    "\n",
    "## Iterating over values\n",
    "\n",
    "for vals in student.values():\n",
    "    print(vals)\n",
    "\n",
    "'''\n",
    "Nishank Koul\n",
    "A+\n",
    "India\n",
    "'''\n",
    "\n",
    "## Iterating over items\n",
    "\n",
    "for items in student.items():\n",
    "    print(items)\n",
    "\n",
    "'''\n",
    "('name', 'Nishank Koul')\n",
    "('grade', 'A+')\n",
    "('address', 'India')\n",
    "'''"
   ]
  },
  {
   "cell_type": "code",
   "execution_count": null,
   "id": "498d357c",
   "metadata": {},
   "outputs": [],
   "source": [
    "## Nested Dictionaries\n",
    "\n",
    "students = {\n",
    "    \"student1\" : {\"name\": \"Nishank\", \"age\":22},\n",
    "    \"student2\" : {\"name\": \"Peter\", \"age\": 30}\n",
    "}\n",
    "\n",
    "print(students)  # {'student1': {'name': 'Nishank', 'age': 22}, 'student2': {'name': 'Peter', 'age': 30}}"
   ]
  },
  {
   "cell_type": "code",
   "execution_count": null,
   "id": "cfccc2eb",
   "metadata": {},
   "outputs": [],
   "source": [
    "## Accessing Nested Dictionary Elements\n",
    "\n",
    "print(students['student2']['name'])  # Peter\n",
    "print(students['student2']['age'])  # 30"
   ]
  },
  {
   "cell_type": "code",
   "execution_count": null,
   "id": "db8646e1",
   "metadata": {},
   "outputs": [],
   "source": [
    "## Iterating over nested dictionaries\n",
    "\n",
    "for student_id, student_info in students.items():\n",
    "    print(f\"{student_id}:{student_info}\")\n",
    "    for key,val in student_info.items():\n",
    "        print(f\"{key}:{val}\")\n",
    "\n",
    "'''\n",
    "student1:{'name': 'Nishank', 'age': 22}\n",
    "name:Nishank\n",
    "age:22\n",
    "student2:{'name': 'Peter', 'age': 30}\n",
    "name:Peter\n",
    "age:30\n",
    "'''"
   ]
  },
  {
   "cell_type": "code",
   "execution_count": null,
   "id": "08a3b76b",
   "metadata": {},
   "outputs": [],
   "source": [
    "## Dictionary Comprehension\n",
    "\n",
    "squares = {x:x**2 for x in range(5)}\n",
    "print(squares)  # {0: 0, 1: 1, 2: 4, 3: 9, 4: 16}"
   ]
  },
  {
   "cell_type": "code",
   "execution_count": null,
   "id": "b7b6e86f",
   "metadata": {},
   "outputs": [],
   "source": [
    "## Dictionary Comprehension for squares of only even numbers\n",
    "\n",
    "squares_even = {x:x**2 for x in range(10) if (x%2==0)}\n",
    "print(squares_even)  # {0: 0, 2: 4, 4: 16, 6: 36, 8: 64}"
   ]
  },
  {
   "cell_type": "code",
   "execution_count": null,
   "id": "98712951",
   "metadata": {},
   "outputs": [],
   "source": [
    "## Use a dictionary to count the frequency of elements in a list\n",
    "\n",
    "lst = ['a', 'a', 'e', 'f', 'e', 'z', 'a', 'b']\n",
    "dict_freq = {}\n",
    "\n",
    "for char in lst:\n",
    "    if char in dict_freq:\n",
    "        dict_freq[char] += 1\n",
    "    else:\n",
    "        dict_freq[char] = 1\n",
    "\n",
    "print(dict_freq)  # {'a': 3, 'e': 2, 'f': 1, 'z': 1, 'b': 1}"
   ]
  },
  {
   "cell_type": "code",
   "execution_count": null,
   "id": "bfee567a",
   "metadata": {},
   "outputs": [],
   "source": [
    "## Merging 2 Dictionaries\n",
    "\n",
    "dict_1 = {'a':1, 'b':2}\n",
    "dict_2 = {'b':3, 'c':4}\n",
    "merged_dict = {**dict_1, **dict_2}\n",
    "print(merged_dict)  # {'a': 1, 'b': 3, 'c': 4}"
   ]
  }
 ],
 "metadata": {
  "kernelspec": {
   "display_name": "Python 3",
   "language": "python",
   "name": "python3"
  },
  "language_info": {
   "codemirror_mode": {
    "name": "ipython",
    "version": 3
   },
   "file_extension": ".py",
   "mimetype": "text/x-python",
   "name": "python",
   "nbconvert_exporter": "python",
   "pygments_lexer": "ipython3",
   "version": "3.12.0"
  }
 },
 "nbformat": 4,
 "nbformat_minor": 5
}
