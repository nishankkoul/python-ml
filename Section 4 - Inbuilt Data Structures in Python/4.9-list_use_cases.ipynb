{
 "cells": [
  {
   "cell_type": "markdown",
   "id": "0f8e6131",
   "metadata": {},
   "source": [
    "##### Lists Real World Use Cases\n",
    "\n",
    "Lists are one of the most commonly used data structures in Python, thanks to their versatality and ease of use. Here are four practical examples, that illustrate their use in real-world scenarios"
   ]
  },
  {
   "cell_type": "code",
   "execution_count": null,
   "id": "ed9b82b7",
   "metadata": {},
   "outputs": [],
   "source": [
    "## Example 1: Manage a To-Do List\n",
    "\n",
    "## Create a To-Do list to keep a track of tasks\n",
    "\n",
    "todo_list = [\"Buy Groceries\", \"Go to Gym\", \"Study ML\"]\n",
    "\n",
    "## Printing my todo list\n",
    "print(todo_list)  # ['Buy Groceries', 'Go to Gym', 'Study ML']\n",
    "\n",
    "## Adding tasks to my todo list\n",
    "todo_list.append(\"Finish Cleaning the House\")\n",
    "todo_list.append(\"Go to a party\")\n",
    "\n",
    "## Removing tasks from my todo list\n",
    "todo_list.remove(\"Buy Groceries\")\n",
    "\n",
    "## Checking if a task is in the list\n",
    "if \"Attend Meeting\" in todo_list:\n",
    "    print(\"Attend the meeting positively\")\n",
    "\n",
    "## Print Remaining To Do List\n",
    "for task in todo_list:\n",
    "    print(f\"-{task}\")\n",
    "\n",
    "'''\n",
    "-Go to Gym\n",
    "-Study ML\n",
    "-Finish Cleaning the House\n",
    "-Go to a party\n",
    "'''"
   ]
  },
  {
   "cell_type": "code",
   "execution_count": null,
   "id": "5cc38315",
   "metadata": {},
   "outputs": [],
   "source": [
    "## Example 2 : Organizing Student Grades\n",
    "\n",
    "## Create a list to store and calculate average grades for students\n",
    "\n",
    "grades = [85,62,97,33,78]\n",
    "\n",
    "## Adding a new grade \n",
    "grades.append(100)\n",
    "\n",
    "## Calculating the average grade\n",
    "avg_grade = sum(grades)/len(grades)\n",
    "print(avg_grade)  # 75.83333333333333\n",
    "\n",
    "## Finding the highest and lowest grade\n",
    "highest_grade = max(grades)\n",
    "lowest_grade = min(grades)\n",
    "\n",
    "print(f\"The highest grade is {highest_grade} and the lowest grade is {lowest_grade}\")  # The highest grade is 100 and the lowest grade is 33"
   ]
  },
  {
   "cell_type": "code",
   "execution_count": null,
   "id": "c8535c4e",
   "metadata": {},
   "outputs": [],
   "source": [
    "## Example 3 : Manage an Inventory\n",
    "\n",
    "## Use a list to manage inventory items in a store\n",
    "\n",
    "inventory = [\"apples\", \"bananas\", \"oranges\", \"grapes\"]\n",
    "\n",
    "## Adding a new item\n",
    "inventory.append(\"mangoes\")\n",
    "\n",
    "## Checking if an item is in stock\n",
    "if \"oranges\" in inventory:\n",
    "    print(\"Oranges are in stock\")\n",
    "else:\n",
    "    print(\"Oranges are out of stock\")\n",
    "\n",
    "## Removing an item that is out of stock\n",
    "inventory.remove(\"apples\")\n",
    "\n",
    "## Printing the inventory\n",
    "\n",
    "print(inventory)  # ['bananas', 'oranges', 'grapes', 'mangoes']"
   ]
  },
  {
   "cell_type": "code",
   "execution_count": null,
   "id": "db0a6273",
   "metadata": {},
   "outputs": [],
   "source": [
    "## Example 4 : Collecting User Feedback\n",
    "\n",
    "## Use a list to collect and analyze user feedbacks\n",
    "\n",
    "feedback = [\"great service\", \"very satisfied\", \"could be better\", \"excellent service\"]\n",
    "\n",
    "## Adding Feedback to the list\n",
    "feedback.append(\"Bad service\")\n",
    "\n",
    "## Counting Positive Feedbacks\n",
    "count = 0\n",
    "for x in feedback:\n",
    "    if \"great\" in x or \"excellent\" in x:\n",
    "        count += 1\n",
    "\n",
    "print(f\"Count of Positive Feedbacks: {count}\")  # Count of Positive Feedbacks: 2\n",
    "\n",
    "## Printing all feedback\n",
    "\n",
    "for comment in feedback:\n",
    "    print(f\"- {comment}\")\n",
    "\n",
    "'''\n",
    "- great service\n",
    "- very satisfied\n",
    "- could be better\n",
    "- excellent service\n",
    "- Bad servic\n",
    "'''\n"
   ]
  }
 ],
 "metadata": {
  "kernelspec": {
   "display_name": "Python 3",
   "language": "python",
   "name": "python3"
  },
  "language_info": {
   "codemirror_mode": {
    "name": "ipython",
    "version": 3
   },
   "file_extension": ".py",
   "mimetype": "text/x-python",
   "name": "python",
   "nbconvert_exporter": "python",
   "pygments_lexer": "ipython3",
   "version": "3.12.0"
  }
 },
 "nbformat": 4,
 "nbformat_minor": 5
}
