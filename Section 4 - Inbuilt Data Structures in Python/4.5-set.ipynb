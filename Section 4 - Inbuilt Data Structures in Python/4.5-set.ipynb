{
 "cells": [
  {
   "cell_type": "markdown",
   "id": "540dd198",
   "metadata": {},
   "source": [
    "##### Sets\n",
    "\n",
    "Sets are a built-in data type in Python used to store a collection of unique items. They are unordered, meaning the elements do not follow a specific order, and they do not allow duplicate elements. Sets are useful for membership tests, eliminating duplicate entries, and performing mathematical set operation like union, intersection, difference, and symmetric difference."
   ]
  },
  {
   "cell_type": "code",
   "execution_count": null,
   "id": "20c97901",
   "metadata": {},
   "outputs": [],
   "source": [
    "my_set = {1,2,3,4,5}\n",
    "print(my_set)  # {1, 2, 3, 4, 5}\n",
    "print(type(my_set))  # <class 'set'>\n",
    "\n",
    "my_empty_set = set()\n",
    "print(type(my_empty_set))  # <class 'set'>"
   ]
  },
  {
   "cell_type": "code",
   "execution_count": null,
   "id": "09da5eb2",
   "metadata": {},
   "outputs": [],
   "source": [
    "my_duplicate_set = set([1,2,3,4,5,6,7,8,1,2,3,4])\n",
    "print(my_duplicate_set)  # {1, 2, 3, 4, 5, 6, 7, 8}\n",
    "\n",
    "## This removes the duplicate elements and prints the set"
   ]
  },
  {
   "cell_type": "code",
   "execution_count": null,
   "id": "bdaa1fbf",
   "metadata": {},
   "outputs": [],
   "source": [
    "## Adding elements in set\n",
    "\n",
    "my_set = {1,2,3,4,5,6,7}\n",
    "print(my_set)  # {1, 2, 3, 4, 5, 6, 7}\n",
    "\n",
    "my_set.add(8)\n",
    "print(my_set)  # {1, 2, 3, 4, 5, 6, 7, 8}\n",
    "\n",
    "## Let's try to add the same element again\n",
    "my_set.add(8)\n",
    "print(my_set)  # {1, 2, 3, 4, 5, 6, 7, 8} (It ignored the duplicate element)"
   ]
  },
  {
   "cell_type": "code",
   "execution_count": null,
   "id": "622ef321",
   "metadata": {},
   "outputs": [],
   "source": [
    "## Removing elements in set\n",
    "\n",
    "my_set.remove(3)\n",
    "print(my_set)  # {1, 2, 4, 5, 6, 7, 8}\n",
    "\n",
    "## Let's try to remove an element which is not present in the set\n",
    "\n",
    "my_set.remove(11)\n",
    "print(my_set)  ## This will give an error: KeyError: 3"
   ]
  },
  {
   "cell_type": "code",
   "execution_count": null,
   "id": "66c5c6f7",
   "metadata": {},
   "outputs": [],
   "source": [
    "print(my_set)  # {1, 2, 4, 5, 6, 7, 8}\n",
    "\n",
    "## If we want to remove an element only if its there and not throw an error if the element is not present inside the set, we use the discard() method\n",
    "\n",
    "my_set.discard(10)\n",
    "print(my_set)  # {1, 2, 4, 5, 6, 7, 8} (Didn't throw any error)"
   ]
  },
  {
   "cell_type": "code",
   "execution_count": null,
   "id": "65f0c6fb",
   "metadata": {},
   "outputs": [],
   "source": [
    "print(my_set)  # {1, 2, 4, 5, 6, 7, 8}\n",
    "\n",
    "## pop method\n",
    "\n",
    "popped_element = my_set.pop()\n",
    "print(popped_element)  # 1 (the element which is first inserted is first removed, FIFO)\n",
    "print(my_set)  # {2, 4, 5, 6, 7, 8}"
   ]
  },
  {
   "cell_type": "code",
   "execution_count": null,
   "id": "b33d34fd",
   "metadata": {},
   "outputs": [],
   "source": [
    "## clear all the elements from the set\n",
    "\n",
    "my_set.clear()\n",
    "print(my_set)  # set()"
   ]
  },
  {
   "cell_type": "code",
   "execution_count": null,
   "id": "b0a0ee7b",
   "metadata": {},
   "outputs": [],
   "source": [
    "## Membership test in Set\n",
    "\n",
    "my_set = {1,2,3,4,5}\n",
    "print(3 in my_set)  # True\n",
    "print(30 in my_set)  # False"
   ]
  },
  {
   "cell_type": "code",
   "execution_count": null,
   "id": "20b21d35",
   "metadata": {},
   "outputs": [],
   "source": [
    "## Mathematical Operation\n",
    "\n",
    "## Union\n",
    "\n",
    "set1 = {1,2,3,4,5}\n",
    "set2 = {3,4,5,6,7}\n",
    "union_set = set1.union(set2)\n",
    "print(union_set)  # {1, 2, 3, 4, 5, 6, 7}\n",
    "\n",
    "## Intersection\n",
    "\n",
    "intersection_set = set1.intersection(set2)\n",
    "print(intersection_set)  # {3, 4, 5}\n",
    "\n",
    "set1.intersection_update(set2)\n",
    "print(set1)  # {3, 4, 5} (This will convert the actual set to the intersection set)"
   ]
  },
  {
   "cell_type": "code",
   "execution_count": null,
   "id": "aa31ba5d",
   "metadata": {},
   "outputs": [],
   "source": [
    "## Difference\n",
    "\n",
    "set1 = {1,2,3,4,5,6,7}\n",
    "set2 = {4,5,6,7,8,9,10}\n",
    "\n",
    "diff_set = set1.difference(set2)\n",
    "print(diff_set)  # {1, 2, 3}\n",
    "\n",
    "symm_diff_set = set1.symmetric_difference(set2)\n",
    "print(symm_diff_set)  # {1, 2, 3, 8, 9, 10}"
   ]
  },
  {
   "cell_type": "code",
   "execution_count": null,
   "id": "c2438e0a",
   "metadata": {},
   "outputs": [],
   "source": [
    "## Set Methods\n",
    "\n",
    "## issubset\n",
    "\n",
    "set1 = {1,2,3}\n",
    "set2 = {3,4,5}\n",
    "print(set1.issubset(set2))  # False (Here, set2 is the parent set)\n",
    "\n",
    "## issuperset\n",
    "\n",
    "print(set1.issuperset(set2))  # False"
   ]
  },
  {
   "cell_type": "code",
   "execution_count": null,
   "id": "73bfe90e",
   "metadata": {},
   "outputs": [],
   "source": [
    "## Removing duplicates from a list\n",
    "\n",
    "lst = [1,2,2,3,3,3,4,5,5]\n",
    "dup_set = set(lst)\n",
    "print(dup_set)  # {1, 2, 3, 4, 5}\n",
    "dup_lst = list(dup_set)\n",
    "print(dup_lst)  # [1, 2, 3, 4, 5]"
   ]
  },
  {
   "cell_type": "code",
   "execution_count": null,
   "id": "a98d32e4",
   "metadata": {},
   "outputs": [],
   "source": [
    "## Counting unique words in text\n",
    "\n",
    "text = \"In this tutorial we are discussing about sets and sets only\"\n",
    "words = text.split()\n",
    "\n",
    "## Counting unique words\n",
    "\n",
    "unique_words = set(words)\n",
    "print(unique_words)  # {'we', 'and', 'this', 'about', 'tutorial', 'discussing', 'sets', 'are', 'only', 'In'}\n",
    "print(len(unique_words))  # 10"
   ]
  }
 ],
 "metadata": {
  "kernelspec": {
   "display_name": "Python 3",
   "language": "python",
   "name": "python3"
  },
  "language_info": {
   "codemirror_mode": {
    "name": "ipython",
    "version": 3
   },
   "file_extension": ".py",
   "mimetype": "text/x-python",
   "name": "python",
   "nbconvert_exporter": "python",
   "pygments_lexer": "ipython3",
   "version": "3.12.0"
  }
 },
 "nbformat": 4,
 "nbformat_minor": 5
}
