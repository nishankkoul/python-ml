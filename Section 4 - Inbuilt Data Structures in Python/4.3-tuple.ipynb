{
 "cells": [
  {
   "cell_type": "markdown",
   "id": "5d962574",
   "metadata": {},
   "source": [
    "Tuples are ordered collection of items that are immutable. They are similar to lists, but their immutability makes them different.\n",
    "\n",
    "Tuples are versatile and useful in many real-world scenarios where an immutable and ordered collection of items is required. They are commonly used in data structures, function arguments and return values, and as dictionary keys. "
   ]
  },
  {
   "cell_type": "code",
   "execution_count": null,
   "id": "6c558bf8",
   "metadata": {},
   "outputs": [],
   "source": [
    "## Creating a Tuple\n",
    "\n",
    "empty_tup = ()\n",
    "print(empty_tup)  # ()\n",
    "print(type(empty_tup))  # <class 'tuple'>"
   ]
  },
  {
   "cell_type": "code",
   "execution_count": null,
   "id": "424f9148",
   "metadata": {},
   "outputs": [],
   "source": [
    "## You can also create a tuple using this way\n",
    "\n",
    "tup = tuple()\n",
    "print(tup)  ## ()"
   ]
  },
  {
   "cell_type": "code",
   "execution_count": null,
   "id": "c3c2f40c",
   "metadata": {},
   "outputs": [],
   "source": [
    "## You can also create a tuple from an existing list\n",
    "\n",
    "nums_lst = [1,2,3,4,5]\n",
    "nums_tuple = tuple(nums_lst)\n",
    "print(nums_tuple)  # (1, 2, 3, 4, 5)"
   ]
  },
  {
   "cell_type": "code",
   "execution_count": null,
   "id": "59ebe13d",
   "metadata": {},
   "outputs": [],
   "source": [
    "## You can have elements of different data types inside a tuple\n",
    "\n",
    "mixed_tpl = (\"Hello\", 3, 33.22, True)\n",
    "print(mixed_tpl)  # ('Hello', 3, 33.22, True)"
   ]
  },
  {
   "cell_type": "code",
   "execution_count": null,
   "id": "8473ed7e",
   "metadata": {},
   "outputs": [],
   "source": [
    "## Accessing elements in a tuple\n",
    "\n",
    "## Accessing elements in a tuple is very similar to a list\n",
    "\n",
    "nums = (1,2,3,4,5,6,7)\n",
    "print(nums[0])\n",
    "print(nums[1])\n",
    "print(nums[2])\n",
    "print(nums[3])\n",
    "print(nums[4])\n",
    "print(nums[5])\n",
    "print(nums[6])\n",
    "print(nums[-1])  # To print the last element"
   ]
  },
  {
   "cell_type": "code",
   "execution_count": null,
   "id": "bcb2d1fb",
   "metadata": {},
   "outputs": [],
   "source": [
    "## Slicing is also very similar to list in a tuple\n",
    "print(nums[1:4])  # (2, 3, 4)\n",
    "print(nums[::-1])  # (7, 6, 5, 4, 3, 2, 1)\n"
   ]
  },
  {
   "cell_type": "code",
   "execution_count": null,
   "id": "e91f1897",
   "metadata": {},
   "outputs": [],
   "source": [
    "## Concatenation of two tuples\n",
    "\n",
    "tup1 = (\"Hello\", \"is\", \"this\", 9.9)\n",
    "tup2 = (True, \"This\", \"is\", \"Nishank\", 100)\n",
    "concat_tup = tup1 + tup2\n",
    "print(concat_tup)  # ('Hello', 'is', 'this', 9.9, True, 'This', 'is', 'Nishank', 100)"
   ]
  },
  {
   "cell_type": "code",
   "execution_count": null,
   "id": "4e78f724",
   "metadata": {},
   "outputs": [],
   "source": [
    "## Replication in tuples\n",
    "print(tup1*3)  # ('Hello', 'is', 'this', 9.9, 'Hello', 'is', 'this', 9.9, 'Hello', 'is', 'this', 9.9)"
   ]
  },
  {
   "cell_type": "markdown",
   "id": "c8f239c1",
   "metadata": {},
   "source": [
    "Tuples are immutable in nature, meaning their elements cannot change once assigned"
   ]
  },
  {
   "cell_type": "code",
   "execution_count": null,
   "id": "3cad50b3",
   "metadata": {},
   "outputs": [],
   "source": [
    "## Example\n",
    "\n",
    "lst_example = [1,2,3,4,5]\n",
    "lst_example[1] = \"NK\"\n",
    "print(lst_example)  # [1, 'NK', 3, 4, 5]\n",
    "\n",
    "tup_example = (1,2,3,4,5)\n",
    "tup_example[1] = \"NK\"\n",
    "print(tup_example)  # TypeError: 'tuple' object does not support item assignment"
   ]
  },
  {
   "cell_type": "code",
   "execution_count": null,
   "id": "5c6a5439",
   "metadata": {},
   "outputs": [],
   "source": [
    "new_chars = ('a', 'c', 'e', 'f', 'c', 'd', 'z')\n",
    "\n",
    "print(new_chars.count('c'))  # 2 (returns the count of an element)\n",
    "print(new_chars.index('a'))  # 0 (returns the first index of an element)"
   ]
  },
  {
   "cell_type": "code",
   "execution_count": null,
   "id": "a5b3b09c",
   "metadata": {},
   "outputs": [],
   "source": [
    "## Packing a Tuple\n",
    "\n",
    "packed_tup = 3,\"Joe\", 99.9, True\n",
    "print(packed_tup)  # (3, 'Joe', 99.9, True)"
   ]
  },
  {
   "cell_type": "code",
   "execution_count": null,
   "id": "49bb8906",
   "metadata": {},
   "outputs": [],
   "source": [
    "## Nested Tuples\n",
    "\n",
    "nested_tup = ((1,2,3), ('a','b','c'), (True, False))\n",
    "print(nested_tup)  # ((1, 2, 3), ('a', 'b', 'c'), (True, False))\n",
    "print(nested_tup[0])  # (1, 2, 3)\n",
    "print(nested_tup[0][2])  # 3\n",
    "print(nested_tup[1][2])  # c"
   ]
  },
  {
   "cell_type": "code",
   "execution_count": null,
   "id": "7ae3ec4e",
   "metadata": {},
   "outputs": [],
   "source": [
    "## Iterating over nested tuples\n",
    "\n",
    "for sub_tuple in nested_tup:\n",
    "    for item in sub_tuple:\n",
    "        print(item, end = \" \")\n",
    "    print()\n",
    "\n",
    "'''\n",
    "1 2 3 \n",
    "a b c \n",
    "True False \n",
    "'''"
   ]
  }
 ],
 "metadata": {
  "kernelspec": {
   "display_name": "Python 3",
   "language": "python",
   "name": "python3"
  },
  "language_info": {
   "codemirror_mode": {
    "name": "ipython",
    "version": 3
   },
   "file_extension": ".py",
   "mimetype": "text/x-python",
   "name": "python",
   "nbconvert_exporter": "python",
   "pygments_lexer": "ipython3",
   "version": "3.12.0"
  }
 },
 "nbformat": 4,
 "nbformat_minor": 5
}
