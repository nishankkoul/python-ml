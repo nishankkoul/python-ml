{
 "cells": [
  {
   "cell_type": "markdown",
   "id": "a10e1cbf",
   "metadata": {},
   "source": [
    "##### Understanding Exceptions\n",
    "\n",
    "Exception handling in Python allows you to gracefully handle errors and take corrective actions without stopping the execution of the program. This lesson will cover the basics of exceptions, including how to use try, except, else and finally block."
   ]
  },
  {
   "cell_type": "markdown",
   "id": "c13140fa",
   "metadata": {},
   "source": [
    "##### What are Exceptions?\n",
    "\n",
    "Exceptions are events that disrupt the normal flow of a program. They occur when an error is encountered during program execution. Common execptions include:\n",
    "\n",
    "-> ZeroDivisionError: Dividing by Zero\n",
    "-> FileNotFoundError: File not found\n",
    "-> ValueError: Invalid Value\n",
    "-> Type Error: Invalid Type"
   ]
  },
  {
   "cell_type": "code",
   "execution_count": 1,
   "id": "b644baf6",
   "metadata": {},
   "outputs": [],
   "source": [
    "## If we do this\n",
    "\n",
    "a = 10\n",
    "\n",
    "## This program will execute"
   ]
  },
  {
   "cell_type": "code",
   "execution_count": null,
   "id": "5be4496b",
   "metadata": {},
   "outputs": [],
   "source": [
    "## But if we do this\n",
    "\n",
    "x = y  # This will throw NameError: name 'y' is not defined. Here NameError is an exception."
   ]
  },
  {
   "cell_type": "code",
   "execution_count": null,
   "id": "9c2668a9",
   "metadata": {},
   "outputs": [],
   "source": [
    "## To handle this, we use the try and except block\n",
    "try:\n",
    "    x = y\n",
    "except:\n",
    "    print('The variable has not been assigned.')\n",
    "\n",
    "'''\n",
    "The variable has not been assigned.\n",
    "'''"
   ]
  },
  {
   "cell_type": "code",
   "execution_count": null,
   "id": "86581970",
   "metadata": {},
   "outputs": [],
   "source": [
    "## You can actually get to print the statement defining the error\n",
    "\n",
    "try:\n",
    "    x = y\n",
    "except NameError as ex:\n",
    "    print(ex)\n",
    "\n",
    "'''\n",
    "name 'y' is not defined\n",
    "'''"
   ]
  },
  {
   "cell_type": "code",
   "execution_count": null,
   "id": "ed9c2599",
   "metadata": {},
   "outputs": [],
   "source": [
    "## Some other type of error\n",
    "\n",
    "res = 1/0  # ZeroDivisionError: division by zero"
   ]
  },
  {
   "cell_type": "code",
   "execution_count": null,
   "id": "b2b29992",
   "metadata": {},
   "outputs": [],
   "source": [
    "## To handle the above\n",
    "\n",
    "try:\n",
    "    res = 1/0\n",
    "except ZeroDivisionError as ex:\n",
    "    print(ex)\n",
    "    print(\"Please enter the denominator greater than 0\")\n",
    "\n",
    "'''\n",
    "division by zero\n",
    "Please enter the denominator greater than 0\n",
    "'''"
   ]
  },
  {
   "cell_type": "code",
   "execution_count": null,
   "id": "eacc94ef",
   "metadata": {},
   "outputs": [],
   "source": [
    "try:\n",
    "    res = 1/2\n",
    "    x = y\n",
    "except ZeroDivisionError as ex:\n",
    "    print(ex)\n",
    "    print(\"Please enter the denominator greater than 0\")\n",
    "\n",
    "'''\n",
    "This will throw an error : NameError: name 'y' is not defined\n",
    "This is because we are handling ZeroDivisionError not NameError\n",
    "'''"
   ]
  },
  {
   "cell_type": "code",
   "execution_count": null,
   "id": "a2d56f56",
   "metadata": {},
   "outputs": [],
   "source": [
    "## To handle any exception we can use base common class for all exceptions which is 'Exception'\n",
    "\n",
    "try:\n",
    "    res = 1/2\n",
    "    x = y\n",
    "except ZeroDivisionError as ex:\n",
    "    print(ex)\n",
    "    print(\"Please enter the denominator greater than 0\")\n",
    "except Exception as ex1:  # Here, Exception is common base class for all Exceptions\n",
    "    print(ex1)\n",
    "\n",
    "'''\n",
    "Output\n",
    "\n",
    "name 'y' is not defined\n",
    "'''"
   ]
  },
  {
   "cell_type": "code",
   "execution_count": null,
   "id": "aec971ca",
   "metadata": {},
   "outputs": [],
   "source": [
    "## Example of taking number as input and handling exceptions accordingly\n",
    "\n",
    "try:\n",
    "    num = int(input(\"Enter a number\"))\n",
    "    res = 100/num\n",
    "    print(res)\n",
    "except ValueError as vex:\n",
    "    print(vex)\n",
    "    print(\"You have entered an invalid value, please enter an integer\")\n",
    "except ZeroDivisionError as zex:\n",
    "    print(zex)\n",
    "    print(\"Kindly enter denominator greater than 0\")\n",
    "except Exception as ex:\n",
    "    print(ex)"
   ]
  },
  {
   "cell_type": "code",
   "execution_count": null,
   "id": "31c04e45",
   "metadata": {},
   "outputs": [],
   "source": [
    "## try, except, else block\n",
    "\n",
    "try:\n",
    "    num = int(input(\"Enter a number\"))\n",
    "    res = 100/num\n",
    "except ValueError as vex:\n",
    "    print(vex)\n",
    "    print(\"You have entered an invalid value, please enter an integer\")\n",
    "except ZeroDivisionError as zex:\n",
    "    print(zex)\n",
    "    print(\"Kindly enter denominator greater than 0\")\n",
    "except Exception as ex:\n",
    "    print(ex)\n",
    "else:\n",
    "    print(res)\n",
    "\n",
    "## The else block runs only if no exception occurs in the try block. \n",
    "## If an exception is raised in try, Python skips the else block and goes to the matching except."
   ]
  },
  {
   "cell_type": "code",
   "execution_count": null,
   "id": "bbddda54",
   "metadata": {},
   "outputs": [],
   "source": [
    "## try, except, else, finally block\n",
    "\n",
    "try:\n",
    "    num = int(input(\"Enter a number\"))\n",
    "    res = 100/num\n",
    "except ValueError as vex:\n",
    "    print(vex)\n",
    "    print(\"You have entered an invalid value, please enter an integer\")\n",
    "except ZeroDivisionError as zex:\n",
    "    print(zex)\n",
    "    print(\"Kindly enter denominator greater than 0\")\n",
    "except Exception as ex:\n",
    "    print(ex)\n",
    "else:\n",
    "    print(res)\n",
    "finally:  ## finally will execute no matter what\n",
    "    print(\"Execution complete\")\n",
    "\n",
    "'''\n",
    "Input -> 22\n",
    "\n",
    "Output -> \n",
    "\n",
    "4.545454545454546\n",
    "Execution complete\n",
    "'''"
   ]
  },
  {
   "cell_type": "code",
   "execution_count": null,
   "id": "673658b0",
   "metadata": {},
   "outputs": [],
   "source": [
    "## File Handling and Exception Handling\n",
    "\n",
    "try:\n",
    "    with open('file.txt', 'r') as file:\n",
    "        content = file.read()\n",
    "        print(content)\n",
    "except FileNotFoundError as e:\n",
    "    print(\"File not found\")\n",
    "except Exception as ex:\n",
    "    print(ex)\n",
    "finally:\n",
    "    if 'file.txt' in locals() and not file.closed():\n",
    "        file.close()\n",
    "        print(\"File Closed\")"
   ]
  }
 ],
 "metadata": {
  "kernelspec": {
   "display_name": "Python 3",
   "language": "python",
   "name": "python3"
  },
  "language_info": {
   "codemirror_mode": {
    "name": "ipython",
    "version": 3
   },
   "file_extension": ".py",
   "mimetype": "text/x-python",
   "name": "python",
   "nbconvert_exporter": "python",
   "pygments_lexer": "ipython3",
   "version": "3.12.0"
  }
 },
 "nbformat": 4,
 "nbformat_minor": 5
}
